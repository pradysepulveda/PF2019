{
 "cells": [
  {
   "cell_type": "raw",
   "metadata": {},
   "source": [
    "<script>\n",
    "  function code_toggle() {\n",
    "    if (code_shown){\n",
    "      $('div.input').hide('500');\n",
    "      $('#toggleButton').val('Show Code')\n",
    "    } else {\n",
    "      $('div.input').show('500');\n",
    "      $('#toggleButton').val('Hide Code')\n",
    "    }\n",
    "    code_shown = !code_shown\n",
    "  }\n",
    "\n",
    "  $( document ).ready(function(){\n",
    "    code_shown=false;\n",
    "    $('div.input').hide()\n",
    "  });\n",
    "</script>\n",
    "<form action=\"javascript:code_toggle()\"><input type=\"submit\" id=\"toggleButton\" value=\"Show Code\"></form>"
   ]
  },
  {
   "cell_type": "markdown",
   "metadata": {},
   "source": [
    "# aDDM_gridSearch Script\n",
    "## Using z-scored values"
   ]
  },
  {
   "cell_type": "markdown",
   "metadata": {},
   "source": [
    "Implement the iterative step for the search of optimal parameter sets. Use of aDDM_pta_mla script from addm_toolbox (https://github.com/goptavares/aDDM-Toolbox)"
   ]
  },
  {
   "cell_type": "code",
   "execution_count": 1,
   "metadata": {},
   "outputs": [],
   "source": [
    "from __future__ import absolute_import\n",
    "import argparse\n",
    "import addm_toolbox \n",
    "import numpy as np\n",
    "import pandas as pd\n",
    "import os"
   ]
  },
  {
   "cell_type": "code",
   "execution_count": 2,
   "metadata": {},
   "outputs": [
    {
     "data": {
      "text/plain": [
       "<module 'addm_toolbox' from '/Users/pradyumna/anaconda/lib/python3.5/site-packages/addm_toolbox/__init__.py'>"
      ]
     },
     "execution_count": 2,
     "metadata": {},
     "output_type": "execute_result"
    }
   ],
   "source": [
    "addm_toolbox"
   ]
  },
  {
   "cell_type": "code",
   "execution_count": 3,
   "metadata": {},
   "outputs": [
    {
     "data": {
      "text/plain": [
       "<module 'addm_toolbox.addm_pta_mle_cont' from '/Users/pradyumna/anaconda/lib/python3.5/site-packages/addm_toolbox/addm_pta_mle_cont.py'>"
      ]
     },
     "execution_count": 3,
     "metadata": {},
     "output_type": "execute_result"
    }
   ],
   "source": [
    "addm_toolbox.addm_pta_mle_cont"
   ]
  },
  {
   "cell_type": "markdown",
   "metadata": {},
   "source": [
    "### + Free parameters in the model\n",
    "\n",
    "#####    d : controls speed of signal integration (Free DDM parameter)\n",
    "#####   sigma: standard deviation of normal distribution (Free DDM parameter)\n",
    "#####   theta: controls attentional bias (Free aDDM parameter)\n",
    "\n",
    "### + Inputs for toolobox addm_pta_mle script \n",
    "##### range_d,range_sigma,range_theta : range to define the grid for parameter search\n",
    "##### trials_file_name : filepath with trial conditions (to be used for simulations)\n",
    "##### expdata_file_name :  filepath with trial info [participant, trial number, RT, response, values]\n",
    "##### fixations_file_name : filepath with fixations info [participant, trial num, fixation_id, fixation_time]\n",
    "##### Extra parameters: trials_per_subject, simulations_per_condition, subject_ids (number of the subjects to be included for adjusting the parameters, num_threads (parallel processing),save_simulations, save_figures, verbose (deliver reports)\n",
    "\n",
    "###  + Initial grid selection:\n",
    "##### range_d = [0.003, 0.006, 0.009] ; range_sigma = [0.03, 0.06, 0.09] ; range_theta = [0.3, 0.5, 0.7]\n",
    "\n",
    "### + Iteration (adjustment to a new grid) "
   ]
  },
  {
   "cell_type": "markdown",
   "metadata": {},
   "source": [
    "#### ** aDDM grid iterations using version of the script that does not transform item values **"
   ]
  },
  {
   "cell_type": "markdown",
   "metadata": {},
   "source": [
    "## LESS INV condition"
   ]
  },
  {
   "cell_type": "code",
   "execution_count": null,
   "metadata": {},
   "outputs": [
    {
     "name": "stdout",
     "output_type": "stream",
     "text": [
      "Loading experimental data...\n",
      "Starting grid search...\n",
      "Computing likelihoods for model (0.001, 0.01, 0.6)...\n",
      "Computing likelihoods for model (0.001, 0.01, 0.7)...\n",
      "Computing likelihoods for model (0.001, 0.01, 0.8)...\n",
      "Computing likelihoods for model (0.001, 0.03, 0.6)...\n",
      "Computing likelihoods for model (0.001, 0.03, 0.7)...\n",
      "Computing likelihoods for model (0.001, 0.03, 0.8)...\n",
      "Computing likelihoods for model (0.001, 0.05, 0.6)...\n",
      "Computing likelihoods for model (0.001, 0.05, 0.7)...\n",
      "Computing likelihoods for model (0.001, 0.05, 0.8)...\n",
      "Computing likelihoods for model (0.002, 0.01, 0.6)...\n",
      "Computing likelihoods for model (0.002, 0.01, 0.7)...\n",
      "Computing likelihoods for model (0.002, 0.01, 0.8)...\n",
      "Computing likelihoods for model (0.002, 0.03, 0.6)...\n",
      "Computing likelihoods for model (0.002, 0.03, 0.7)...\n",
      "Computing likelihoods for model (0.002, 0.03, 0.8)...\n",
      "Computing likelihoods for model (0.002, 0.05, 0.6)...\n",
      "Computing likelihoods for model (0.002, 0.05, 0.7)...\n",
      "Computing likelihoods for model (0.002, 0.05, 0.8)...\n"
     ]
    }
   ],
   "source": [
    "condition_type_name = \"Less_zScore_32\"\n",
    "toSaveFolder = 'aDDM_simulations/'+condition_type_name+'/'\n",
    "\n",
    "iteration_data = []\n",
    "current_min_nll = 0\n",
    "previous_min_nll = 0\n",
    "\n",
    "# Initial grid selection\n",
    "#range_d = [0.003, 0.006, 0.009]\n",
    "#range_sigma = [0.03, 0.06, 0.09]\n",
    "#range_theta = [0.3, 0.5, 0.7]\n",
    "\n",
    "range_d = [0.001, 0.002,0.003]\n",
    "range_sigma = [0.01,0.03 ,0.05]\n",
    "range_theta = [0.6, 0.7,0.8]\n",
    "\n",
    "\n",
    "#data files definition\n",
    "trials_file_name = '/Users/pradyumna/Documents/GiTs/PF2019/InputData_aDDM/trial_conditions_parcode_zScore_test.csv'\n",
    "#expdata_file_name = '/Users/bdmlab/OneDrive - University College London/PhD Projects/GiTs/FF2018/InputData/expdata_FFA_Dislike_v2.csv'\n",
    "#fixations_file_name = '/Users/bdmlab/OneDrive - University College London/PhD Projects/GiTs/FF2018/InputData/fixations_FFA_Dislike_v2.csv'\n",
    "expdata_file_name = '/Users/pradyumna/Documents/GiTs/PF2019/InputData_aDDM/aDDM_expdata_PF2019_Less_zScore_32.csv'\n",
    "fixations_file_name = '/Users/pradyumna/Documents/GiTs/PF2019/InputData_aDDM/aDDM_Fix_PF2019_Less_NoBin_33.csv'\n",
    "\n",
    "trials_per_subject = 120\n",
    "simulations_per_condition = 400\n",
    "\n",
    "iter_num = 1\n",
    "\n",
    "subjectIds=[1] ## All participants\n",
    "\n",
    "\n",
    "#Add valueDiffs for plotting\n",
    "# For unbinned case\n",
    "#l = range(-300,301,5)\n",
    "#l = [x * 0.01 for x in l]\n",
    "\n",
    "# For bin case\n",
    "l = np.arange(-6,7,1)\n",
    "\n",
    "\n",
    "#Give a name to the folder to store the simulations\n",
    "if not os.path.exists('aDDM_simulations/'+condition_type_name):\n",
    "    os.makedirs('aDDM_simulations/'+condition_type_name)\n",
    "\n",
    "while ((abs(current_min_nll-previous_min_nll) > (previous_min_nll*0.05/100)) and ((current_min_nll-previous_min_nll)>0))  or iter_num == 1:\n",
    "    \n",
    "    if iter_num > 1:  \n",
    "        delta_d = range_d[1]-range_d[0]\n",
    "        delta_sigma = range_sigma[1] - range_sigma[0]\n",
    "        delta_theta = range_theta[1] - range_theta[0]\n",
    "        \n",
    "        range_d = [new_d - delta_d/2 , new_d ,new_d + delta_d/2]\n",
    "        range_sigma =[new_sigma - delta_sigma/2 , new_sigma ,new_sigma + delta_sigma/2]\n",
    "        range_theta =[new_theta - delta_theta/2 , new_theta ,new_theta + delta_theta/2]\n",
    "    \n",
    "    \n",
    "    # control for the limits 0 < theta < 1 \n",
    "    if range_theta[0]<0:\n",
    "        range_theta[0] = 0\n",
    "        \n",
    "    if range_theta[2]>1:\n",
    "        range_theta[0] = 1\n",
    "    \n",
    "    # control for the limits 0 < d \n",
    "    if range_d[0]<0:\n",
    "        range_d[0] = 0\n",
    "\n",
    "    \n",
    "    \n",
    " #run the toolbox\n",
    "    params, NLL = addm_toolbox.addm_pta_mle_cont.main(range_d, range_sigma, range_theta,\n",
    "                       trials_file_name, \n",
    "                       expdata_file_name,\n",
    "                       fixations_file_name, \n",
    "                       trials_per_subject,simulations_per_condition, subjectIds,\n",
    "                       9,saveSimulations=True, saveFigures=True,\n",
    "                       verbose = True)\n",
    "    \n",
    "    \n",
    "    \n",
    "    # Update the NLL values for this iteration\n",
    "    previous_min_nll = current_min_nll\n",
    "    current_min_nll = NLL\n",
    "    \n",
    "    #get the new values\n",
    "    new_d = params[0]\n",
    "    new_sigma = params[1]\n",
    "    new_theta = params[2]\n",
    "    \n",
    "    iteration_data.append([iter_num,new_d, new_sigma, new_theta,current_min_nll]) \n",
    "\n",
    "    iter_num = iter_num + 1\n",
    "\n",
    "    \n",
    "iteration_dataf=pd.DataFrame(iteration_data,columns=['Iteration', 'd', 'sigma', 'theta', 'min_NLL'])\n",
    "print (\"Finished iterations!!\")\n"
   ]
  },
  {
   "cell_type": "code",
   "execution_count": 5,
   "metadata": {},
   "outputs": [],
   "source": [
    "iteration_dataf.to_csv(toSaveFolder + 'ParameterIterations.csv',index = True)"
   ]
  },
  {
   "cell_type": "code",
   "execution_count": 6,
   "metadata": {},
   "outputs": [
    {
     "data": {
      "text/html": [
       "<div>\n",
       "<style scoped>\n",
       "    .dataframe tbody tr th:only-of-type {\n",
       "        vertical-align: middle;\n",
       "    }\n",
       "\n",
       "    .dataframe tbody tr th {\n",
       "        vertical-align: top;\n",
       "    }\n",
       "\n",
       "    .dataframe thead th {\n",
       "        text-align: right;\n",
       "    }\n",
       "</style>\n",
       "<table border=\"1\" class=\"dataframe\">\n",
       "  <thead>\n",
       "    <tr style=\"text-align: right;\">\n",
       "      <th></th>\n",
       "      <th>Iteration</th>\n",
       "      <th>d</th>\n",
       "      <th>sigma</th>\n",
       "      <th>theta</th>\n",
       "      <th>min_NLL</th>\n",
       "    </tr>\n",
       "  </thead>\n",
       "  <tbody>\n",
       "    <tr>\n",
       "      <th>0</th>\n",
       "      <td>1</td>\n",
       "      <td>0.001</td>\n",
       "      <td>0.05</td>\n",
       "      <td>0.01</td>\n",
       "      <td>13826.983475</td>\n",
       "    </tr>\n",
       "    <tr>\n",
       "      <th>1</th>\n",
       "      <td>2</td>\n",
       "      <td>0.001</td>\n",
       "      <td>0.05</td>\n",
       "      <td>0.01</td>\n",
       "      <td>13826.983475</td>\n",
       "    </tr>\n",
       "  </tbody>\n",
       "</table>\n",
       "</div>"
      ],
      "text/plain": [
       "   Iteration      d  sigma  theta       min_NLL\n",
       "0          1  0.001   0.05   0.01  13826.983475\n",
       "1          2  0.001   0.05   0.01  13826.983475"
      ]
     },
     "execution_count": 6,
     "metadata": {},
     "output_type": "execute_result"
    }
   ],
   "source": [
    "iteration_dataf"
   ]
  },
  {
   "cell_type": "markdown",
   "metadata": {},
   "source": [
    "*** "
   ]
  },
  {
   "cell_type": "code",
   "execution_count": null,
   "metadata": {},
   "outputs": [],
   "source": [
    "### "
   ]
  },
  {
   "cell_type": "raw",
   "metadata": {},
   "source": [
    "<script>\n",
    "  $(document).ready(function(){\n",
    "    $('div.prompt').hide();\n",
    "    $('div.back-to-top').hide();\n",
    "    $('nav#menubar').hide();\n",
    "    $('.breadcrumb').hide();\n",
    "    $('.hidden-print').hide();\n",
    "  });\n",
    "</script>\n",
    "\n",
    "<footer id=\"attribution\" style=\"float:right; color:#999; background:#fff;\">\n",
    "Created with Jupyter, delivered by Fastly, rendered by Rackspace.\n",
    "</footer>"
   ]
  }
 ],
 "metadata": {
  "kernelspec": {
   "display_name": "Python 3",
   "language": "python",
   "name": "python3"
  },
  "language_info": {
   "codemirror_mode": {
    "name": "ipython",
    "version": 3
   },
   "file_extension": ".py",
   "mimetype": "text/x-python",
   "name": "python",
   "nbconvert_exporter": "python",
   "pygments_lexer": "ipython3",
   "version": "3.7.3"
  }
 },
 "nbformat": 4,
 "nbformat_minor": 2
}
