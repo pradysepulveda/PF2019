{
 "cells": [
  {
   "cell_type": "code",
   "execution_count": null,
   "metadata": {},
   "outputs": [],
   "source": [
    "##<script>\n",
    "##  jQuery(document).ready(function($) {  \n",
    "##  \n",
    "##  $(window).on('load', function(){\n",
    "##    $('#preloader').fadeOut('slow',function(){$(this).remove();});\n",
    "##  });\n",
    "##  \n",
    "##  });\n",
    "##</script>\n",
    "##\n",
    "##<style type=\"text/css\">\n",
    "##  div#preloader { position: fixed; \n",
    "##      left: 0; \n",
    "##      top: 0; \n",
    "##      z-index: 999; \n",
    "##      width: 100%; \n",
    "##      height: 100%; \n",
    "##      overflow: visible; \n",
    "##      background: #fff url('http://preloaders.net/preloaders/720/Moving%20line.gif') no-repeat center center; \n",
    "##  }\n",
    "##\n",
    "##</style>\n",
    "##\n",
    "##<div id=\"preloader\">\n",
    "##\n",
    "##</div>"
   ]
  },
  {
   "cell_type": "raw",
   "metadata": {},
   "source": [
    "<script>\n",
    "  function code_toggle() {\n",
    "    if (code_shown){\n",
    "      $('div.input').hide('500');\n",
    "      $('#toggleButton').val('Show Code')\n",
    "    } else {\n",
    "      $('div.input').show('500');\n",
    "      $('#toggleButton').val('Hide Code')\n",
    "    }\n",
    "    code_shown = !code_shown\n",
    "  }\n",
    "\n",
    "  $( document ).ready(function(){\n",
    "    code_shown=false;\n",
    "    $('div.input').hide()\n",
    "  });\n",
    "</script>\n",
    "<form action=\"javascript:code_toggle()\"><input type=\"submit\" id=\"toggleButton\" value=\"Show Code\"></form>"
   ]
  },
  {
   "cell_type": "markdown",
   "metadata": {},
   "source": [
    "<a id='load'></a>\n",
    "# 0. Load data and excluding participants"
   ]
  },
  {
   "cell_type": "code",
   "execution_count": 14,
   "metadata": {},
   "outputs": [
    {
     "name": "stdout",
     "output_type": "stream",
     "text": [
      "[ 2  3  4  5  6  7  8  9 10 11 12 14 15 17 18 19 21 22 23 24 25 26 27 28\n",
      " 29 30 32 33]\n",
      "Number of participants: 28\n"
     ]
    }
   ],
   "source": [
    "# Load data all participants\n",
    "\n",
    "data_exp1 = pd.read_csv('/Users/pradyumna/Documents/GiTs/PF2019/Data/DataPerceptualFramingNotebook_v1.csv') \n",
    "\n",
    "for i in [1,13,16,20,31]:\n",
    "    data_exp1 = data_exp1[(data_exp1.Part != i)]\n",
    "print (data_exp1[\"Part\"].unique())\n",
    "print ('Number of participants: ' + str(len(data_exp1[\"Part\"].unique())))"
   ]
  },
  {
   "cell_type": "code",
   "execution_count": 15,
   "metadata": {},
   "outputs": [],
   "source": [
    "data_exp1=data_exp1.rename(index=str, columns={\"ChosenITM\":\"Choice\", \n",
    "                              \"ChoiceRT\":\"RT\",\n",
    "                             \"RValue\":\"RVal\",\n",
    "                             \"LValue\":\"LVal\",\n",
    "                             \"zRValue\":\"zRVal\",\n",
    "                             \"zLValue\":\"zLVal\",                    \n",
    "                             \"tDDT\":\"DDT\",\n",
    "                             \"absDDT\":\"zAbsDDT\",\n",
    "                             \"lIA_DT\":\"LDwellTime\",\n",
    "                             \"rIA_DT\":\"RDwellTime\",\n",
    "                             \"tGSF\":\"GSF\",\n",
    "                             \"lastFixat\":\"LastFixat\",\n",
    "                             \"DV\":\"DVal\",\n",
    "                             \"zDV\":\"zDVal\",\n",
    "                             \"absDV\":\"AbsDVal\",\n",
    "                             \"zAbsDV\":\"zAbsDVal\",                    \n",
    "                             \"zChoiceRT\":\"zRT\",\n",
    "                             \"FamCh\":\"ChosenFam\",\n",
    "                              \"FamUnCh\":\"UnchosenFam\",\n",
    "                              \"ValCh\":\"ChosenVal\",\n",
    "                              \"ValUnCh\":\"UnchosenVal\",\n",
    "                             \"zFamCh\":\"zChosenFam\",\n",
    "                              \"zFamUnCh\":\"zUnchosenFam\",\n",
    "                              \"zValCh\":\"zChosenVal\",\n",
    "                              \"zValUnCh\":\"zUnchosenVal\",                   \n",
    "                              \"GSFMedSplit\":\"GSFSplit\",\n",
    "                            \"DDTMedSplit\":\"DDTSplit\"})\n"
   ]
  },
  {
   "cell_type": "markdown",
   "metadata": {},
   "source": [
    "## Add missing zScored values"
   ]
  },
  {
   "cell_type": "code",
   "execution_count": 16,
   "metadata": {},
   "outputs": [],
   "source": [
    "data_exp1[\"zGSF\"] = z_score1(data_exp1,'Part',\"GSF\")\n",
    "data_exp1[\"zDDT\"] = z_score1(data_exp1,'Part',\"DDT\")\n",
    "data_exp1[\"AbsDDT\"] = abs(data_exp1[\"DDT\"])\n",
    "data_exp1[\"zAbsDDT\"] = z_score1(data_exp1,'Part',\"AbsDDT\")\n",
    "\n",
    "data_exp1[\"TotVal\"] = data_exp1['LVal']+ data_exp1['RVal']\n",
    "data_exp1[\"zTotVal\"] = z_score1(data_exp1,'Part',\"TotVal\")\n",
    "\n",
    "data_exp1[\"ChosenVal\"] = data_exp1['RVal']*data_exp1['Choice']+ data_exp1['LVal']*(1-data_exp1['Choice'])\n",
    "data_exp1[\"UnchosenVal\"] = data_exp1['LVal']*data_exp1['Choice']+ data_exp1['RVal']*(1-data_exp1['Choice'])\n",
    "data_exp1[\"zChosenVal\"] = z_score1(data_exp1,'Part',\"ChosenVal\")\n",
    "data_exp1[\"zUnchosenVal\"] = z_score1(data_exp1,'Part',\"UnchosenVal\")\n"
   ]
  },
  {
   "cell_type": "markdown",
   "metadata": {},
   "source": [
    "## Change the name of the BlockCond"
   ]
  },
  {
   "cell_type": "code",
   "execution_count": 17,
   "metadata": {},
   "outputs": [
    {
     "data": {
      "text/plain": [
       "array([1, 2])"
      ]
     },
     "execution_count": 17,
     "metadata": {},
     "output_type": "execute_result"
    }
   ],
   "source": [
    "# Change so everything is equal\n",
    "data_exp1 = data_exp1.replace('NEXTLESS', 'MORE')\n",
    "data_exp1 = data_exp1.replace('NEXTMORE', 'LESS')\n",
    "data_exp1['BlockCond'].unique()\n",
    "\n",
    "# Change so everything is equal\n",
    "data_exp1 = data_exp1.replace('MORE', 1)\n",
    "data_exp1 = data_exp1.replace('LESS', 2)\n",
    "data_exp1['BlockCond'].unique()"
   ]
  },
  {
   "cell_type": "markdown",
   "metadata": {},
   "source": [
    "## Add correct variable"
   ]
  },
  {
   "cell_type": "code",
   "execution_count": 18,
   "metadata": {},
   "outputs": [],
   "source": [
    "Correct = []\n",
    "for i in range(len(data_exp1)):\n",
    "    if data_exp1.BlockCond[i] == 1:\n",
    "        if (data_exp1.Choice[i] == 1 and (data_exp1.LVal[i] < data_exp1.RVal[i])) or (data_exp1.Choice[i] == 0 and (data_exp1.LVal[i] > data_exp1.RVal[i])):\n",
    "            Correct.append(1)\n",
    "        else:\n",
    "            Correct.append(0)\n",
    "    if data_exp1.BlockCond[i] == 2:\n",
    "        if (data_exp1.Choice[i] == 1 and (data_exp1.LVal[i] > data_exp1.RVal[i])) or (data_exp1.Choice[i] == 0 and (data_exp1.LVal[i] < data_exp1.RVal[i])):\n",
    "            Correct.append(1)\n",
    "        else:\n",
    "            Correct.append(0)\n",
    "\n",
    "data_exp1[\"Correct\"] = Correct"
   ]
  },
  {
   "cell_type": "markdown",
   "metadata": {},
   "source": [
    "## Add Splits variable"
   ]
  },
  {
   "cell_type": "code",
   "execution_count": 19,
   "metadata": {},
   "outputs": [],
   "source": [
    "data_splits = splitBy(data_exp1, Splits_headers = ['ConfSplit', 'GSFMedSplit','DDTMedSplit'],Splits_variables = ['Conf', 'GSF','DDT'])\n",
    "#data_exp11 = splitBy(data_exp1.loc[data_exp1['Part'] == 1], ['ConfSplit'], ['Conf'])\n"
   ]
  },
  {
   "cell_type": "code",
   "execution_count": 20,
   "metadata": {},
   "outputs": [],
   "source": [
    "data_exp1['ConfSplit'] = data_splits['ConfSplit'].values\n",
    "data_exp1['GSFSplit'] = data_splits['GSFMedSplit'].values\n",
    "data_exp1['DDTSplit'] = data_splits['DDTMedSplit'].values"
   ]
  },
  {
   "cell_type": "markdown",
   "metadata": {},
   "source": [
    "## Define choice models"
   ]
  },
  {
   "cell_type": "code",
   "execution_count": 21,
   "metadata": {},
   "outputs": [
    {
     "data": {
      "text/html": [
       "<div>\n",
       "<style scoped>\n",
       "    .dataframe tbody tr th:only-of-type {\n",
       "        vertical-align: middle;\n",
       "    }\n",
       "\n",
       "    .dataframe tbody tr th {\n",
       "        vertical-align: top;\n",
       "    }\n",
       "\n",
       "    .dataframe thead th {\n",
       "        text-align: right;\n",
       "    }\n",
       "</style>\n",
       "<table border=\"1\" class=\"dataframe\">\n",
       "  <thead>\n",
       "    <tr style=\"text-align: right;\">\n",
       "      <th></th>\n",
       "      <th>Models</th>\n",
       "      <th>Formulas</th>\n",
       "    </tr>\n",
       "  </thead>\n",
       "  <tbody>\n",
       "    <tr>\n",
       "      <th>0</th>\n",
       "      <td>Empty</td>\n",
       "      <td>Choice ~ 1</td>\n",
       "    </tr>\n",
       "    <tr>\n",
       "      <th>1</th>\n",
       "      <td>Model 1</td>\n",
       "      <td>Choice ~ Difference in Value</td>\n",
       "    </tr>\n",
       "    <tr>\n",
       "      <th>2</th>\n",
       "      <td>Model 2</td>\n",
       "      <td>Choice ~ Difference in Value + Confidence</td>\n",
       "    </tr>\n",
       "    <tr>\n",
       "      <th>3</th>\n",
       "      <td>Model 3</td>\n",
       "      <td>Choice ~ Difference in Value + Confidence + Total Value</td>\n",
       "    </tr>\n",
       "    <tr>\n",
       "      <th>4</th>\n",
       "      <td>Model 4</td>\n",
       "      <td>Choice ~ Difference in Value + Confidence + Total Value + Difference in Dwell Time</td>\n",
       "    </tr>\n",
       "    <tr>\n",
       "      <th>5</th>\n",
       "      <td>Model 5</td>\n",
       "      <td>Choice ~ Difference in Value + Confidence + Total Value + Difference in Dwell Time + Difference in Value * Confidence</td>\n",
       "    </tr>\n",
       "    <tr>\n",
       "      <th>6</th>\n",
       "      <td>Model 6</td>\n",
       "      <td>Choice ~ Difference in Value + Confidence + Total Value + Difference in Dwell Time + Difference in Value * Confidence + Difference in Value * Total Value</td>\n",
       "    </tr>\n",
       "    <tr>\n",
       "      <th>7</th>\n",
       "      <td>Model 7</td>\n",
       "      <td>Choice ~ Difference in Value + Confidence + Total Value + Difference in Dwell Time + Difference in Value * Confidence + Difference in Value * Total Value + Confidence * Difference in Dwell Time</td>\n",
       "    </tr>\n",
       "    <tr>\n",
       "      <th>8</th>\n",
       "      <td>Model 8</td>\n",
       "      <td>Choice ~ Difference in Value + Confidence + Total Value + Difference in Dwell Time + Gaze Shift Frequency + Difference in Value * Confidence + Difference in Value * Total Value + Confidence * Difference in Dwell Time + Difference in Value * Gaze Shift Frequency</td>\n",
       "    </tr>\n",
       "  </tbody>\n",
       "</table>\n",
       "</div>"
      ],
      "text/plain": [
       "    Models  \\\n",
       "0    Empty   \n",
       "1  Model 1   \n",
       "2  Model 2   \n",
       "3  Model 3   \n",
       "4  Model 4   \n",
       "5  Model 5   \n",
       "6  Model 6   \n",
       "7  Model 7   \n",
       "8  Model 8   \n",
       "\n",
       "                                                                                                                                                                                                                                                                Formulas  \n",
       "0                                                                                                                                                                                                                                                             Choice ~ 1  \n",
       "1                                                                                                                                                                                                                                           Choice ~ Difference in Value  \n",
       "2                                                                                                                                                                                                                              Choice ~ Difference in Value + Confidence  \n",
       "3                                                                                                                                                                                                                Choice ~ Difference in Value + Confidence + Total Value  \n",
       "4                                                                                                                                                                                     Choice ~ Difference in Value + Confidence + Total Value + Difference in Dwell Time  \n",
       "5                                                                                                                                                  Choice ~ Difference in Value + Confidence + Total Value + Difference in Dwell Time + Difference in Value * Confidence  \n",
       "6                                                                                                              Choice ~ Difference in Value + Confidence + Total Value + Difference in Dwell Time + Difference in Value * Confidence + Difference in Value * Total Value  \n",
       "7                                                                      Choice ~ Difference in Value + Confidence + Total Value + Difference in Dwell Time + Difference in Value * Confidence + Difference in Value * Total Value + Confidence * Difference in Dwell Time  \n",
       "8  Choice ~ Difference in Value + Confidence + Total Value + Difference in Dwell Time + Gaze Shift Frequency + Difference in Value * Confidence + Difference in Value * Total Value + Confidence * Difference in Dwell Time + Difference in Value * Gaze Shift Frequency  "
      ]
     },
     "execution_count": 21,
     "metadata": {},
     "output_type": "execute_result"
    }
   ],
   "source": [
    "choice_models = ['Empty', 'Model 1', 'Model 2', 'Model 3', 'Model 4', 'Model 5',\n",
    "                 'Model 6', 'Model 7','Model 8']\n",
    "choice_formulas = ['Choice ~ 1', 'Choice ~ Difference in Value', 'Choice ~ Difference in Value + Confidence',\n",
    "                   'Choice ~ Difference in Value + Confidence + Total Value',\n",
    "                  'Choice ~ Difference in Value + Confidence + Total Value + Difference in Dwell Time',\n",
    "                  'Choice ~ Difference in Value + Confidence + Total Value + Difference in Dwell Time + Difference in Value * Confidence',\n",
    "                  'Choice ~ Difference in Value + Confidence + Total Value + Difference in Dwell Time + Difference in Value * Confidence + Difference in Value * Total Value',\n",
    "                  'Choice ~ Difference in Value + Confidence + Total Value + Difference in Dwell Time + Difference in Value * Confidence + Difference in Value * Total Value + Confidence * Difference in Dwell Time',\n",
    "                   'Choice ~ Difference in Value + Confidence + Total Value + Difference in Dwell Time + Gaze Shift Frequency + Difference in Value * Confidence + Difference in Value * Total Value + Confidence * Difference in Dwell Time + Difference in Value * Gaze Shift Frequency']\n",
    "Choice_Table = pd.DataFrame([choice_models, choice_formulas])\n",
    "Choice_Table = Choice_Table.transpose(); Choice_Table.columns = ['Models', 'Formulas']\n",
    "Choice_Table_like = Choice_Table.copy()\n",
    "Choice_Table_dislike = Choice_Table.copy()\n",
    "pd.set_option('max_colwidth', 300)\n",
    "Choice_Table"
   ]
  },
  {
   "cell_type": "markdown",
   "metadata": {},
   "source": [
    "# Load dataframe in R"
   ]
  },
  {
   "cell_type": "code",
   "execution_count": 22,
   "metadata": {},
   "outputs": [
    {
     "name": "stderr",
     "output_type": "stream",
     "text": [
      "/anaconda3/lib/python3.7/site-packages/rpy2/robjects/pandas2ri.py:191: FutureWarning: from_items is deprecated. Please use DataFrame.from_dict(dict(items), ...) instead. DataFrame.from_dict(OrderedDict(items)) may be used to preserve the key order.\n",
      "  res = PandasDataFrame.from_items(items)\n"
     ]
    }
   ],
   "source": [
    "%R -i data_exp1"
   ]
  },
  {
   "cell_type": "code",
   "execution_count": 23,
   "metadata": {},
   "outputs": [],
   "source": [
    "%%R\n",
    "# Separating the data for both conditions \n",
    "data_exp1_Like <- data_exp1[ which(data_exp1$BlockCond=='1'),]\n",
    "data_exp1_DisLike <- data_exp1[ which(data_exp1$BlockCond=='2'),]"
   ]
  },
  {
   "cell_type": "markdown",
   "metadata": {},
   "source": [
    "# Choice Models"
   ]
  },
  {
   "cell_type": "markdown",
   "metadata": {},
   "source": [
    "## Models for More frame\n",
    "---------------------------------------------------\n",
    "we test various nested models"
   ]
  },
  {
   "cell_type": "code",
   "execution_count": 24,
   "metadata": {},
   "outputs": [
    {
     "data": {
      "text/plain": [
       "[1] \"Done!\"\n",
       "[1] \"Done!\"\n",
       "[1] \"Done!\"\n",
       "[1] \"Done!\"\n",
       "[1] \"Done!\"\n",
       "[1] \"Done!\"\n",
       "[1] \"Done!\"\n",
       "[1] \"Done!\"\n",
       "[1] \"Done!\"\n"
      ]
     },
     "metadata": {},
     "output_type": "display_data"
    }
   ],
   "source": [
    "%%R\n",
    "\n",
    "if (file.exists('SavedModels/ComparisonModels_Choice_More_GlamEx_m2.rda')){\n",
    "    load('SavedModels/ComparisonModels_Choice_More_GlamEx_m2.rda')   \n",
    "    print('  Found old parameter estimates in \"SavedModels/\". Skipping estimation...')\n",
    "}\n",
    "\n",
    "else{\n",
    "   choice_emptya_L = glmer(Choice ~ 1 + (1 | Part), data=data_exp1_Like, family='binomial',\n",
    "                    control=glmerControl(optimizer=\"optimx\", optCtrl=list(method=\"nlminb\")))\n",
    "    print (\"Done!\")\n",
    "\n",
    "\n",
    "    choice_model_1L =  glmer(Choice ~ zDVal + (zDVal | Part), data=data_exp1_Like, family='binomial',\n",
    "                    control=glmerControl(optimizer=\"optimx\", optCtrl=list(method=\"nlminb\")))\n",
    "    \n",
    "    print (\"Done!\")\n",
    "    \n",
    "    \n",
    "    choice_model_2L =  glmer(Choice ~ zDVal + zConf + (zDVal + zConf | Part), data=data_exp1_Like, family='binomial',\n",
    "                    control=glmerControl(optimizer=\"optimx\", optCtrl=list(method=\"nlminb\")))\n",
    "    print (\"Done!\")\n",
    "\n",
    "    choice_model_3L =  glmer(Choice ~ zDVal + zConf + zTotVal +  (zDVal + zConf + zTotVal | Part),\n",
    "                         data=data_exp1_Like, family='binomial',\n",
    "                    control=glmerControl(optimizer=\"optimx\", optCtrl=list(method=\"nlminb\")))\n",
    "    print (\"Done!\")\n",
    "    \n",
    "    choice_model_4L =  glmer(Choice ~ zDVal + zConf + zTotVal + zDDT +  (zDVal + zConf\n",
    "                        + zTotVal  + zDDT | Part),\n",
    "                         data=data_exp1_Like, family='binomial',\n",
    "                    control=glmerControl(optimizer=\"optimx\", optCtrl=list(method=\"nlminb\")))\n",
    "    print (\"Done!\")\n",
    "\n",
    "    \n",
    "    choice_model_5L =  glmer(Choice ~ zDVal + zConf + zTotVal + zDDT + zConf:zDVal + \n",
    "                        (zDVal + zConf + zTotVal + zDDT  + zConf:zDVal | Part),\n",
    "                         data=data_exp1_Like, family='binomial',\n",
    "                    control=glmerControl(optimizer=\"optimx\", optCtrl=list(method=\"nlminb\")))\n",
    "    \n",
    "    print (\"Done!\")\n",
    "    \n",
    "    \n",
    "    choice_model_6L =  glmer(Choice ~ zDVal + zConf + zTotVal + zDDT + zConf:zDVal  + zTotVal:zDVal + \n",
    "                        (zDVal + zConf + zTotVal + zDDT  + zConf:zDVal + zTotVal:zDVal | Part),\n",
    "                         data=data_exp1_Like, family='binomial',\n",
    "                    control=glmerControl(optimizer=\"optimx\", optCtrl=list(method=\"nlminb\")))\n",
    "    print (\"Done!\")\n",
    "\n",
    "    choice_model_7L =  glmer(Choice ~ zDVal + zConf + zTotVal + zDDT + zConf:zDVal  + zTotVal:zDVal + zDDT:zConf +\n",
    "                        (zDVal + zConf + zTotVal + zDDT + zConf:zDVal  + zTotVal:zDVal + zDDT:zConf | Part),\n",
    "                         data=data_exp1_Like, family='binomial',\n",
    "                    control=glmerControl(optimizer=\"optimx\", optCtrl=list(method=\"nlminb\")))\n",
    "    print (\"Done!\")\n",
    "\n",
    "    choice_model_8L =  glmer(Choice ~ zDVal + zConf + zTotVal + zDDT + zConf:zDVal  + zTotVal:zDVal + zDDT:zConf +\n",
    "                         zGSF + zGSF:zDVal + (zDVal + zConf + zTotVal + zDDT + zConf:zDVal  + zTotVal:zDVal + zDDT:zConf +\n",
    "                         zGSF + zGSF:zDVal| Part),\n",
    "                         data=data_exp1_Like, family='binomial',\n",
    "                    control=glmerControl(optimizer=\"optimx\", optCtrl=list(method=\"nlminb\")))\n",
    "    print (\"Done!\")\n",
    "    \n",
    "    \n",
    "    save(choice_emptya_L, choice_model_1L, choice_model_2L,\n",
    "                    choice_model_3L, choice_model_4L, choice_model_5L,\n",
    "                   choice_model_6L, choice_model_7L,choice_model_8L, file = \"SavedModels/ComparisonModels_Choice_More_GlamEx_m2.rda\")\n",
    "}"
   ]
  },
  {
   "cell_type": "markdown",
   "metadata": {},
   "source": [
    "## Model comparison¶\n"
   ]
  },
  {
   "cell_type": "code",
   "execution_count": 25,
   "metadata": {},
   "outputs": [],
   "source": [
    "%%R\n",
    "comparison_choice_L =anova(choice_emptya_L, choice_model_1L, choice_model_2L,\n",
    "                    choice_model_3L, choice_model_4L, choice_model_5L,\n",
    "                   choice_model_6L, choice_model_7L,choice_model_8L)\n",
    "BIC1_choice_L = list(comparison_choice_L$BIC)"
   ]
  },
  {
   "cell_type": "code",
   "execution_count": 26,
   "metadata": {},
   "outputs": [
    {
     "data": {
      "text/plain": [
       "Data: data_exp1_Like\n",
       "Models:\n",
       "choice_emptya_L: Choice ~ 1 + (1 | Part)\n",
       "choice_model_1L: Choice ~ zDVal + (zDVal | Part)\n",
       "choice_model_2L: Choice ~ zDVal + zConf + (zDVal + zConf | Part)\n",
       "choice_model_3L: Choice ~ zDVal + zConf + zTotVal + (zDVal + zConf + zTotVal | \n",
       "choice_model_3L:     Part)\n",
       "choice_model_4L: Choice ~ zDVal + zConf + zTotVal + zDDT + (zDVal + zConf + zTotVal + \n",
       "choice_model_4L:     zDDT | Part)\n",
       "choice_model_5L: Choice ~ zDVal + zConf + zTotVal + zDDT + zConf:zDVal + (zDVal + \n",
       "choice_model_5L:     zConf + zTotVal + zDDT + zConf:zDVal | Part)\n",
       "choice_model_6L: Choice ~ zDVal + zConf + zTotVal + zDDT + zConf:zDVal + zTotVal:zDVal + \n",
       "choice_model_6L:     (zDVal + zConf + zTotVal + zDDT + zConf:zDVal + zTotVal:zDVal | \n",
       "choice_model_6L:         Part)\n",
       "choice_model_7L: Choice ~ zDVal + zConf + zTotVal + zDDT + zConf:zDVal + zTotVal:zDVal + \n",
       "choice_model_7L:     zDDT:zConf + (zDVal + zConf + zTotVal + zDDT + zConf:zDVal + \n",
       "choice_model_7L:     zTotVal:zDVal + zDDT:zConf | Part)\n",
       "choice_model_8L: Choice ~ zDVal + zConf + zTotVal + zDDT + zConf:zDVal + zTotVal:zDVal + \n",
       "choice_model_8L:     zDDT:zConf + zGSF + zGSF:zDVal + (zDVal + zConf + zTotVal + \n",
       "choice_model_8L:     zDDT + zConf:zDVal + zTotVal:zDVal + zDDT:zConf + zGSF + \n",
       "choice_model_8L:     zGSF:zDVal | Part)\n",
       "                Df    AIC    BIC  logLik deviance    Chisq Chi Df Pr(>Chisq)\n",
       "choice_emptya_L  2 4553.1 4565.3 -2274.5   4549.1                           \n",
       "choice_model_1L  5 3265.4 3296.0 -1627.7   3255.4 1293.645      3  < 2.2e-16\n",
       "choice_model_2L  9 3253.9 3309.0 -1618.0   3235.9   19.523      4  0.0006201\n",
       "choice_model_3L 14 3251.5 3337.2 -1611.8   3223.5   12.406      5  0.0296274\n",
       "choice_model_4L 20 2503.7 2626.0 -1231.8   2463.7  759.849      6  < 2.2e-16\n",
       "choice_model_5L 27 2435.7 2600.9 -1190.8   2381.7   81.999      7  5.384e-15\n",
       "choice_model_6L 35 2422.4 2636.6 -1176.2   2352.4   29.271      8  0.0002842\n",
       "choice_model_7L 44 2404.5 2673.8 -1158.3   2316.5   35.872      9  4.178e-05\n",
       "choice_model_8L 65 2411.3 2809.1 -1140.7   2281.3   35.198     21  0.0268522\n",
       "                   \n",
       "choice_emptya_L    \n",
       "choice_model_1L ***\n",
       "choice_model_2L ***\n",
       "choice_model_3L *  \n",
       "choice_model_4L ***\n",
       "choice_model_5L ***\n",
       "choice_model_6L ***\n",
       "choice_model_7L ***\n",
       "choice_model_8L *  \n",
       "---\n",
       "Signif. codes:  0 ‘***’ 0.001 ‘**’ 0.01 ‘*’ 0.05 ‘.’ 0.1 ‘ ’ 1\n"
      ]
     },
     "metadata": {},
     "output_type": "display_data"
    }
   ],
   "source": [
    "%%R\n",
    "comparison_choice_L"
   ]
  },
  {
   "cell_type": "code",
   "execution_count": 27,
   "metadata": {},
   "outputs": [],
   "source": [
    "%R -o BIC1_choice_L\n",
    "BIC1a = np.array(BIC1_choice_L); BIC1a = BIC1a[0]\n",
    "Choice_Table_like['BIC'] = BIC1a\n"
   ]
  },
  {
   "cell_type": "code",
   "execution_count": 28,
   "metadata": {},
   "outputs": [],
   "source": [
    "#BIC_bar(Choice_Table_like.loc[1:, :].copy().reset_index(drop=True), title='',color1 = '#4F6A9A' )\n",
    "#plt.tight_layout()\n",
    "#plt.savefig('../../figures/exp1_choice_models.png', dpi=600)"
   ]
  },
  {
   "cell_type": "markdown",
   "metadata": {},
   "source": [
    "## Models for LESS frame\n",
    "---------------------------------------------------------\n",
    "we test various nested models"
   ]
  },
  {
   "cell_type": "code",
   "execution_count": 29,
   "metadata": {},
   "outputs": [
    {
     "data": {
      "text/plain": [
       "[1] \"Done!\"\n",
       "[1] \"Done!\"\n",
       "[1] \"Done!\"\n",
       "[1] \"Done!\"\n"
      ]
     },
     "metadata": {},
     "output_type": "display_data"
    }
   ],
   "source": [
    "%%R\n",
    "\n",
    "if (file.exists('SavedModels/ComparisonModels_Choice_Less_GlamEx_m2.rda')){\n",
    "    load('SavedModels/ComparisonModels_Choice_Less_GlamEx_m2.rda')   \n",
    "    print('  Found old parameter estimates in \"SavedModels/estimates\". Skipping estimation...')\n",
    "}\n",
    "\n",
    "else{\n",
    "choice_emptya_D = glmer(Choice ~ 1 + (1 | Part), data=data_exp1_DisLike, family='binomial',\n",
    "                    control=glmerControl(optimizer=\"optimx\", optCtrl=list(method=\"nlminb\")))\n",
    "\n",
    "choice_model_1D =  glmer(Choice ~ zDVal + (zDVal | Part), data=data_exp1_DisLike, family='binomial',\n",
    "                    control=glmerControl(optimizer=\"optimx\", optCtrl=list(method=\"nlminb\")))\n",
    "print (\"Done!\")\n",
    "\n",
    "\n",
    "choice_model_2D =  glmer(Choice ~ zDVal + zConf + (zDVal + zConf | Part), data=data_exp1_DisLike, family='binomial',\n",
    "                    control=glmerControl(optimizer=\"optimx\", optCtrl=list(method=\"nlminb\")))\n",
    "\n",
    "choice_model_3D =  glmer(Choice ~ zDVal + zConf + zTotVal +  (zDVal + zConf + zTotVal | Part),\n",
    "                         data=data_exp1_DisLike, family='binomial',\n",
    "                    control=glmerControl(optimizer=\"optimx\", optCtrl=list(method=\"nlminb\")))\n",
    "print (\"Done!\")\n",
    "\n",
    "choice_model_4D =  glmer(Choice ~ zDVal + zConf + zTotVal + zDDT +  (zDVal + zConf\n",
    "                        + zTotVal  + zDDT | Part),\n",
    "                         data=data_exp1_DisLike, family='binomial',\n",
    "                    control=glmerControl(optimizer=\"optimx\", optCtrl=list(method=\"nlminb\")))\n",
    "\n",
    "choice_model_5D =  glmer(Choice ~ zDVal + zConf + zTotVal + zDDT + zConf:zDVal + \n",
    "                        (zDVal + zConf + zTotVal + zDDT  + zConf:zDVal | Part),\n",
    "                         data=data_exp1_DisLike, family='binomial',\n",
    "                    control=glmerControl(optimizer=\"optimx\", optCtrl=list(method=\"nlminb\")))\n",
    "print (\"Done!\")\n",
    "\n",
    "choice_model_6D =  glmer(Choice ~ zDVal + zConf + zTotVal + zDDT + zConf:zDVal  + zTotVal:zDVal + \n",
    "                        (zDVal + zConf + zTotVal + zDDT  + zConf:zDVal + zTotVal:zDVal | Part),\n",
    "                         data=data_exp1_DisLike, family='binomial',\n",
    "                    control=glmerControl(optimizer=\"optimx\", optCtrl=list(method=\"nlminb\")))\n",
    "\n",
    "choice_model_7D =  glmer(Choice ~ zDVal + zConf + zTotVal + zDDT + zConf:zDVal  + zTotVal:zDVal + zDDT:zConf +\n",
    "                        (zDVal + zConf + zTotVal + zDDT + zConf:zDVal  + zTotVal:zDVal + zDDT:zConf | Part),\n",
    "                         data=data_exp1_DisLike, family='binomial',\n",
    "                    control=glmerControl(optimizer=\"optimx\", optCtrl=list(method=\"nlminb\")))\n",
    "\n",
    "choice_model_8D =  glmer(Choice ~ zDVal + zConf + zTotVal + zDDT + zConf:zDVal  + zTotVal:zDVal + zDDT:zConf +\n",
    "                         zGSF + zGSF:zDVal + (zDVal + zConf + zTotVal + zDDT + zConf:zDVal  + zTotVal:zDVal + zDDT:zConf +\n",
    "                         zGSF + zGSF:zDVal| Part),\n",
    "                         data=data_exp1_DisLike, family='binomial',\n",
    "                    control=glmerControl(optimizer=\"optimx\", optCtrl=list(method=\"nlminb\")))\n",
    "print (\"Done!\")\n",
    "    \n",
    "save(choice_emptya_D, choice_model_1D, choice_model_2D,\n",
    "                    choice_model_3D, choice_model_4D, choice_model_5D,\n",
    "                   choice_model_6D, choice_model_7D,choice_model_8D, file = \"SavedModels/ComparisonModels_Choice_Less_GlamEx_m2.rda\")\n",
    "    \n",
    "}"
   ]
  },
  {
   "cell_type": "markdown",
   "metadata": {},
   "source": [
    "## Model comparison¶\n"
   ]
  },
  {
   "cell_type": "code",
   "execution_count": 30,
   "metadata": {},
   "outputs": [],
   "source": [
    "%%R\n",
    "comparison_choice_D =anova(choice_emptya_D, choice_model_1D, choice_model_2D,\n",
    "                    choice_model_3D, choice_model_4D, choice_model_5D,\n",
    "                   choice_model_6D, choice_model_7D,choice_model_8D)\n",
    "BIC1_choice_D = list(comparison_choice_D$BIC)"
   ]
  },
  {
   "cell_type": "code",
   "execution_count": 31,
   "metadata": {},
   "outputs": [
    {
     "data": {
      "text/plain": [
       "Data: data_exp1_DisLike\n",
       "Models:\n",
       "choice_emptya_D: Choice ~ 1 + (1 | Part)\n",
       "choice_model_1D: Choice ~ zDVal + (zDVal | Part)\n",
       "choice_model_2D: Choice ~ zDVal + zConf + (zDVal + zConf | Part)\n",
       "choice_model_3D: Choice ~ zDVal + zConf + zTotVal + (zDVal + zConf + zTotVal | \n",
       "choice_model_3D:     Part)\n",
       "choice_model_4D: Choice ~ zDVal + zConf + zTotVal + zDDT + (zDVal + zConf + zTotVal + \n",
       "choice_model_4D:     zDDT | Part)\n",
       "choice_model_5D: Choice ~ zDVal + zConf + zTotVal + zDDT + zConf:zDVal + (zDVal + \n",
       "choice_model_5D:     zConf + zTotVal + zDDT + zConf:zDVal | Part)\n",
       "choice_model_6D: Choice ~ zDVal + zConf + zTotVal + zDDT + zConf:zDVal + zTotVal:zDVal + \n",
       "choice_model_6D:     (zDVal + zConf + zTotVal + zDDT + zConf:zDVal + zTotVal:zDVal | \n",
       "choice_model_6D:         Part)\n",
       "choice_model_7D: Choice ~ zDVal + zConf + zTotVal + zDDT + zConf:zDVal + zTotVal:zDVal + \n",
       "choice_model_7D:     zDDT:zConf + (zDVal + zConf + zTotVal + zDDT + zConf:zDVal + \n",
       "choice_model_7D:     zTotVal:zDVal + zDDT:zConf | Part)\n",
       "choice_model_8D: Choice ~ zDVal + zConf + zTotVal + zDDT + zConf:zDVal + zTotVal:zDVal + \n",
       "choice_model_8D:     zDDT:zConf + zGSF + zGSF:zDVal + (zDVal + zConf + zTotVal + \n",
       "choice_model_8D:     zDDT + zConf:zDVal + zTotVal:zDVal + zDDT:zConf + zGSF + \n",
       "choice_model_8D:     zGSF:zDVal | Part)\n",
       "                Df    AIC    BIC  logLik deviance     Chisq Chi Df Pr(>Chisq)\n",
       "choice_emptya_D  2 4430.5 4442.7 -2213.2   4426.5                            \n",
       "choice_model_1D  5 3222.7 3253.3 -1606.4   3212.7 1213.7204      3  < 2.2e-16\n",
       "choice_model_2D  9 3221.8 3276.9 -1601.9   3203.8    8.8841      4   0.064063\n",
       "choice_model_3D 14 3223.7 3309.4 -1597.8   3195.7    8.1730      5   0.146953\n",
       "choice_model_4D 20 2385.2 2507.6 -1172.6   2345.2  850.4848      6  < 2.2e-16\n",
       "choice_model_5D 27 2337.6 2502.8 -1141.8   2283.6   61.6165      7  7.174e-11\n",
       "choice_model_6D 35 2345.7 2559.8 -1137.8   2275.7    7.9190      8   0.441418\n",
       "choice_model_7D 44 2340.2 2609.4 -1126.1   2252.2   23.4710      9   0.005221\n",
       "choice_model_8D 65 2335.4 2733.2 -1102.7   2205.4   46.7771     21   0.001006\n",
       "                   \n",
       "choice_emptya_D    \n",
       "choice_model_1D ***\n",
       "choice_model_2D .  \n",
       "choice_model_3D    \n",
       "choice_model_4D ***\n",
       "choice_model_5D ***\n",
       "choice_model_6D    \n",
       "choice_model_7D ** \n",
       "choice_model_8D ** \n",
       "---\n",
       "Signif. codes:  0 ‘***’ 0.001 ‘**’ 0.01 ‘*’ 0.05 ‘.’ 0.1 ‘ ’ 1\n"
      ]
     },
     "metadata": {},
     "output_type": "display_data"
    }
   ],
   "source": [
    "%%R\n",
    "comparison_choice_D"
   ]
  },
  {
   "cell_type": "code",
   "execution_count": 32,
   "metadata": {},
   "outputs": [],
   "source": [
    "%R -o BIC1_choice_D\n",
    "BIC1d = np.array(BIC1_choice_D); BIC1d = BIC1d[0]\n",
    "Choice_Table_dislike['BIC'] = BIC1d"
   ]
  },
  {
   "cell_type": "code",
   "execution_count": 33,
   "metadata": {},
   "outputs": [],
   "source": [
    "%R -o BIC1_choice_D -o BIC1_choice_L\n",
    "\n",
    "Choice_Table_like1 = np.array(BIC1_choice_L)[0]\n",
    "Choice_Table_dislike1 = np.array(BIC1_choice_D)[0]"
   ]
  },
  {
   "cell_type": "code",
   "execution_count": 34,
   "metadata": {},
   "outputs": [],
   "source": [
    "Choice_Table_like['BIC'] = Choice_Table_like1\n",
    "Choice_Table_dislike['BIC'] = Choice_Table_dislike1"
   ]
  },
  {
   "cell_type": "code",
   "execution_count": 35,
   "metadata": {},
   "outputs": [
    {
     "name": "stderr",
     "output_type": "stream",
     "text": [
      "/anaconda3/lib/python3.7/site-packages/matplotlib/cbook/deprecation.py:107: MatplotlibDeprecationWarning: Adding an axes using the same arguments as a previous axes currently reuses the earlier instance.  In a future version, a new instance will always be created and returned.  Meanwhile, this warning can be suppressed, and the future behavior ensured, by passing a unique label to each axes instance.\n",
      "  warnings.warn(message, mplDeprecation, stacklevel=1)\n"
     ]
    },
    {
     "data": {
      "image/png": "[encoded data removed]",
      "text/plain": [
       "<Figure size 576x576 with 1 Axes>"
      ]
     },
     "metadata": {
      "image/png": {
       "height": 508,
       "width": 551
      }
     },
     "output_type": "display_data"
    }
   ],
   "source": [
    "# Plot both conditions\n",
    "BIC_bar2(Choice_Table_like.loc[1:, :].copy().reset_index(drop=True),Choice_Table_dislike.loc[1:, :].copy().reset_index(drop=True), title='',color1 ='#4F6A9A',color2 ='#AC5255' )\n",
    "\n",
    "plt.savefig('SavedFigures/ModelComparison_Choice_More_Less_GlamEx_m2.svg', format='svg', dpi = 500)"
   ]
  },
  {
   "cell_type": "markdown",
   "metadata": {},
   "source": [
    "## Model 5 seems to be the best in both cases"
   ]
  },
  {
   "cell_type": "markdown",
   "metadata": {},
   "source": [
    "------------------------------------------------------\n",
    "------------------------------------------------------\n",
    "# Confidence Models\n",
    "-------------------------------------------------------\n",
    "-------------------------------------------------------"
   ]
  },
  {
   "cell_type": "code",
   "execution_count": 36,
   "metadata": {},
   "outputs": [
    {
     "data": {
      "text/html": [
       "<div>\n",
       "<style scoped>\n",
       "    .dataframe tbody tr th:only-of-type {\n",
       "        vertical-align: middle;\n",
       "    }\n",
       "\n",
       "    .dataframe tbody tr th {\n",
       "        vertical-align: top;\n",
       "    }\n",
       "\n",
       "    .dataframe thead th {\n",
       "        text-align: right;\n",
       "    }\n",
       "</style>\n",
       "<table border=\"1\" class=\"dataframe\">\n",
       "  <thead>\n",
       "    <tr style=\"text-align: right;\">\n",
       "      <th></th>\n",
       "      <th>Models</th>\n",
       "      <th>Formulas</th>\n",
       "    </tr>\n",
       "  </thead>\n",
       "  <tbody>\n",
       "    <tr>\n",
       "      <th>0</th>\n",
       "      <td>Model 1</td>\n",
       "      <td>Confidence ~ |Difference in Value|</td>\n",
       "    </tr>\n",
       "    <tr>\n",
       "      <th>1</th>\n",
       "      <td>Model 2</td>\n",
       "      <td>Confidence ~ |Difference in Value| + Response Time</td>\n",
       "    </tr>\n",
       "    <tr>\n",
       "      <th>2</th>\n",
       "      <td>Model 3</td>\n",
       "      <td>Confidence ~ |Difference in Value| + Response Time + Gaze Shift Frequency</td>\n",
       "    </tr>\n",
       "    <tr>\n",
       "      <th>3</th>\n",
       "      <td>Model 4</td>\n",
       "      <td>Confidence ~ |Difference in Value| + Response Time + Gaze Shift Frequency + Total Value</td>\n",
       "    </tr>\n",
       "    <tr>\n",
       "      <th>4</th>\n",
       "      <td>Model 5</td>\n",
       "      <td>Confidence ~ |Difference in Value| + Response Time + Gaze Shift Frequency + Total Value + Difference in Dwell Time</td>\n",
       "    </tr>\n",
       "  </tbody>\n",
       "</table>\n",
       "</div>"
      ],
      "text/plain": [
       "    Models  \\\n",
       "0  Model 1   \n",
       "1  Model 2   \n",
       "2  Model 3   \n",
       "3  Model 4   \n",
       "4  Model 5   \n",
       "\n",
       "                                                                                                             Formulas  \n",
       "0                                                                                  Confidence ~ |Difference in Value|  \n",
       "1                                                                  Confidence ~ |Difference in Value| + Response Time  \n",
       "2                                           Confidence ~ |Difference in Value| + Response Time + Gaze Shift Frequency  \n",
       "3                             Confidence ~ |Difference in Value| + Response Time + Gaze Shift Frequency + Total Value  \n",
       "4  Confidence ~ |Difference in Value| + Response Time + Gaze Shift Frequency + Total Value + Difference in Dwell Time  "
      ]
     },
     "execution_count": 36,
     "metadata": {},
     "output_type": "execute_result"
    }
   ],
   "source": [
    "confidence_models = ['Model 1', 'Model 2', 'Model 3', 'Model 4', 'Model 5']\n",
    "confidence_formulas = ['Confidence ~ |Difference in Value|', 'Confidence ~ |Difference in Value| + Response Time',\n",
    "                  'Confidence ~ |Difference in Value| + Response Time + Gaze Shift Frequency',\n",
    "                  'Confidence ~ |Difference in Value| + Response Time + Gaze Shift Frequency + Total Value',\n",
    "                      'Confidence ~ |Difference in Value| + Response Time + Gaze Shift Frequency + Total Value + Difference in Dwell Time']\n",
    "Confidence_1_Table = pd.DataFrame([confidence_models, confidence_formulas])\n",
    "Confidence_1_Table = Confidence_1_Table.transpose(); Confidence_1_Table.columns = ['Models', 'Formulas']\n",
    "Confidence_Table_like = Confidence_1_Table.copy()\n",
    "Confidence_Table_dislike = Confidence_1_Table.copy()\n",
    "Confidence_1_Table"
   ]
  },
  {
   "cell_type": "markdown",
   "metadata": {},
   "source": [
    "## Models for More frame\n",
    "---------------------------------------------------\n",
    "\n",
    "we test various nested models"
   ]
  },
  {
   "cell_type": "code",
   "execution_count": 37,
   "metadata": {},
   "outputs": [
    {
     "data": {
      "text/plain": [
       "[1] \"Done!\"\n",
       "[1] \"Done!\"\n"
      ]
     },
     "metadata": {},
     "output_type": "display_data"
    }
   ],
   "source": [
    "%%R\n",
    "\n",
    "if (file.exists('SavedModels/ComparisonModels_Confidence_More_GlamEx_m2.rda')){\n",
    "    load('SavedModels/ComparisonModels_Confidence_More_GlamEx_m2.rda')   \n",
    "    print('  Found old parameter estimates in \"SavedModels/estimates\". Skipping estimation...')\n",
    "}\n",
    "\n",
    "else{\n",
    "\n",
    "confidence_model_1L = lmer(zConf ~ 0 + zAbsDVal + (0 + zAbsDVal | Part), data=data_exp1_Like,\n",
    "                       control=lmerControl(optimizer=\"optimx\", optCtrl=list(method=\"nlminb\")))\n",
    "\n",
    "confidence_model_2L = lmer(zConf ~ 0 + zAbsDVal + zRT + (0 + zAbsDVal + zRT | Part), data=data_exp1_Like,\n",
    "                       control=lmerControl(optimizer=\"optimx\", optCtrl=list(method=\"nlminb\")))\n",
    "\n",
    "confidence_model_3L = lmer(zConf ~ 0 + zAbsDVal + zRT + zGSF + (0 + zAbsDVal\n",
    "                         + zGSF + zRT | Part), data=data_exp1_Like,\n",
    "                       control=lmerControl(optimizer=\"optimx\", optCtrl=list(method=\"nlminb\")))\n",
    "print (\"Done!\")\n",
    "\n",
    "\n",
    "confidence_model_4L = lmer(zConf ~ 0 + zAbsDVal + zRT + zGSF + zTotVal + (0 + zAbsDVal\n",
    "                         + zGSF + zRT + zTotVal | Part), data=data_exp1_Like,\n",
    "                       control=lmerControl(optimizer=\"optimx\", optCtrl=list(method=\"nlminb\")))\n",
    "\n",
    "confidence_model_5L = lmer(zConf ~ 0 + zAbsDVal + zRT + zGSF + zTotVal + zAbsDDT + (0 + zAbsDVal\n",
    "                         + zGSF + zRT + zTotVal + zAbsDDT| Part), data=data_exp1_Like,\n",
    "                       control=lmerControl(optimizer=\"optimx\", optCtrl=list(method=\"nlminb\")))\n",
    "print (\"Done!\")\n",
    "\n",
    "save(confidence_model_1L, confidence_model_2L, confidence_model_3L,\n",
    "                    confidence_model_4L, confidence_model_5L, file = \"SavedModels/ComparisonModels_Confidence_More_GlamEx_m2.rda\")\n",
    "    \n",
    "}"
   ]
  },
  {
   "cell_type": "markdown",
   "metadata": {},
   "source": [
    "## Model comparison¶\n"
   ]
  },
  {
   "cell_type": "code",
   "execution_count": 38,
   "metadata": {},
   "outputs": [],
   "source": [
    "%%R\n",
    "comparison_confidence_L =anova(confidence_model_1L, confidence_model_2L, confidence_model_3L,\n",
    "                    confidence_model_4L, confidence_model_5L)\n",
    "BIC1_confidence_L = list(comparison_confidence_L$BIC)"
   ]
  },
  {
   "cell_type": "code",
   "execution_count": 39,
   "metadata": {},
   "outputs": [
    {
     "data": {
      "text/plain": [
       "Data: data_exp1_Like\n",
       "Models:\n",
       "confidence_model_1L: zConf ~ 0 + zAbsDVal + (0 + zAbsDVal | Part)\n",
       "confidence_model_2L: zConf ~ 0 + zAbsDVal + zRT + (0 + zAbsDVal + zRT | Part)\n",
       "confidence_model_3L: zConf ~ 0 + zAbsDVal + zRT + zGSF + (0 + zAbsDVal + zGSF + zRT | \n",
       "confidence_model_3L:     Part)\n",
       "confidence_model_4L: zConf ~ 0 + zAbsDVal + zRT + zGSF + zTotVal + (0 + zAbsDVal + \n",
       "confidence_model_4L:     zGSF + zRT + zTotVal | Part)\n",
       "confidence_model_5L: zConf ~ 0 + zAbsDVal + zRT + zGSF + zTotVal + zAbsDDT + (0 + \n",
       "confidence_model_5L:     zAbsDVal + zGSF + zRT + zTotVal + zAbsDDT | Part)\n",
       "                    Df    AIC    BIC  logLik deviance    Chisq Chi Df\n",
       "confidence_model_1L  3 9176.7 9195.1 -4585.4   9170.7                \n",
       "confidence_model_2L  6 8757.6 8794.3 -4372.8   8745.6 425.1117      3\n",
       "confidence_model_3L 10 8681.7 8742.9 -4330.8   8661.7  83.9453      4\n",
       "confidence_model_4L 15 8685.6 8777.4 -4327.8   8655.6   6.1142      5\n",
       "confidence_model_5L 21 8650.0 8778.5 -4304.0   8608.0  47.5404      6\n",
       "                    Pr(>Chisq)    \n",
       "confidence_model_1L               \n",
       "confidence_model_2L  < 2.2e-16 ***\n",
       "confidence_model_3L  < 2.2e-16 ***\n",
       "confidence_model_4L     0.2953    \n",
       "confidence_model_5L   1.46e-08 ***\n",
       "---\n",
       "Signif. codes:  0 ‘***’ 0.001 ‘**’ 0.01 ‘*’ 0.05 ‘.’ 0.1 ‘ ’ 1\n"
      ]
     },
     "metadata": {},
     "output_type": "display_data"
    }
   ],
   "source": [
    "%%R\n",
    "comparison_confidence_L"
   ]
  },
  {
   "cell_type": "code",
   "execution_count": 40,
   "metadata": {},
   "outputs": [],
   "source": [
    "%R -o BIC1_confidence_L\n",
    "BIC1a = np.array(BIC1_confidence_L); BIC1a = BIC1a[0]"
   ]
  },
  {
   "cell_type": "code",
   "execution_count": 41,
   "metadata": {},
   "outputs": [],
   "source": [
    "Confidence_Table_like['BIC'] = BIC1a\n"
   ]
  },
  {
   "cell_type": "markdown",
   "metadata": {},
   "source": [
    "## Models for Less frame\n",
    "---------------------------------------------------------\n",
    "we test various nested models"
   ]
  },
  {
   "cell_type": "code",
   "execution_count": 42,
   "metadata": {},
   "outputs": [
    {
     "data": {
      "text/plain": [
       "[1] \"Done!\"\n",
       "[1] \"Done!\"\n"
      ]
     },
     "metadata": {},
     "output_type": "display_data"
    }
   ],
   "source": [
    "%%R\n",
    "\n",
    "if (file.exists('SavedModels/ComparisonModels_Confidence_Less_GlamEx_m2.rda')){\n",
    "    load('SavedModels/ComparisonModels_Confidence_Less_GlamEx_m2.rda')   \n",
    "    print('  Found old parameter estimates in \"SavedModels/estimates\". Skipping estimation...')\n",
    "}\n",
    "\n",
    "else{\n",
    "confidence_model_1D = lmer(zConf ~ 0 + zAbsDVal + (0 + zAbsDVal | Part), data=data_exp1_DisLike,\n",
    "                       control=lmerControl(optimizer=\"optimx\", optCtrl=list(method=\"nlminb\")))\n",
    "\n",
    "confidence_model_2D = lmer(zConf ~ 0 + zAbsDVal + zRT + (0 + zAbsDVal + zRT | Part), data=data_exp1_DisLike,\n",
    "                       control=lmerControl(optimizer=\"optimx\", optCtrl=list(method=\"nlminb\")))\n",
    "\n",
    "confidence_model_3D = lmer(zConf ~ 0 + zAbsDVal + zRT + zGSF + (0 + zAbsDVal\n",
    "                         + zGSF + zRT | Part), data=data_exp1_DisLike,\n",
    "                       control=lmerControl(optimizer=\"optimx\", optCtrl=list(method=\"nlminb\")))\n",
    "print (\"Done!\")\n",
    "    \n",
    "confidence_model_4D = lmer(zConf ~ 0 + zAbsDVal + zRT + zGSF + zTotVal + (0 + zAbsDVal\n",
    "                         + zGSF + zRT + zTotVal | Part), data=data_exp1_DisLike,\n",
    "                       control=lmerControl(optimizer=\"optimx\", optCtrl=list(method=\"nlminb\")))\n",
    "\n",
    "confidence_model_5D = lmer(zConf ~ 0 + zAbsDVal + zRT + zGSF + zTotVal + zAbsDDT + (0 + zAbsDVal\n",
    "                         + zGSF + zRT + zTotVal + zAbsDDT| Part), data=data_exp1_DisLike,\n",
    "                       control=lmerControl(optimizer=\"optimx\", optCtrl=list(method=\"nlminb\")))\n",
    "print (\"Done!\")\n",
    "    \n",
    "save(confidence_model_1D, confidence_model_2D, confidence_model_3D,\n",
    "                    confidence_model_4D, confidence_model_5D, file = \"SavedModels/ComparisonModels_Confidence_Less_GlamEx_m2.rda\")\n",
    "    \n",
    "}"
   ]
  },
  {
   "cell_type": "markdown",
   "metadata": {},
   "source": [
    "## Model comparison¶\n"
   ]
  },
  {
   "cell_type": "code",
   "execution_count": 43,
   "metadata": {},
   "outputs": [],
   "source": [
    "%%R\n",
    "comparison_confidence_D =anova(confidence_model_1D, confidence_model_2D, confidence_model_3D,\n",
    "                    confidence_model_4D, confidence_model_5D)\n",
    "BIC1_confidence_D = list(comparison_confidence_D$BIC)"
   ]
  },
  {
   "cell_type": "code",
   "execution_count": 44,
   "metadata": {},
   "outputs": [
    {
     "data": {
      "text/plain": [
       "Data: data_exp1_DisLike\n",
       "Models:\n",
       "confidence_model_1D: zConf ~ 0 + zAbsDVal + (0 + zAbsDVal | Part)\n",
       "confidence_model_2D: zConf ~ 0 + zAbsDVal + zRT + (0 + zAbsDVal + zRT | Part)\n",
       "confidence_model_3D: zConf ~ 0 + zAbsDVal + zRT + zGSF + (0 + zAbsDVal + zGSF + zRT | \n",
       "confidence_model_3D:     Part)\n",
       "confidence_model_4D: zConf ~ 0 + zAbsDVal + zRT + zGSF + zTotVal + (0 + zAbsDVal + \n",
       "confidence_model_4D:     zGSF + zRT + zTotVal | Part)\n",
       "confidence_model_5D: zConf ~ 0 + zAbsDVal + zRT + zGSF + zTotVal + zAbsDDT + (0 + \n",
       "confidence_model_5D:     zAbsDVal + zGSF + zRT + zTotVal + zAbsDDT | Part)\n",
       "                    Df    AIC    BIC  logLik deviance   Chisq Chi Df Pr(>Chisq)\n",
       "confidence_model_1D  3 9756.0 9774.4 -4875.0   9750.0                          \n",
       "confidence_model_2D  6 9342.1 9378.8 -4665.0   9330.1 419.901      3  < 2.2e-16\n",
       "confidence_model_3D 10 9305.6 9366.8 -4642.8   9285.6  44.501      4  5.049e-09\n",
       "confidence_model_4D 15 9223.4 9315.2 -4596.7   9193.4  92.235      5  < 2.2e-16\n",
       "confidence_model_5D 21 9204.0 9332.5 -4581.0   9162.0  31.363      6  2.161e-05\n",
       "                       \n",
       "confidence_model_1D    \n",
       "confidence_model_2D ***\n",
       "confidence_model_3D ***\n",
       "confidence_model_4D ***\n",
       "confidence_model_5D ***\n",
       "---\n",
       "Signif. codes:  0 ‘***’ 0.001 ‘**’ 0.01 ‘*’ 0.05 ‘.’ 0.1 ‘ ’ 1\n"
      ]
     },
     "metadata": {},
     "output_type": "display_data"
    }
   ],
   "source": [
    "%%R\n",
    "comparison_confidence_D"
   ]
  },
  {
   "cell_type": "code",
   "execution_count": 45,
   "metadata": {},
   "outputs": [],
   "source": [
    "%R -o BIC1_confidence_D\n",
    "BIC1a = np.array(BIC1_confidence_D); BIC1a = BIC1a[0]"
   ]
  },
  {
   "cell_type": "code",
   "execution_count": 46,
   "metadata": {},
   "outputs": [
    {
     "name": "stderr",
     "output_type": "stream",
     "text": [
      "/anaconda3/lib/python3.7/site-packages/matplotlib/cbook/deprecation.py:107: MatplotlibDeprecationWarning: Adding an axes using the same arguments as a previous axes currently reuses the earlier instance.  In a future version, a new instance will always be created and returned.  Meanwhile, this warning can be suppressed, and the future behavior ensured, by passing a unique label to each axes instance.\n",
      "  warnings.warn(message, mplDeprecation, stacklevel=1)\n"
     ]
    },
    {
     "data": {
      "image/png": "[encoded data removed]",
      "text/plain": [
       "<Figure size 576x576 with 1 Axes>"
      ]
     },
     "metadata": {
      "image/png": {
       "height": 508,
       "width": 551
      }
     },
     "output_type": "display_data"
    }
   ],
   "source": [
    "Confidence_Table_dislike['BIC'] = BIC1a\n",
    "#BIC_bar(Confidence_Table_dislike.loc[0:, :].copy().reset_index(drop=True), title='',color1 = '#4F6A9A' )\n",
    "\n",
    "BIC_bar2(Confidence_Table_like.loc[0:, :].copy().reset_index(drop=True),Confidence_Table_dislike.loc[0:, :].copy().reset_index(drop=True), title='',color1 ='#4F6A9A',color2 ='#AC5255' )\n",
    "#plt.tight_layout()\n",
    "#plt.savefig('../../figures/exp1_choice_models.png', dpi=600)\n",
    "plt.savefig('SavedFigures/ModelComparison_Confidence_More_Less_GlamEx_m2.svg', format='svg', dpi = 500)"
   ]
  },
  {
   "cell_type": "markdown",
   "metadata": {},
   "source": [
    "## Model 3 is best for MORE and Model 4 is better for LESS "
   ]
  },
  {
   "cell_type": "markdown",
   "metadata": {},
   "source": [
    "\n",
    "# 1. Import Packages"
   ]
  },
  {
   "cell_type": "code",
   "execution_count": 2,
   "metadata": {
    "scrolled": true
   },
   "outputs": [
    {
     "name": "stdout",
     "output_type": "stream",
     "text": [
      "Populating the interactive namespace from numpy and matplotlib\n"
     ]
    },
    {
     "name": "stderr",
     "output_type": "stream",
     "text": [
      "/anaconda3/lib/python3.7/site-packages/IPython/core/magics/pylab.py:160: UserWarning: pylab import has clobbered these variables: ['copy', 'pylab']\n",
      "`%matplotlib` prevents importing * from pylab and numpy\n",
      "  \"\\n`%matplotlib` prevents importing * from pylab and numpy\"\n"
     ]
    }
   ],
   "source": [
    "import numpy as np\n",
    "import pandas as pd\n",
    "from pandas.core.frame import DataFrame as DF\n",
    "\n",
    "import seaborn as sns\n",
    "sns.set(color_codes=True)\n",
    "#np.random.seed(sum(map(ord, \"distributions\")))\n",
    "from sklearn import linear_model  # packages for the logistic regression function to plot the logistic regression \n",
    "from sklearn.linear_model import LogisticRegression # packages for the logistic regression function to plot the logistic regression \n",
    "import scipy\n",
    "from scipy import stats, integrate\n",
    "from scipy.stats import mode\n",
    "from scipy.stats.stats import pearsonr # Pearson's correlation\n",
    "from copy import copy as copy\n",
    "import operator as operator\n",
    "import pylab\n",
    "\n",
    "# Plotting tools\n",
    "%matplotlib inline\n",
    "import matplotlib.pyplot as plt\n",
    "import matplotlib.gridspec as gridspec\n",
    "import matplotlib.patches as mpatches\n",
    "from mpl_toolkits.mplot3d import Axes3D\n",
    "from matplotlib import cm\n",
    "%pylab inline\n",
    "figsize(5, 5)\n",
    "\n",
    "import glob\n",
    "\n",
    "import os\n",
    "# Added to avoid OMP:error#15\n",
    "os.environ['KMP_DUPLICATE_LIB_OK']='True'"
   ]
  },
  {
   "cell_type": "code",
   "execution_count": 3,
   "metadata": {},
   "outputs": [],
   "source": [
    "import rpy2\n",
    "\n",
    "%load_ext rpy2.ipython\n",
    "# Set up interface with R\n",
    "# Make it easy to set and find values in a multi-index DF\n",
    "idx = pd.IndexSlice\n",
    "# Set up interface with R\n",
    "%config InlineBackend.figure_format = 'retina'\n",
    "import warnings\n",
    "from rpy2.rinterface import RRuntimeWarning\n",
    "warnings.filterwarnings(\"ignore\", category=RRuntimeWarning)\n"
   ]
  },
  {
   "cell_type": "code",
   "execution_count": 4,
   "metadata": {},
   "outputs": [],
   "source": [
    "%%R\n",
    "library(lme4)\n",
    "#library(car)\n",
    "library(optimx)\n",
    "library(ggplot2)\n",
    "library(MASS)\n",
    "library(broom)\n",
    "library(dplyr)\n",
    "library(reshape2)\n",
    "library(arm)\n",
    "library(multcomp)\n",
    "library(pbkrtest)"
   ]
  },
  {
   "cell_type": "markdown",
   "metadata": {},
   "source": [
    "<a id='LoadFunc'></a>\n",
    "# 2. Defining Functions"
   ]
  },
  {
   "cell_type": "markdown",
   "metadata": {},
   "source": [
    "### Split variable into participantwise quantiles"
   ]
  },
  {
   "cell_type": "code",
   "execution_count": 5,
   "metadata": {},
   "outputs": [],
   "source": [
    "def parsplit(DF, input, quantiles):\n",
    "    qvalues = pd.qcut(DF[input], quantiles, labels = range(1, quantiles+1))\n",
    "    return qvalues"
   ]
  },
  {
   "cell_type": "markdown",
   "metadata": {},
   "source": [
    "### Regression Coefficients Plot"
   ]
  },
  {
   "cell_type": "code",
   "execution_count": 6,
   "metadata": {},
   "outputs": [],
   "source": [
    "def Coefpresplot_bar(regtable, mixtable, intercept=False, barcol='#000000', title='Regression Coefficients', size='big', ylimits=(), ymultiple=0.5, ticklabsize=25, n_ET_predictors = 0 ):\n",
    "\n",
    "    # Import itertools so that we can iterate through the colours\n",
    "    import itertools\n",
    "    \n",
    "    # Import locators so that we can tidy up the yaxis\n",
    "    from matplotlib.ticker import MultipleLocator, FormatStrFormatter\n",
    "    \n",
    "    # rounding function to get edges to even 0.5 values\n",
    "    def round_to(n, precision):\n",
    "        correction = 0.5 if n >= 0 else -0.5\n",
    "        return int( n/precision+correction ) * precision\n",
    "\n",
    "    def round_to_5(n):\n",
    "        return round_to(n, 0.5)\n",
    "            \n",
    "    # Set seaborn style for the plot\n",
    "    sns.set(style='white')\n",
    "    \n",
    "    # Generate the figure\n",
    "    if size=='big':\n",
    "        fig = plt.figure(figsize=[20,8])\n",
    "    elif size=='long':\n",
    "        fig = plt.figure(figsize=[20,4])\n",
    "    elif size=='narrow':\n",
    "        fig = plt.figure(figsize=[10,4])\n",
    "        \n",
    "    fig.suptitle(title, fontsize=20)\n",
    "    gs = GridSpec(1,1,bottom=0.18,left=0.18,right=0.82)\n",
    "    ax = fig.add_subplot(gs[0,0])\n",
    "    \n",
    "    # Set axis limits based on whether to include the intercept or not    \n",
    "    if intercept == True:\n",
    "        XLim = (0, len(regtable.columns) + 1)\n",
    "        YLim = (round_to_5(np.min(mixtable)-0.2), round_to_5(np.max(mixtable)+0.2))\n",
    "    else:\n",
    "        XLim = (0, len(regtable.columns) )\n",
    "        YLim = (round_to_5(np.min(mixtable)-0.2), round_to_5(np.max(mixtable)+0.2))\n",
    "    if ylimits != ():\n",
    "        YLim = ylimits\n",
    "    ax.set_xlim(XLim)\n",
    "    ax.set_ylim(YLim)\n",
    "    \n",
    "    # Draw a line through the 0-value on the y-axis\n",
    "    line = ax.plot(XLim, [0, 0], color='black', ls='--', alpha = 0.5, lw=3)\n",
    "    \n",
    "    \n",
    "    # If intercept is true, plot the coefficient for the intercept\n",
    "    if intercept == True:\n",
    "        Coefficients = regtable.columns\n",
    "    else:\n",
    "        Coefficients = regtable.columns[1:]\n",
    "        \n",
    "    # Determine the colours for the coefficients based on the n_ET_variable\n",
    "    n_predictors = len(Coefficients)\n",
    "    n_non_ET_predictors = n_predictors - n_ET_predictors\n",
    "    \n",
    "    colourlist = [barcol] * n_non_ET_predictors + ['#03719c'] * n_ET_predictors\n",
    "    \n",
    "        \n",
    "    # Plot all the coefficients with 95% CI\n",
    "    position = 0\n",
    "    for Coefficient in Coefficients:\n",
    "        position += 1\n",
    "        ax.bar(position, regtable.loc['coefficient', Coefficient], width=0.8,color=colourlist[position-1],)\n",
    "        ax.errorbar(position, regtable.loc['coefficient', Coefficient],\n",
    "                    yerr=regtable.loc['se', Coefficient]*1.96, lw=2, color='#000000')\n",
    "        \n",
    "   # Plot dots for the individual coefficients\n",
    "    coef_num = len(mixtable)\n",
    "    for i in range(1,coef_num):\n",
    "        part_coefs = mixtable[i]\n",
    "        position_parts= np.full(len(part_coefs), i, dtype=int)\n",
    "        jittr = np.random.uniform(low=-0.5,high=0.5,size=len(part_coefs))/2\n",
    "        ax.plot(position_parts+jittr, part_coefs, marker='o', ms=8, color='#000000',alpha=0.3,linestyle=\"None\")\n",
    "\n",
    "        \n",
    "\n",
    "    # Setting the x-axis major tick's location\n",
    "    ax.set_xticks(range(1, position+1))\n",
    "    \n",
    "    # set the y-axis major tick position\n",
    "    ax.yaxis.set_major_locator(MultipleLocator(ymultiple))\n",
    "\n",
    "\n",
    "    # Setting the x-axis major tick's label\n",
    "    if intercept == True:\n",
    "        ax.set_xticklabels(regtable.columns, rotation=40)\n",
    "    else: \n",
    "        ax.set_xticklabels(regtable.columns[1:], rotation=40)\n",
    "    \n",
    "    ax.tick_params(axis='both', which='major', labelsize=ticklabsize)\n",
    "    ax.set_ylabel('Regression Coefficients', fontsize=18)\n",
    "    \n",
    "    # Autoformats the ticklabels for the xaxis\n",
    "    fig.autofmt_xdate()\n",
    "    \n",
    "    sns.despine()"
   ]
  },
  {
   "cell_type": "code",
   "execution_count": 7,
   "metadata": {},
   "outputs": [],
   "source": [
    "def Coefpresplot_bar2(regtable1, mixtable1,regtable2, mixtable2, intercept=False, barcol1='#000000',barcol2='#000000', title='Regression Coefficients', size='big', ylimits=(), ymultiple=0.5, ticklabsize=25, n_ET_predictors = 0 ):\n",
    "\n",
    "    # Import itertools so that we can iterate through the colours\n",
    "    import itertools\n",
    "    \n",
    "    # Import locators so that we can tidy up the yaxis\n",
    "    from matplotlib.ticker import MultipleLocator, FormatStrFormatter\n",
    "    \n",
    "    # rounding function to get edges to even 0.5 values\n",
    "    def round_to(n, precision):\n",
    "        correction = 0.5 if n >= 0 else -0.5\n",
    "        return int( n/precision+correction ) * precision\n",
    "\n",
    "    def round_to_5(n):\n",
    "        return round_to(n, 0.5)\n",
    "            \n",
    "    # Set seaborn style for the plot\n",
    "    sns.set(style='white')\n",
    "    \n",
    "    # Generate the figure\n",
    "    if size=='big':\n",
    "        fig = plt.figure(figsize=[20,8])\n",
    "    elif size=='long':\n",
    "        fig = plt.figure(figsize=[20,4])\n",
    "    elif size=='narrow':\n",
    "        fig = plt.figure(figsize=[10,4])\n",
    "        \n",
    "    fig.suptitle(title, fontsize=20)\n",
    "    gs = GridSpec(1,1,bottom=0.18,left=0.18,right=0.82)\n",
    "    ax = fig.add_subplot(gs[0,0])\n",
    "    \n",
    "    # Set axis limits based on whether to include the intercept or not   \n",
    "    # Assumuing that regtable1 and regtable2 have exactly the same number of coefficients\n",
    "    if intercept == True:\n",
    "        XLim = (0, len(regtable1.columns) + 2)\n",
    "        YLim = (round_to_5(np.min([mixtable1,mixtable2]))-0.2, round_to_5(np.max([mixtable1,mixtable2]))+0.2)\n",
    "    else:\n",
    "        XLim = (0, len(regtable1.columns) +1)\n",
    "        YLim = (round_to_5(np.min([mixtable1,mixtable2]))-0.2, round_to_5(np.max([mixtable1,mixtable2]))+0.2)\n",
    "    if ylimits != ():\n",
    "        YLim = ylimits\n",
    "    ax.set_xlim(XLim)\n",
    "    ax.set_ylim(YLim)\n",
    "    \n",
    "    # Draw a line through the 0-value on the y-axis\n",
    "    line = ax.plot(XLim, [0, 0], color='black', ls='--', alpha = 0.5, lw=3)\n",
    "    \n",
    "    \n",
    "    # If intercept is true, plot the coefficient for the intercept\n",
    "    # Assumuing that regtable1 and regtable2 have exactly the same number of coefficients\n",
    "\n",
    "    if intercept == True:\n",
    "        Coefficients = regtable1.columns\n",
    "    else:\n",
    "        if len(regtable1.columns)<len(mixtable1):\n",
    "            Coefficients = regtable1.columns\n",
    "        else:\n",
    "            Coefficients = regtable1.columns[1:]\n",
    "        \n",
    "    # Determine the colours for the coefficients based on the n_ET_variable\n",
    "    n_predictors = len(Coefficients)\n",
    "    n_non_ET_predictors = n_predictors - n_ET_predictors\n",
    "    \n",
    "    # Color for conditions 1 and 2\n",
    "    colourlist1 = [barcol1] * n_non_ET_predictors + ['#03719c'] * n_ET_predictors\n",
    "    colourlist2 = [barcol2] * n_non_ET_predictors + ['#03719c'] * n_ET_predictors\n",
    "    \n",
    "        \n",
    "    # Plot all the coefficients with 95% CI\n",
    "    position = 0\n",
    "    for Coefficient in Coefficients:\n",
    "        position += 1\n",
    "        # Plot condition 1\n",
    "        ax.bar(position-0.2, regtable1.loc['coefficient', Coefficient], width=0.4,color=colourlist1[position-1],)\n",
    "        ax.errorbar(position-0.2, regtable1.loc['coefficient', Coefficient],\n",
    "                    yerr=regtable1.loc['se', Coefficient]*1.96, lw=2, color='#000000')\n",
    "\n",
    "        # Plot condition 2\n",
    "        ax.bar(position+0.2, regtable2.loc['coefficient', Coefficient], width=0.4,color=colourlist2[position-1],)\n",
    "        ax.errorbar(position+0.2, regtable2.loc['coefficient', Coefficient],\n",
    "                    yerr=regtable2.loc['se', Coefficient]*1.96, lw=2, color='#000000')\n",
    "\n",
    "        \n",
    "   # Plot dots for the individual coefficients\n",
    "    # Assumuing that mixtable1 and mixtable2 have exactly the same number of elements \n",
    "    \n",
    "    if intercept == True:\n",
    "        coef_num = range(0,len(mixtable1)) \n",
    "    else:\n",
    "        coef_num = range(1,len(mixtable1))\n",
    "        \n",
    "    for i in coef_num:\n",
    "        # Plot dots condition 1\n",
    "        part_coefs = mixtable1[i]\n",
    "        position_parts= np.full(len(part_coefs), i, dtype=int)\n",
    "        jittr = np.random.uniform(low=-0.2,high=0.2,size=len(part_coefs))/2\n",
    "        ax.plot(position_parts-0.2+jittr, part_coefs, marker='o', ms=8, color='#000000',alpha=0.3,linestyle=\"None\")\n",
    "\n",
    "        # Plot dots condition 1\n",
    "        part_coefs = mixtable2[i]\n",
    "        position_parts= np.full(len(part_coefs), i, dtype=int)\n",
    "        jittr = np.random.uniform(low=-0.2,high=0.2,size=len(part_coefs))/2\n",
    "        ax.plot(position_parts+0.2+jittr, part_coefs, marker='o', ms=8, color='#000000',alpha=0.3,linestyle=\"None\")\n",
    "        \n",
    "\n",
    "    # Setting the x-axis major tick's location\n",
    "    ax.set_xticks(range(1, position+1))\n",
    "    \n",
    "    # set the y-axis major tick position\n",
    "    ax.yaxis.set_major_locator(MultipleLocator(ymultiple))\n",
    "\n",
    "\n",
    "    # Setting the x-axis major tick's label\n",
    "    if intercept == True:\n",
    "        ax.set_xticklabels(regtable1.columns, rotation=40)        \n",
    "    else:\n",
    "        if len(regtable1.columns)<len(mixtable1):\n",
    "            ax.set_xticklabels(regtable1.columns, rotation=40)\n",
    "        else:    \n",
    "            ax.set_xticklabels(regtable1.columns[1:], rotation=40)\n",
    "    \n",
    "    ax.tick_params(axis='both', which='major', labelsize=ticklabsize)\n",
    "    ax.set_ylabel('Regression Coefficients', fontsize=18)\n",
    "    \n",
    "    # Autoformats the ticklabels for the xaxis\n",
    "    fig.autofmt_xdate()\n",
    "    \n",
    "    sns.despine()"
   ]
  },
  {
   "cell_type": "code",
   "execution_count": 8,
   "metadata": {},
   "outputs": [],
   "source": [
    "def regtable(fix, fix_se, names):\n",
    "    fixed_betas = DF(np.array(fix)); fixed_betas = fixed_betas.transpose(); fixed_betas.columns = names\n",
    "    fixed_betas.loc[1] = np.array(fix_se)\n",
    "    fixed_betas.loc[2] = fixed_betas.loc[0] - (fixed_betas.loc[1]*1.96)\n",
    "    fixed_betas.loc[3] = fixed_betas.loc[0] + (fixed_betas.loc[1]*1.96)\n",
    "    fixed_betas.index = ['coefficient', 'se', 'CImin', 'CImax']\n",
    "    return fixed_betas"
   ]
  },
  {
   "cell_type": "code",
   "execution_count": 9,
   "metadata": {},
   "outputs": [],
   "source": [
    "def correl_plot2 (data_all,data_all2,x_variable,y_variable,color1 = '#000000',color2 = '#000000',x_varlabel = \"x_variable\" ,y_varlabel = \"y_variable\", data_label =('Correct', 'Error'), title = \"Pretty PLot\"):\n",
    "\n",
    "    f = plt.figure(figsize=(8, 8))\n",
    "    sns.set(style='white', font_scale=1.8)\n",
    "    ax = sns.regplot(data=data_all, x= x_variable, y=y_variable, fit_reg=False, ci=0, color= color1, scatter_kws={'s':70,'alpha':0.3},)\n",
    "    ax = sns.regplot(data=data_all2, x= x_variable, y=y_variable, fit_reg=False, ci=0, color= color2, scatter_kws={'s':70,'alpha':0.3})\n",
    "    ax.set(ylabel=y_varlabel, xlabel=x_varlabel)\n",
    "\n",
    "    # For data 1\n",
    "    x=data_all[x_variable]\n",
    "    y=data_all[y_variable]\n",
    "    fit = np.polyfit(x, y, deg=1)\n",
    "    future = np.arange(min(x)-0.2, max(x)+0.2, 0.01)\n",
    "    fit_fn = np.poly1d(fit)\n",
    "    future_fit = np.polyval(fit_fn, future)\n",
    "    p1 = ax.plot(future, future_fit, color=color1, lw=3, label = data_label[0])\n",
    "    \n",
    "    results = pearsonr(data_all[x_variable], data_all[y_variable])\n",
    "    print (\"Pearson's r = {0}\".format(np.round(results[0], 3)), \"p = \", np.round(results[1], 3))\n",
    "    \n",
    "    # For data 2\n",
    "    x=data_all2[x_variable]\n",
    "    y=data_all2[y_variable]\n",
    "    fit = np.polyfit(x, y, deg=1)\n",
    "    future = np.arange(min(x)-0.2, max(x)+0.2, 0.01)\n",
    "    fit_fn = np.poly1d(fit)\n",
    "    future_fit = np.polyval(fit_fn, future)\n",
    "    p2 = ax.plot(future, future_fit, color=color2, lw=3,label = data_label[1] )\n",
    "    sns.despine()\n",
    "    #ax.set_title(title)    \n",
    "    results = pearsonr(data_all2[x_variable], data_all2[y_variable])\n",
    "    print (\"Pearson's r = {0}\".format(np.round(results[0], 3)), \"p = \", np.round(results[1], 3))\n",
    "    \n",
    "    ax.legend()\n",
    "    ax.set_title(title)\n",
    "\n",
    "    #plt.legend((p1, p2), data_label )\n",
    "    \n",
    "    plt.show()"
   ]
  },
  {
   "cell_type": "code",
   "execution_count": 10,
   "metadata": {},
   "outputs": [],
   "source": [
    "def BIC_bar(data, title='title',color1 ='#5b7c99' ):\n",
    "    \n",
    "    # set figure-level properties\n",
    "    sns.set(font_scale=2, style='white')\n",
    "    fig = figure(figsize=(8,8))\n",
    "    fig.add_subplot(111)\n",
    "    top= subplot(111)\n",
    "    \n",
    "    # determine variables\n",
    "    BIC = data['BIC'].get_values()\n",
    "    N = len(data['BIC'])\n",
    "    ylims = [data['BIC'].min()-(data['BIC'].max()/100), data['BIC'].max()+(data['BIC'].max()/100)]\n",
    "    ind = np.arange(N)  # the x locations for the groups\n",
    "    width = 0.5      # the width of the bars\n",
    "\n",
    "    # draw the bars\n",
    "    rects1 = top.barh(ind, BIC, width, color=color1)\n",
    "\n",
    "    # add some text for labels, title and axes ticks\n",
    "    top.set_xlabel('BIC Scores')\n",
    "    top.set_title(title)\n",
    "    top.set_yticks(ind+width/2)\n",
    "    top.set_yticklabels(data['Models'], rotation='horizontal')\n",
    "    \n",
    "    # set the axis limits\n",
    "    top.set_xlim(ylims)\n",
    "    top.set_ylim([-0.5, N])\n",
    "    \n",
    "    # hide spines\n",
    "    top.spines['top'].set_visible(False)\n",
    "    top.spines['right'].set_visible(False)"
   ]
  },
  {
   "cell_type": "code",
   "execution_count": 11,
   "metadata": {},
   "outputs": [],
   "source": [
    "def BIC_bar2(data1,data2, title='title',color1 ='#5b7c99',color2 ='#AC5255' ):\n",
    "    \n",
    "    #Assuming data 1 and data2 contain the same dimensions\n",
    "    # set figure-level properties\n",
    "    sns.set(font_scale=2, style='white')\n",
    "    fig = figure(figsize=(8,8))\n",
    "    fig.add_subplot(111)\n",
    "    top= subplot(111)\n",
    "    \n",
    "    # determine variables\n",
    "    BIC1= data1['BIC'].get_values()\n",
    "    BIC2 = data2['BIC'].get_values()\n",
    "    N = len(data1['BIC'])\n",
    "    ylims = [min(data1['BIC'].min()-(data1['BIC'].max()/100), data2['BIC'].min()-(data2['BIC'].max()/100)), max(data1['BIC'].max()+(data1['BIC'].max()/100),data2['BIC'].max()+(data2['BIC'].max()/100))]\n",
    "    ind = np.arange(N)  # the x locations for the groups\n",
    "    width = 0.2      # the width of the bars\n",
    "\n",
    "    # draw the bars\n",
    "    rects1 = top.barh(ind-0.1, BIC1, width, color=color1,hatch='//')\n",
    "    rects2 = top.barh(ind+0.1, BIC2, width, color=color2,hatch='//')\n",
    "\n",
    "    # add some text for labels, title and axes ticks\n",
    "    top.set_xlabel('BIC Scores')\n",
    "    top.set_title(title)\n",
    "    top.set_yticks(ind+width/2)\n",
    "    top.set_yticklabels(data1['Models'], rotation='horizontal')\n",
    "    \n",
    "    # set the axis limits\n",
    "    top.set_xlim(ylims)\n",
    "    top.set_ylim([-1, N+0.4])\n",
    "    \n",
    "    # hide spines\n",
    "    top.spines['top'].set_visible(False)\n",
    "    top.spines['right'].set_visible(False)\n",
    "    \n",
    "    patch1 = mpatches.Patch(facecolor=color1,hatch=r'//', label='Most')\n",
    "    patch2 = mpatches.Patch(facecolor=color2,hatch=r'//', label='Few')\n",
    "\n",
    "    leg = plt.legend(handles=[patch1,patch2],fontsize=14)\n",
    "    leg.get_frame().set_facecolor('none')\n",
    "    leg.get_frame().set_linewidth(0.0)"
   ]
  },
  {
   "cell_type": "code",
   "execution_count": 12,
   "metadata": {},
   "outputs": [],
   "source": [
    "def z_score1(data_all, part_def,z_score_var):\n",
    "    z_matrix=[]\n",
    "    z_matrix_aux=[]\n",
    "\n",
    "    for i in (data_all[part_def].unique()):\n",
    "        Choicedata = data_all.loc[data_all[part_def] == i]    \n",
    "    \n",
    "        pX_A= pd.to_numeric(Choicedata[z_score_var]) \n",
    "        pX_zA= (pX_A - np.mean(pX_A))/np.std(pX_A)\n",
    "\n",
    "        z_matrix_aux= pX_zA.values\n",
    "    \n",
    "        for  j in range(len(z_matrix_aux)):    \n",
    "            z_matrix.append(z_matrix_aux[j])\n",
    "    return z_matrix"
   ]
  },
  {
   "cell_type": "code",
   "execution_count": 13,
   "metadata": {},
   "outputs": [],
   "source": [
    "def splitBy(data_exp1, Splits_headers = ['ConfSplit', 'GSFMedSplit','DDTMedSplit'],Splits_variables = ['Conf', 'tGSF','tDDT']):\n",
    "    \n",
    "    median_matrix=[]\n",
    "    median_matrix_aux=[]\n",
    "    median_matrix_aux_cond=[]\n",
    "    Split_cols = []\n",
    "    \n",
    "    for h in range(len(Splits_variables)):\n",
    "        median_matrix=[]\n",
    "        for i in unique(data_exp1[\"Part\"]):\n",
    "            median_matrix_aux=[]\n",
    "    \n",
    "            for j in unique(data_exp1[\"BlockCond\"]):\n",
    "                #median_matrix_aux_cond=[]\n",
    "    \n",
    "                #Extract data by participant and BlockCond (1: MORE, 2: LESS)\n",
    "                Splitdata = data_exp1.loc[data_exp1['Part'] == i]\n",
    "                Splitdata = Splitdata.loc[Splitdata['BlockCond'] == j]\n",
    "                \n",
    "                # Select the column to split\n",
    "                Splitdata = Splitdata.loc[:,['TrialN',Splits_variables[h]]]\n",
    "                SplitSort = Splitdata.values\n",
    "                # Sort for confidence column\n",
    "                SplitSort = SplitSort[np.argsort(SplitSort[:, 1])]\n",
    "                #print(SplitSort)\n",
    "                lenPart = len(Splitdata)\n",
    "                #print(lenPart)\n",
    "                # Generate column with median order\n",
    "                median_low = [0] * int (lenPart/2)\n",
    "    \n",
    "                if len(SplitSort) != 2*len(median_low):\n",
    "                    median_high=  [1] * int(len(SplitSort)-len(median_low))\n",
    "                else: median_high = [1] * int (lenPart/2)\n",
    "            \n",
    "                median_split_order = median_low + median_high\n",
    "                #Attach split median order column (1 and 0)\n",
    "                median_aux= np.column_stack((SplitSort,median_split_order))\n",
    "                #Sort back to trial number\n",
    "                SplitSorted = median_aux[np.argsort(median_aux[:, 0])]\n",
    "                #print(len(SplitSorted))\n",
    "                \n",
    "                for kk in range(len(SplitSorted)): \n",
    "                    if len(median_matrix_aux) == 0 :\n",
    "                        median_matrix_aux = SplitSorted[0]\n",
    "                    else:\n",
    "                        median_matrix_aux = np.vstack([median_matrix_aux, SplitSorted[kk]])\n",
    "            \n",
    "            \n",
    "            #print([\"participant \"+ str(i)+ \" done\"])\n",
    "            # sort after adding both conditions    \n",
    "            median_matrix_aux = median_matrix_aux[np.argsort(median_matrix_aux[:, 0])]\n",
    "            \n",
    "            #Extract only the column with the median split information\n",
    "            median_matrix_aux = median_matrix_aux[:,2]\n",
    "            \n",
    "            #append to median matrix for the participants\n",
    "            for k in range(len(median_matrix_aux)):    \n",
    "                median_matrix.append(median_matrix_aux [k])\n",
    "        \n",
    "        median_matrix = pd.DataFrame(median_matrix,columns=[Splits_headers[h]])\n",
    "        #print(len (median_matrix))\n",
    "        #add new column (new split variable columns) to the split matrix\n",
    "        if  h == 0:\n",
    "            Split_cols = median_matrix\n",
    "        else:\n",
    "            Split_cols = pd.concat([Split_cols,median_matrix ],axis =1)   \n",
    "    \n",
    "    return Split_cols"
   ]
  },
  {
   "cell_type": "raw",
   "metadata": {},
   "source": [
    "<script>\n",
    "  $(document).ready(function(){\n",
    "    $('div.prompt').hide();\n",
    "    $('div.back-to-top').hide();\n",
    "    $('nav#menubar').hide();\n",
    "    $('.breadcrumb').hide();\n",
    "    $('.hidden-print').hide();\n",
    "  });\n",
    "</script>\n",
    "\n",
    "<footer id=\"attribution\" style=\"float:right; color:#999; background:#fff;\">\n",
    "Created with Jupyter, delivered by Fastly, rendered by Rackspace.\n",
    "</footer>"
   ]
  }
 ],
 "metadata": {
  "kernelspec": {
   "display_name": "Python 3",
   "language": "python",
   "name": "python3"
  },
  "language_info": {
   "codemirror_mode": {
    "name": "ipython",
    "version": 3
   },
   "file_extension": ".py",
   "mimetype": "text/x-python",
   "name": "python",
   "nbconvert_exporter": "python",
   "pygments_lexer": "ipython3",
   "version": "3.7.2"
  }
 },
 "nbformat": 4,
 "nbformat_minor": 2
}
