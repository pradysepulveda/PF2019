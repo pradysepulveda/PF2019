{
 "cells": [
  {
   "cell_type": "code",
   "execution_count": null,
   "metadata": {},
   "outputs": [],
   "source": [
    "##<script>\n",
    "##  jQuery(document).ready(function($) {  \n",
    "##  \n",
    "##  $(window).on('load', function(){\n",
    "##    $('#preloader').fadeOut('slow',function(){$(this).remove();});\n",
    "##  });\n",
    "##  \n",
    "##  });\n",
    "##</script>\n",
    "##\n",
    "##<style type=\"text/css\">\n",
    "##  div#preloader { position: fixed; \n",
    "##      left: 0; \n",
    "##      top: 0; \n",
    "##      z-index: 999; \n",
    "##      width: 100%; \n",
    "##      height: 100%; \n",
    "##      overflow: visible; \n",
    "##      background: #fff url('http://preloaders.net/preloaders/720/Moving%20line.gif') no-repeat center center; \n",
    "##  }\n",
    "##\n",
    "##</style>\n",
    "##\n",
    "##<div id=\"preloader\">\n",
    "##\n",
    "##</div>"
   ]
  },
  {
   "cell_type": "raw",
   "metadata": {},
   "source": [
    "<script>\n",
    "  function code_toggle() {\n",
    "    if (code_shown){\n",
    "      $('div.input').hide('500');\n",
    "      $('#toggleButton').val('Show Code')\n",
    "    } else {\n",
    "      $('div.input').show('500');\n",
    "      $('#toggleButton').val('Hide Code')\n",
    "      \n",
    "    }\n",
    "    code_shown = !code_shown\n",
    "  }\n",
    "\n",
    "  $( document ).ready(function(){\n",
    "    code_shown=false;\n",
    "    $('div.input').hide()\n",
    "  });\n",
    "</script>\n",
    "<form action=\"javascript:code_toggle()\"><input type=\"submit\" id=\"toggleButton\" value=\"Show Code\"></form>"
   ]
  },
  {
   "cell_type": "markdown",
   "metadata": {},
   "source": [
    "# Food Framing Analysis Script (2018). Positive Evidence Bias test."
   ]
  },
  {
   "cell_type": "markdown",
   "metadata": {},
   "source": [
    "#### Adapted from (Folke et al., 2016, NHB) by Pradyumna Sepulveda, Amy Benson and Benedetto de Martino\n",
    "#### (Analysis 31 participants)"
   ]
  },
  {
   "cell_type": "markdown",
   "metadata": {},
   "source": [
    "Considering Matan Mazor idea that Positive Evidence Bias (PEB) in confidence occurs product of differences in the perceptual noise, not in a cognitive processing of evidence supporting the chosen option. Since in the value experiment we found PEB on confidence, we check if there is a modulation on the PEB effect depending on the $\\Delta$Val. Since for Matan PEB emerges from the a higher level of noise of for the chosen alternative, we may expect a stronger PEB when $\\Delta$Val is higher (since it should have higher noise differences)"
   ]
  },
  {
   "cell_type": "markdown",
   "metadata": {},
   "source": [
    "<a id='load'></a>\n",
    "# 0. Load data and excluding participants"
   ]
  },
  {
   "cell_type": "markdown",
   "metadata": {},
   "source": [
    "Participants 6, 33, 7, 17, 25, 30 should be excluded.Additionally, it was checked that trials in which participants did not fixate in any of the items were were skipped already.\n",
    "Additionally we take out participants 37 and 38 because they don't follow the instructions (rejecting item in dislike, preferred item in like)\n",
    "Therefore, 9 participants have been excluded.\n",
    "Total number subjects = 40\n",
    "Number of subjects remaining = =31"
   ]
  },
  {
   "cell_type": "code",
   "execution_count": 66,
   "metadata": {},
   "outputs": [
    {
     "name": "stdout",
     "output_type": "stream",
     "text": [
      "[ 1  2  3  4  5  8  9 10 11 12 13 14 15 16 18 19 20 21 22 23 24 26 27 28\n",
      " 29 31 32 34 35 36 39]\n",
      "Number of participants: 31\n"
     ]
    }
   ],
   "source": [
    "# Load data all participants\n",
    "#data_exp1 = pd.read_csv('/Users/pradyumna/Documents/gitDocs/FF2018/Output/DataFoodFramingNotebook_v1.csv') \n",
    "data_exp1 = pd.read_csv('/Users/pradyumna/Documents/GiTs/FF2018/Output/DataFoodFramingNotebook_v1.csv') \n",
    "\n",
    "for i in [6, 7, 17, 25, 30, 33,37,38]:\n",
    "    data_exp1 = data_exp1[(data_exp1.Part != i)]\n",
    "print (data_exp1[\"Part\"].unique())\n",
    "print ('Number of participants: ' + str(len(data_exp1[\"Part\"].unique())))"
   ]
  },
  {
   "cell_type": "markdown",
   "metadata": {},
   "source": []
  },
  {
   "cell_type": "code",
   "execution_count": 67,
   "metadata": {},
   "outputs": [
    {
     "data": {
      "text/html": [
       "<div>\n",
       "<style scoped>\n",
       "    .dataframe tbody tr th:only-of-type {\n",
       "        vertical-align: middle;\n",
       "    }\n",
       "\n",
       "    .dataframe tbody tr th {\n",
       "        vertical-align: top;\n",
       "    }\n",
       "\n",
       "    .dataframe thead th {\n",
       "        text-align: right;\n",
       "    }\n",
       "</style>\n",
       "<table border=\"1\" class=\"dataframe\">\n",
       "  <thead>\n",
       "    <tr style=\"text-align: right;\">\n",
       "      <th></th>\n",
       "      <th>Unnamed: 0</th>\n",
       "      <th>Part</th>\n",
       "      <th>TrialN</th>\n",
       "      <th>PairID</th>\n",
       "      <th>LItem</th>\n",
       "      <th>LVal</th>\n",
       "      <th>RItem</th>\n",
       "      <th>RVal</th>\n",
       "      <th>Choice</th>\n",
       "      <th>RT</th>\n",
       "      <th>...</th>\n",
       "      <th>zRVal</th>\n",
       "      <th>zLFam</th>\n",
       "      <th>zRFam</th>\n",
       "      <th>zLValConfBDM</th>\n",
       "      <th>zLFamConfBDM</th>\n",
       "      <th>zRValConfBDM</th>\n",
       "      <th>zRFamConfBDM</th>\n",
       "      <th>ConfSplit</th>\n",
       "      <th>GSFSplit</th>\n",
       "      <th>DDTSplit</th>\n",
       "    </tr>\n",
       "  </thead>\n",
       "  <tbody>\n",
       "    <tr>\n",
       "      <th>0</th>\n",
       "      <td>0</td>\n",
       "      <td>1</td>\n",
       "      <td>1</td>\n",
       "      <td>14</td>\n",
       "      <td>116_boots_caramels.png</td>\n",
       "      <td>0.95</td>\n",
       "      <td>31_beef_jerky.png</td>\n",
       "      <td>2.00</td>\n",
       "      <td>1</td>\n",
       "      <td>3327</td>\n",
       "      <td>...</td>\n",
       "      <td>1.136137</td>\n",
       "      <td>-1.914122</td>\n",
       "      <td>0.732617</td>\n",
       "      <td>-3.876574</td>\n",
       "      <td>0.903717</td>\n",
       "      <td>1.128453</td>\n",
       "      <td>0.903717</td>\n",
       "      <td>1</td>\n",
       "      <td>1</td>\n",
       "      <td>0</td>\n",
       "    </tr>\n",
       "    <tr>\n",
       "      <th>1</th>\n",
       "      <td>1</td>\n",
       "      <td>1</td>\n",
       "      <td>2</td>\n",
       "      <td>44</td>\n",
       "      <td>102_propercorn_worcester.png</td>\n",
       "      <td>2.30</td>\n",
       "      <td>26_yorkie.png</td>\n",
       "      <td>1.70</td>\n",
       "      <td>1</td>\n",
       "      <td>3424</td>\n",
       "      <td>...</td>\n",
       "      <td>0.457846</td>\n",
       "      <td>0.732617</td>\n",
       "      <td>-0.149629</td>\n",
       "      <td>-0.122804</td>\n",
       "      <td>0.184006</td>\n",
       "      <td>-0.122804</td>\n",
       "      <td>-1.255416</td>\n",
       "      <td>0</td>\n",
       "      <td>1</td>\n",
       "      <td>1</td>\n",
       "    </tr>\n",
       "    <tr>\n",
       "      <th>2</th>\n",
       "      <td>2</td>\n",
       "      <td>1</td>\n",
       "      <td>3</td>\n",
       "      <td>51</td>\n",
       "      <td>59_crunchie.png</td>\n",
       "      <td>1.70</td>\n",
       "      <td>5_caramello.png</td>\n",
       "      <td>1.25</td>\n",
       "      <td>1</td>\n",
       "      <td>3691</td>\n",
       "      <td>...</td>\n",
       "      <td>-0.559590</td>\n",
       "      <td>0.852603</td>\n",
       "      <td>-0.678977</td>\n",
       "      <td>-0.122804</td>\n",
       "      <td>0.903717</td>\n",
       "      <td>0.294282</td>\n",
       "      <td>0.184006</td>\n",
       "      <td>0</td>\n",
       "      <td>0</td>\n",
       "      <td>1</td>\n",
       "    </tr>\n",
       "    <tr>\n",
       "      <th>3</th>\n",
       "      <td>3</td>\n",
       "      <td>1</td>\n",
       "      <td>4</td>\n",
       "      <td>12</td>\n",
       "      <td>64_nestle_aero_mint.png</td>\n",
       "      <td>1.55</td>\n",
       "      <td>102_propercorn_worcester.png</td>\n",
       "      <td>2.30</td>\n",
       "      <td>0</td>\n",
       "      <td>8144</td>\n",
       "      <td>...</td>\n",
       "      <td>1.814428</td>\n",
       "      <td>0.852603</td>\n",
       "      <td>0.732617</td>\n",
       "      <td>1.128453</td>\n",
       "      <td>0.903717</td>\n",
       "      <td>-0.122804</td>\n",
       "      <td>0.184006</td>\n",
       "      <td>0</td>\n",
       "      <td>1</td>\n",
       "      <td>0</td>\n",
       "    </tr>\n",
       "    <tr>\n",
       "      <th>4</th>\n",
       "      <td>4</td>\n",
       "      <td>1</td>\n",
       "      <td>5</td>\n",
       "      <td>4</td>\n",
       "      <td>44_walkers_french_fries.png</td>\n",
       "      <td>2.00</td>\n",
       "      <td>111_propercorn_sweetnsalty.png</td>\n",
       "      <td>2.00</td>\n",
       "      <td>0</td>\n",
       "      <td>6559</td>\n",
       "      <td>...</td>\n",
       "      <td>1.136137</td>\n",
       "      <td>0.379719</td>\n",
       "      <td>0.852603</td>\n",
       "      <td>0.294282</td>\n",
       "      <td>-1.255416</td>\n",
       "      <td>1.128453</td>\n",
       "      <td>1.383045</td>\n",
       "      <td>1</td>\n",
       "      <td>1</td>\n",
       "      <td>0</td>\n",
       "    </tr>\n",
       "  </tbody>\n",
       "</table>\n",
       "<p>5 rows × 60 columns</p>\n",
       "</div>"
      ],
      "text/plain": [
       "   Unnamed: 0  Part  TrialN  PairID                         LItem  LVal  \\\n",
       "0           0     1       1      14        116_boots_caramels.png  0.95   \n",
       "1           1     1       2      44  102_propercorn_worcester.png  2.30   \n",
       "2           2     1       3      51               59_crunchie.png  1.70   \n",
       "3           3     1       4      12       64_nestle_aero_mint.png  1.55   \n",
       "4           4     1       5       4   44_walkers_french_fries.png  2.00   \n",
       "\n",
       "                            RItem  RVal  Choice    RT  ...     zRVal  \\\n",
       "0               31_beef_jerky.png  2.00       1  3327  ...  1.136137   \n",
       "1                   26_yorkie.png  1.70       1  3424  ...  0.457846   \n",
       "2                 5_caramello.png  1.25       1  3691  ... -0.559590   \n",
       "3    102_propercorn_worcester.png  2.30       0  8144  ...  1.814428   \n",
       "4  111_propercorn_sweetnsalty.png  2.00       0  6559  ...  1.136137   \n",
       "\n",
       "      zLFam     zRFam  zLValConfBDM  zLFamConfBDM  zRValConfBDM  zRFamConfBDM  \\\n",
       "0 -1.914122  0.732617     -3.876574      0.903717      1.128453      0.903717   \n",
       "1  0.732617 -0.149629     -0.122804      0.184006     -0.122804     -1.255416   \n",
       "2  0.852603 -0.678977     -0.122804      0.903717      0.294282      0.184006   \n",
       "3  0.852603  0.732617      1.128453      0.903717     -0.122804      0.184006   \n",
       "4  0.379719  0.852603      0.294282     -1.255416      1.128453      1.383045   \n",
       "\n",
       "   ConfSplit  GSFSplit  DDTSplit  \n",
       "0          1         1         0  \n",
       "1          0         1         1  \n",
       "2          0         0         1  \n",
       "3          0         1         0  \n",
       "4          1         1         0  \n",
       "\n",
       "[5 rows x 60 columns]"
      ]
     },
     "execution_count": 67,
     "metadata": {},
     "output_type": "execute_result"
    }
   ],
   "source": [
    "data_exp1=data_exp1.rename(index=str, columns={\"ChosenITM\":\"Choice\", \n",
    "                              \"ChoiceRT\":\"RT\",\n",
    "                             \"RValue\":\"RVal\",\n",
    "                             \"LValue\":\"LVal\",\n",
    "                             \"zRValue\":\"zRVal\",\n",
    "                             \"zLValue\":\"zLVal\",                    \n",
    "                             \"tDDT\":\"DDT\",\n",
    "                             \"absDDT\":\"zAbsDDT\",\n",
    "                             \"lIA_DT\":\"LDwellTime\",\n",
    "                             \"rIA_DT\":\"RDwellTime\",\n",
    "                             \"tGSF\":\"GSF\",\n",
    "                             \"lastFixat\":\"LastFixat\",\n",
    "                             \"DV\":\"DVal\",\n",
    "                             \"zDV\":\"zDVal\",\n",
    "                             \"absDV\":\"AbsDVal\",\n",
    "                             \"zAbsDV\":\"zAbsDVal\",                    \n",
    "                             \"zChoiceRT\":\"zRT\",\n",
    "                             \"FamCh\":\"ChosenFam\",\n",
    "                              \"FamUnCh\":\"UnchosenFam\",\n",
    "                              \"ValCh\":\"ChosenVal\",\n",
    "                              \"ValUnCh\":\"UnchosenVal\",\n",
    "                             \"zFamCh\":\"zChosenFam\",\n",
    "                              \"zFamUnCh\":\"zUnchosenFam\",\n",
    "                              \"zValCh\":\"zChosenVal\",\n",
    "                              \"zValUnCh\":\"zUnchosenVal\",                   \n",
    "                              \"GSFMedSplit\":\"GSFSplit\",\n",
    "                            \"DDTMedSplit\":\"DDTSplit\"})\n",
    "data_exp1.head()"
   ]
  },
  {
   "cell_type": "code",
   "execution_count": 68,
   "metadata": {},
   "outputs": [
    {
     "data": {
      "text/plain": [
       "Index(['Unnamed: 0', 'Part', 'TrialN', 'PairID', 'LItem', 'LVal', 'RItem',\n",
       "       'RVal', 'Choice', 'RT', 'Conf', 'ConfRT', 'BlockCond', 'DDT',\n",
       "       'LDwellTime', 'RDwellTime', 'GSF', 'LastFixat', 'DVal', 'zDVal',\n",
       "       'AbsDVal', 'zAbsDVal', 'zConf', 'zRT', 'DFam', 'LFam', 'RFam', 'TotFam',\n",
       "       'TotVal', 'ChosenFam', 'UnchosenFam', 'ChosenVal', 'UnchosenVal',\n",
       "       'Correct', 'LValConfBDM', 'LFamConfBDM', 'RValConfBDM', 'RFamConfBDM',\n",
       "       'zDFam', 'zTotFam', 'zTotVal', 'zChosenVal', 'zUnchosenVal',\n",
       "       'zChosenFam', 'zUnchosenFam', 'zGSF', 'zDDT', 'zAbsDDT', 'zAbsDFam',\n",
       "       'zLVal', 'zRVal', 'zLFam', 'zRFam', 'zLValConfBDM', 'zLFamConfBDM',\n",
       "       'zRValConfBDM', 'zRFamConfBDM', 'ConfSplit', 'GSFSplit', 'DDTSplit'],\n",
       "      dtype='object')"
      ]
     },
     "execution_count": 68,
     "metadata": {},
     "output_type": "execute_result"
    }
   ],
   "source": [
    "data_exp1.columns"
   ]
  },
  {
   "cell_type": "markdown",
   "metadata": {},
   "source": [
    "# Add  % time looked at each item"
   ]
  },
  {
   "cell_type": "code",
   "execution_count": 69,
   "metadata": {},
   "outputs": [],
   "source": [
    "data_exp1['LGazePC'] = (data_exp1['LDwellTime']) / (data_exp1['RDwellTime'] + data_exp1['LDwellTime'])\n",
    "data_exp1['RGazePC'] = (data_exp1['RDwellTime']) / (data_exp1['RDwellTime'] + data_exp1['LDwellTime'])\n",
    "\n",
    "data_exp1['HValGazePC'] = ( data_exp1['LVal'] >= data_exp1['RVal'] ) * data_exp1['LGazePC'] + ( data_exp1['LVal'] <= data_exp1['RVal'] ) * data_exp1['RGazePC']\n",
    "data_exp1['LValGazePC'] = ( data_exp1['LVal'] <= data_exp1['RVal'] ) * data_exp1['LGazePC'] + ( data_exp1['LVal'] >= data_exp1['RVal'] ) * data_exp1['RGazePC']\n",
    "\n",
    "data_exp1['zLGazePC'] = z_score1(data_exp1,'Part','LGazePC')\n",
    "data_exp1['zRGazePC'] = z_score1(data_exp1,'Part','RGazePC')\n",
    "\n",
    "data_exp1['zHValGazePC'] = z_score1(data_exp1,'Part','HValGazePC')\n",
    "data_exp1['zLValGazePC'] = z_score1(data_exp1,'Part','LValGazePC')  "
   ]
  },
  {
   "cell_type": "markdown",
   "metadata": {},
   "source": [
    "## Add % time looked at chosen items"
   ]
  },
  {
   "cell_type": "code",
   "execution_count": 70,
   "metadata": {},
   "outputs": [],
   "source": [
    "data_exp1['ChosenGazePC'] = ( data_exp1['Choice'] == 0) * data_exp1['LGazePC'] + ( data_exp1['Choice'] == 1) * data_exp1['LGazePC']\n",
    "data_exp1['UnchosenGazePC'] = ( data_exp1['Choice'] == 1) * data_exp1['LGazePC'] + ( data_exp1['Choice'] == 0)  * data_exp1['RGazePC']\n",
    "\n",
    "data_exp1['zChosenGazePC'] = z_score1(data_exp1,'Part','ChosenGazePC')\n",
    "data_exp1['zUnchosenGazePC'] = z_score1(data_exp1,'Part','UnchosenGazePC')  "
   ]
  },
  {
   "cell_type": "markdown",
   "metadata": {},
   "source": [
    "## Add variable for the difference between chosen - unchosen"
   ]
  },
  {
   "cell_type": "code",
   "execution_count": 71,
   "metadata": {},
   "outputs": [],
   "source": [
    "data_exp1['AbsDVal_ChoUncho'] = np.abs(data_exp1['ChosenVal'] - data_exp1['UnchosenVal'] )\n",
    "#data_exp1['zAbsDVal_ChoUncho'] = z_score1(data_exp1,'Part','AbsDVal_ChoUncho')"
   ]
  },
  {
   "cell_type": "markdown",
   "metadata": {},
   "source": [
    "## Add Split for $\\Delta$Val"
   ]
  },
  {
   "cell_type": "code",
   "execution_count": 72,
   "metadata": {},
   "outputs": [],
   "source": [
    "Splits_headers = ['AbsDVal_ChoUncho']\n",
    "Splits_variables = ['AbsDVal_ChoUncho']\n",
    "data_exp1['zAbsDVal_ChoUncho'] = z_score1(data_exp1,'Part','AbsDVal_ChoUncho')\n",
    "data_exp1['AbsDVal_ChoUncho_Split'] = splitByVar(data_exp1, Splits_variables,Splits_headers)"
   ]
  },
  {
   "cell_type": "markdown",
   "metadata": {},
   "source": [
    "## Add Split for $\\Sigma$Val"
   ]
  },
  {
   "cell_type": "code",
   "execution_count": 73,
   "metadata": {},
   "outputs": [],
   "source": [
    "Splits_headers = ['zTotVal']\n",
    "Splits_variables = ['zTotVal']\n",
    "data_exp1['AbszTotVal_Split'] = splitByVar(data_exp1, Splits_variables,Splits_headers)"
   ]
  },
  {
   "cell_type": "markdown",
   "metadata": {},
   "source": [
    "# Data Analysis \n",
    "-------------------------------------------"
   ]
  },
  {
   "cell_type": "markdown",
   "metadata": {},
   "source": [
    "### List of parameters available for analysis"
   ]
  },
  {
   "cell_type": "code",
   "execution_count": 74,
   "metadata": {},
   "outputs": [],
   "source": [
    "#Transform to numeric values in the dataframe\n",
    "data_exp1 = data_exp1.apply(pd.to_numeric, errors='ignore')"
   ]
  },
  {
   "cell_type": "markdown",
   "metadata": {},
   "source": [
    "<a id='reg'></a>\n",
    "# 3. Regression Analysis\n",
    " "
   ]
  },
  {
   "cell_type": "markdown",
   "metadata": {},
   "source": [
    "## Loading data in R"
   ]
  },
  {
   "cell_type": "code",
   "execution_count": 75,
   "metadata": {
    "scrolled": true
   },
   "outputs": [
    {
     "name": "stderr",
     "output_type": "stream",
     "text": [
      "/Users/pradyumna/anaconda3/lib/python3.7/site-packages/rpy2/robjects/pandas2ri.py:191: FutureWarning: from_items is deprecated. Please use DataFrame.from_dict(dict(items), ...) instead. DataFrame.from_dict(OrderedDict(items)) may be used to preserve the key order.\n",
      "  res = PandasDataFrame.from_items(items)\n"
     ]
    }
   ],
   "source": [
    "%R -i data_exp1\n"
   ]
  },
  {
   "cell_type": "code",
   "execution_count": 76,
   "metadata": {},
   "outputs": [],
   "source": [
    "%%R\n",
    "library(lme4)\n",
    "#library(car)\n",
    "library(optimx)\n",
    "library(ggplot2)\n",
    "library(MASS)\n",
    "library(broom)\n",
    "library(dplyr)\n",
    "library(reshape2)\n",
    "library(arm)\n",
    "library(multcomp)\n",
    "library(pbkrtest)"
   ]
  },
  {
   "cell_type": "code",
   "execution_count": 77,
   "metadata": {
    "scrolled": true
   },
   "outputs": [],
   "source": [
    "%R\n",
    "##Change Column name for better regression presentation\n",
    "#colnames(data_exp1)[which(names(data_exp1) == \"zChoiceRT\")] <- \"zRT\"\n",
    "#colnames(data_exp1)[which(names(data_exp1) == \"ChoiceRT\")] <- \"RT\""
   ]
  },
  {
   "cell_type": "code",
   "execution_count": 78,
   "metadata": {},
   "outputs": [],
   "source": [
    "%%R\n",
    "# Separating the data for both conditions \n",
    "data_exp1_Like <- data_exp1[ which(data_exp1$BlockCond=='1'), ]\n",
    "data_exp1_DisLike <- data_exp1[ which(data_exp1$BlockCond=='2'), ]"
   ]
  },
  {
   "cell_type": "markdown",
   "metadata": {},
   "source": [
    "<a id='regCond'></a>\n",
    "# 3.1.  Regressions per Condition (Like/Dislike)\n"
   ]
  },
  {
   "cell_type": "markdown",
   "metadata": {},
   "source": [
    "### Confidence regression (no separation)"
   ]
  },
  {
   "cell_type": "markdown",
   "metadata": {},
   "source": [
    "First of all let's plot the regression we have in the paper, plus the influence of ChosenValue"
   ]
  },
  {
   "cell_type": "code",
   "execution_count": 79,
   "metadata": {},
   "outputs": [
    {
     "data": {
      "text/plain": [
       "[1] \"Like BIC:\"\n",
       "[1] 9672.723\n",
       "[1] \"DisLike BIC:\"\n",
       "[1] 10132.32\n"
      ]
     },
     "metadata": {},
     "output_type": "display_data"
    },
    {
     "data": {
      "image/png": "[encoded data removed]"
     },
     "metadata": {},
     "output_type": "display_data"
    }
   ],
   "source": [
    "%%R\n",
    "#title\n",
    "title_plot = (\"zConfidence\")\n",
    "\n",
    "ModelConfidenceL_2 <- glm(zConf ~ zAbsDVal+ zChosenVal + zRT + zTotVal + zGSF + zAbsDDT , data=data_exp1_Like)\n",
    "ModelConfidenceD_2 <- glm(zConf ~ zAbsDVal+ zChosenVal + zRT + zTotVal + zGSF + zAbsDDT, data=data_exp1_DisLike)\n",
    "\n",
    "BIC1 = BIC(ModelConfidenceL_2)\n",
    "BIC2 = BIC(ModelConfidenceD_2)\n",
    "print(\"Like BIC:\")\n",
    "print(BIC1)\n",
    "print(\"DisLike BIC:\")\n",
    "print(BIC2)\n",
    "\n",
    "coefplot(ModelConfidenceD_2,intercept=FALSE,vertical = FALSE,  col.pts=\"red\", cex.var=1.5,ylim=c(-0.5, 0.5), cex.pts=2, mar = c(8,4,5,1) ,main=title_plot)\n",
    "coefplot(ModelConfidenceL_2, intercept=FALSE, vertical = FALSE, add=TRUE, col.pts=\"blue\", cex.var=1.5, cex.pts=2,mar = c(8,4,5,1))\n",
    "legend(\"topright\",  legend=c(\"Dislike\", \"Like\"),col=c(\"red\", \"blue\"), lty=1:1, cex=1)"
   ]
  },
  {
   "cell_type": "markdown",
   "metadata": {},
   "source": [
    "ValCh: Value Chosen Item \n",
    "\n",
    "ValUnCh: Value Unchosen Item"
   ]
  },
  {
   "cell_type": "code",
   "execution_count": 80,
   "metadata": {},
   "outputs": [
    {
     "data": {
      "text/plain": [
       "[1] \"Like BIC:\"\n",
       "[1] 9904.659\n",
       "[1] \"DisLike BIC:\"\n",
       "[1] 10528.31\n"
      ]
     },
     "metadata": {},
     "output_type": "display_data"
    },
    {
     "data": {
      "image/png": "[encoded data removed]"
     },
     "metadata": {},
     "output_type": "display_data"
    }
   ],
   "source": [
    "%%R\n",
    "#title\n",
    "title_plot = (\"zConfidence\")\n",
    "\n",
    "ModelConfidenceL_2 <- glm(zConf ~ zAbsDVal+ zChosenVal + zUnchosenVal + zChosenVal:zAbsDVal + zUnchosenVal:zAbsDVal , data=data_exp1_Like)\n",
    "ModelConfidenceD_2 <- glm(zConf ~ zAbsDVal+ zChosenVal + zUnchosenVal  + zChosenVal:zAbsDVal + zUnchosenVal:zAbsDVal, data=data_exp1_DisLike)\n",
    "\n",
    "BIC1 = BIC(ModelConfidenceL_2)\n",
    "BIC2 = BIC(ModelConfidenceD_2)\n",
    "print(\"Like BIC:\")\n",
    "print(BIC1)\n",
    "print(\"DisLike BIC:\")\n",
    "print(BIC2)\n",
    "\n",
    "coefplot(ModelConfidenceD_2,intercept=FALSE,vertical = FALSE,  col.pts=\"red\", cex.var=1.5,ylim=c(-1, 1), cex.pts=2, mar = c(8,4,5,1) ,main=title_plot)\n",
    "coefplot(ModelConfidenceL_2, intercept=FALSE, vertical = FALSE, add=TRUE, col.pts=\"blue\", cex.var=1.5, cex.pts=2,mar = c(8,4,5,1))\n",
    "legend(\"topright\",  legend=c(\"Dislike\", \"Like\"),col=c(\"red\", \"blue\"), lty=1:1, cex=1)"
   ]
  },
  {
   "cell_type": "code",
   "execution_count": 81,
   "metadata": {},
   "outputs": [
    {
     "data": {
      "text/plain": [
       "[1] \"Like BIC:\"\n",
       "[1] 9904.659\n",
       "[1] \"DisLike BIC:\"\n",
       "[1] 10528.31\n"
      ]
     },
     "metadata": {},
     "output_type": "display_data"
    },
    {
     "data": {
      "image/png": "[encoded data removed]"
     },
     "metadata": {},
     "output_type": "display_data"
    }
   ],
   "source": [
    "%%R\n",
    "#title\n",
    "title_plot = (\"zConfidence\")\n",
    "\n",
    "ModelConfidenceL_2 <- glm(zConf ~ zAbsDVal_ChoUncho+ zChosenVal + zUnchosenVal + zChosenVal:zAbsDVal_ChoUncho + zUnchosenVal:zAbsDVal_ChoUncho , data=data_exp1_Like)\n",
    "ModelConfidenceD_2 <- glm(zConf ~ zAbsDVal_ChoUncho+ zChosenVal + zUnchosenVal  + zChosenVal:zAbsDVal_ChoUncho + zUnchosenVal:zAbsDVal_ChoUncho, data=data_exp1_DisLike)\n",
    "\n",
    "BIC1 = BIC(ModelConfidenceL_2)\n",
    "BIC2 = BIC(ModelConfidenceD_2)\n",
    "print(\"Like BIC:\")\n",
    "print(BIC1)\n",
    "print(\"DisLike BIC:\")\n",
    "print(BIC2)\n",
    "\n",
    "coefplot(ModelConfidenceD_2,intercept=FALSE,vertical = FALSE,  col.pts=\"red\", cex.var=1.5, cex.pts=2, ylim=c(-.5,.5), mar = c(8,4,5,1) ,main=title_plot)\n",
    "coefplot(ModelConfidenceL_2, intercept=FALSE, vertical = FALSE, add=TRUE, col.pts=\"blue\", cex.var=1.5, cex.pts=2,mar = c(8,4,5,1))\n",
    "legend(\"topright\",  legend=c(\"Dislike\", \"Like\"),col=c(\"red\", \"blue\"), lty=1:1, cex=1)"
   ]
  },
  {
   "cell_type": "code",
   "execution_count": 82,
   "metadata": {},
   "outputs": [
    {
     "data": {
      "text/plain": [
       "[1] \"Like BIC:\"\n",
       "[1] 9918.285\n",
       "[1] \"DisLike BIC:\"\n",
       "[1] 10546.63\n"
      ]
     },
     "metadata": {},
     "output_type": "display_data"
    },
    {
     "data": {
      "image/png": "[encoded data removed]"
     },
     "metadata": {},
     "output_type": "display_data"
    }
   ],
   "source": [
    "%%R\n",
    "#title\n",
    "title_plot = (\"zConfidence\")\n",
    "\n",
    "ModelConfidenceL_2 <- glm(zConf ~ AbsDVal_ChoUncho_Split+ zChosenVal + zUnchosenVal + zChosenVal:AbsDVal_ChoUncho_Split+ zUnchosenVal:AbsDVal_ChoUncho_Split, data=data_exp1_Like) \n",
    "\n",
    "ModelConfidenceD_2 <- glm(zConf ~ AbsDVal_ChoUncho_Split + zChosenVal + zUnchosenVal  +zChosenVal:AbsDVal_ChoUncho_Split + zUnchosenVal:AbsDVal_ChoUncho_Split, data=data_exp1_DisLike)\n",
    "BIC1 = BIC(ModelConfidenceL_2)\n",
    "BIC2 = BIC(ModelConfidenceD_2)\n",
    "print(\"Like BIC:\")\n",
    "print(BIC1)\n",
    "print(\"DisLike BIC:\")\n",
    "print(BIC2)\n",
    "\n",
    "coefplot(ModelConfidenceD_2,intercept=FALSE,vertical = FALSE,  col.pts=\"red\", cex.var=1.5, cex.pts=2,ylim=c(-1, 1), mar = c(8,4,5,1) ,main=title_plot)\n",
    "coefplot(ModelConfidenceL_2, intercept=FALSE, vertical = FALSE, add=TRUE, col.pts=\"blue\", cex.var=1.5, cex.pts=2,mar = c(8,4,5,1))\n",
    "legend(\"topright\",  legend=c(\"Dislike\", \"Like\"),col=c(\"red\", \"blue\"), lty=1:1, cex=1)"
   ]
  },
  {
   "cell_type": "markdown",
   "metadata": {},
   "source": [
    "Interaction between DVal_ChoUnchosen Split variable  and the influence of the unchosen item. In like, the higher is the DVAL, i.e., the higher is the relative value of the chosen item the more difference in noise level we should observe, and then a lower effect of Unchosen Value over confidence. In like we observe a trend for this effect. On the other hand in dislike there is a flip, that means the more difference between chosen and unchosen, more effect of the unchosen on confidence. This makes sense because, bigger difference would mean the chosen value is lower (dislike frame), comparatively less noise, therefore unchosen is comparatively higher. Actually, I don't understand fully what's happening in dislike."
   ]
  },
  {
   "cell_type": "markdown",
   "metadata": {},
   "source": [
    "## Using the DVAl_ChosenUnchosen Split to separate"
   ]
  },
  {
   "cell_type": "markdown",
   "metadata": {},
   "source": [
    "## Like frame"
   ]
  },
  {
   "cell_type": "code",
   "execution_count": 83,
   "metadata": {},
   "outputs": [],
   "source": [
    "%%R\n",
    "# Separating the data for both conditions \n",
    "data_exp1_Like_Low <- data_exp1[ which(data_exp1$BlockCond=='1' & data_exp1$AbsDVal_ChoUncho_Split=='0'), ]\n",
    "data_exp1_Like_High <- data_exp1[ which(data_exp1$BlockCond=='1' & data_exp1$AbsDVal_ChoUncho_Split=='1'), ]\n"
   ]
  },
  {
   "cell_type": "code",
   "execution_count": 84,
   "metadata": {},
   "outputs": [
    {
     "data": {
      "text/plain": [
       "[1] \"Like High BIC:\"\n",
       "[1] 4740.108\n",
       "[1] \"Like Low BIC:\"\n",
       "[1] 5157.488\n"
      ]
     },
     "metadata": {},
     "output_type": "display_data"
    },
    {
     "data": {
      "image/png": "[encoded data removed]"
     },
     "metadata": {},
     "output_type": "display_data"
    }
   ],
   "source": [
    "%%R\n",
    "#title\n",
    "title_plot = (\"zConfidence\")\n",
    "\n",
    "ModelConfidenceD_2 <- glm(zConf ~  zChosenVal + zUnchosenVal + zChosenVal+ zUnchosenVal, data=data_exp1_Like_Low) \n",
    "\n",
    "ModelConfidenceL_2 <- glm(zConf ~  zChosenVal + zUnchosenVal  +zChosenVal + zUnchosenVal, data=data_exp1_Like_High)\n",
    "BIC1 = BIC(ModelConfidenceL_2)\n",
    "BIC2 = BIC(ModelConfidenceD_2)\n",
    "print(\"Like High BIC:\")\n",
    "print(BIC1)\n",
    "print(\"Like Low BIC:\")\n",
    "print(BIC2)\n",
    "\n",
    "coefplot(ModelConfidenceL_2,intercept=FALSE,vertical = FALSE,  col.pts=\"blue\", cex.var=1.5, cex.pts=2,ylim=c(-0.5, 0.5), mar = c(8,4,5,1) ,main=title_plot)\n",
    "coefplot(ModelConfidenceD_2, intercept=FALSE, vertical = FALSE, add=TRUE, col.pts=\"cyan\", cex.var=1.5, cex.pts=2,mar = c(8,4,5,1))\n",
    "legend(\"topright\",  legend=c(\"Like High\", \"Like Low\"),col=c(\"blue\", \"cyan\"), lty=1:1, cex=1)"
   ]
  },
  {
   "cell_type": "markdown",
   "metadata": {},
   "source": [
    "## Dislike frame"
   ]
  },
  {
   "cell_type": "code",
   "execution_count": 85,
   "metadata": {},
   "outputs": [],
   "source": [
    "%%R\n",
    "# Separating the data for both conditions \n",
    "data_exp1_Dislike_Low <- data_exp1[ which(data_exp1$BlockCond=='2' & data_exp1$AbsDVal_ChoUncho_Split=='0'), ]\n",
    "data_exp1_Dislike_High <- data_exp1[ which(data_exp1$BlockCond=='2' & data_exp1$AbsDVal_ChoUncho_Split=='1'), ]\n"
   ]
  },
  {
   "cell_type": "code",
   "execution_count": 86,
   "metadata": {},
   "outputs": [
    {
     "data": {
      "text/plain": [
       "[1] \"Like High BIC:\"\n",
       "[1] 5094.759\n",
       "[1] \"Like Low BIC:\"\n",
       "[1] 5438.672\n"
      ]
     },
     "metadata": {},
     "output_type": "display_data"
    },
    {
     "data": {
      "image/png": "[encoded data removed]"
     },
     "metadata": {},
     "output_type": "display_data"
    }
   ],
   "source": [
    "%%R\n",
    "#title\n",
    "title_plot = (\"zConfidence\")\n",
    "\n",
    "ModelConfidenceD_2 <- glm(zConf ~  zChosenVal + zUnchosenVal , data=data_exp1_Dislike_Low) \n",
    "\n",
    "ModelConfidenceL_2 <- glm(zConf ~ zChosenVal + zUnchosenVal  , data=data_exp1_Dislike_High)\n",
    "BIC1 = BIC(ModelConfidenceL_2)\n",
    "BIC2 = BIC(ModelConfidenceD_2)\n",
    "print(\"Like High BIC:\")\n",
    "print(BIC1)\n",
    "print(\"Like Low BIC:\")\n",
    "print(BIC2)\n",
    "\n",
    "coefplot(ModelConfidenceL_2,intercept=FALSE,vertical = FALSE,  col.pts=\"red\", cex.var=1.5, cex.pts=2,ylim=c(-0.5, 0.5), mar = c(8,4,5,1) ,main=title_plot)\n",
    "coefplot(ModelConfidenceD_2, intercept=FALSE, vertical = FALSE, add=TRUE, col.pts=\"magenta\", cex.var=1.5, cex.pts=2,mar = c(8,4,5,1))\n",
    "legend(\"topright\",  legend=c(\"Dislike High\", \"Dislike Low\"),col=c(\"red\", \"magenta\"), lty=1:1, cex=1)"
   ]
  },
  {
   "cell_type": "markdown",
   "metadata": {},
   "source": [
    "## What if total value allow us to characterise in a better way this \"Weber law effect\"?"
   ]
  },
  {
   "cell_type": "code",
   "execution_count": 87,
   "metadata": {},
   "outputs": [
    {
     "data": {
      "text/plain": [
       "[1] \"Like BIC:\"\n",
       "[1] 9891.321\n",
       "[1] \"DisLike BIC:\"\n",
       "[1] 10564.07\n"
      ]
     },
     "metadata": {},
     "output_type": "display_data"
    },
    {
     "data": {
      "image/png": "[encoded data removed]"
     },
     "metadata": {},
     "output_type": "display_data"
    }
   ],
   "source": [
    "%%R\n",
    "#title\n",
    "title_plot = (\"zConfidence\")\n",
    "\n",
    "ModelConfidenceL_2 <- glm(zConf ~  zChosenVal + zUnchosenVal + zChosenVal:zTotVal + zUnchosenVal:zTotVal , data=data_exp1_Like)\n",
    "ModelConfidenceD_2 <- glm(zConf ~  zChosenVal + zUnchosenVal  + zChosenVal:zTotVal + zUnchosenVal:zTotVal, data=data_exp1_DisLike)\n",
    "\n",
    "BIC1 = BIC(ModelConfidenceL_2)\n",
    "BIC2 = BIC(ModelConfidenceD_2)\n",
    "print(\"Like BIC:\")\n",
    "print(BIC1)\n",
    "print(\"DisLike BIC:\")\n",
    "print(BIC2)\n",
    "\n",
    "coefplot(ModelConfidenceD_2,intercept=FALSE,vertical = FALSE,  col.pts=\"red\", cex.var=1.5, cex.pts=2, ylim=c(-1, 1), mar = c(8,4,5,1) ,main=title_plot)\n",
    "coefplot(ModelConfidenceL_2, intercept=FALSE, vertical = FALSE, add=TRUE, col.pts=\"blue\", cex.var=1.5, cex.pts=2,mar = c(8,4,5,1))\n",
    "legend(\"topright\",  legend=c(\"Dislike\", \"Like\"),col=c(\"red\", \"blue\"), lty=1:1, cex=1)"
   ]
  },
  {
   "cell_type": "markdown",
   "metadata": {},
   "source": [
    "## Like frame"
   ]
  },
  {
   "cell_type": "code",
   "execution_count": 88,
   "metadata": {},
   "outputs": [],
   "source": [
    "%%R\n",
    "# Separating the data for both conditions \n",
    "data_exp1_Like_Low <- data_exp1[ which(data_exp1$BlockCond=='1' & data_exp1$AbszTotVal_Split=='0'), ]\n",
    "data_exp1_Like_High <- data_exp1[ which(data_exp1$BlockCond=='1' & data_exp1$AbszTotVal_Split=='1'), ]\n"
   ]
  },
  {
   "cell_type": "code",
   "execution_count": 89,
   "metadata": {},
   "outputs": [
    {
     "data": {
      "text/plain": [
       "[1] \"Like High BIC:\"\n",
       "[1] 4767.21\n",
       "[1] \"Like Low BIC:\"\n",
       "[1] 5133.136\n"
      ]
     },
     "metadata": {},
     "output_type": "display_data"
    },
    {
     "data": {
      "image/png": "[encoded data removed]"
     },
     "metadata": {},
     "output_type": "display_data"
    }
   ],
   "source": [
    "%%R\n",
    "#title\n",
    "title_plot = (\"zConfidence\")\n",
    "\n",
    "ModelConfidenceD_2 <- glm(zConf ~ zChosenVal + zUnchosenVal + zChosenVal+ zUnchosenVal, data=data_exp1_Like_Low) \n",
    "\n",
    "ModelConfidenceL_2 <- glm(zConf ~ zChosenVal + zUnchosenVal  +zChosenVal + zUnchosenVal, data=data_exp1_Like_High)\n",
    "BIC1 = BIC(ModelConfidenceL_2)\n",
    "BIC2 = BIC(ModelConfidenceD_2)\n",
    "print(\"Like High BIC:\")\n",
    "print(BIC1)\n",
    "print(\"Like Low BIC:\")\n",
    "print(BIC2)\n",
    "\n",
    "coefplot(ModelConfidenceL_2,intercept=FALSE,vertical = FALSE,  col.pts=\"blue\", cex.var=1.5, cex.pts=2,ylim=c(-0.5, 0.5), mar = c(8,4,5,1) ,main=title_plot)\n",
    "coefplot(ModelConfidenceD_2, intercept=FALSE, vertical = FALSE, add=TRUE, col.pts=\"cyan\", cex.var=1.5, cex.pts=2,mar = c(8,4,5,1))\n",
    "legend(\"topright\",  legend=c(\"Like High\", \"Like Low\"),col=c(\"blue\", \"cyan\"), lty=1:1, cex=1)"
   ]
  },
  {
   "cell_type": "markdown",
   "metadata": {},
   "source": [
    "## Dislike frame"
   ]
  },
  {
   "cell_type": "code",
   "execution_count": 90,
   "metadata": {},
   "outputs": [],
   "source": [
    "%%R\n",
    "# Separating the data for both conditions \n",
    "data_exp1_Dislike_Low <- data_exp1[ which(data_exp1$BlockCond=='2' & data_exp1$AbszTotVal_Split=='0'), ]\n",
    "data_exp1_Dislike_High <- data_exp1[ which(data_exp1$BlockCond=='2' & data_exp1$AbszTotVal_Split=='1'), ]\n"
   ]
  },
  {
   "cell_type": "code",
   "execution_count": 91,
   "metadata": {},
   "outputs": [
    {
     "data": {
      "text/plain": [
       "[1] \"Like High BIC:\"\n",
       "[1] 5466.781\n",
       "[1] \"Like Low BIC:\"\n",
       "[1] 5100.626\n"
      ]
     },
     "metadata": {},
     "output_type": "display_data"
    },
    {
     "data": {
      "image/png": "[encoded data removed]"
     },
     "metadata": {},
     "output_type": "display_data"
    }
   ],
   "source": [
    "%%R\n",
    "#title\n",
    "title_plot = (\"zConfidence\")\n",
    "\n",
    "ModelConfidenceD_2 <- glm(zConf ~  zChosenVal + zUnchosenVal , data=data_exp1_Dislike_Low) \n",
    "\n",
    "ModelConfidenceL_2 <- glm(zConf ~ zChosenVal + zUnchosenVal  , data=data_exp1_Dislike_High)\n",
    "BIC1 = BIC(ModelConfidenceL_2)\n",
    "BIC2 = BIC(ModelConfidenceD_2)\n",
    "print(\"Like High BIC:\")\n",
    "print(BIC1)\n",
    "print(\"Like Low BIC:\")\n",
    "print(BIC2)\n",
    "\n",
    "coefplot(ModelConfidenceL_2,intercept=FALSE,vertical = FALSE,  col.pts=\"red\", cex.var=1.5, cex.pts=2,ylim=c(-0.5, .5), mar = c(8,4,5,1) ,main=title_plot)\n",
    "coefplot(ModelConfidenceD_2, intercept=FALSE, vertical = FALSE, add=TRUE, col.pts=\"magenta\", cex.var=1.5, cex.pts=2,mar = c(8,4,5,1))\n",
    "legend(\"topright\",  legend=c(\"Dislike High\", \"Dislike Low\"),col=c(\"red\", \"magenta\"), lty=1:1, cex=1)"
   ]
  },
  {
   "cell_type": "markdown",
   "metadata": {},
   "source": [
    "## If we characterise PEB (positive evidence bias) as not necessarily refering only to the winning option, more to the influence of $\\Sigma$Val"
   ]
  },
  {
   "cell_type": "code",
   "execution_count": 102,
   "metadata": {},
   "outputs": [
    {
     "data": {
      "text/plain": [
       "[1] \"Like BIC:\"\n",
       "[1] 10006.94\n",
       "[1] \"DisLike BIC:\"\n",
       "[1] 10604.01\n"
      ]
     },
     "metadata": {},
     "output_type": "display_data"
    },
    {
     "data": {
      "image/png": "[encoded data removed]"
     },
     "metadata": {},
     "output_type": "display_data"
    }
   ],
   "source": [
    "%%R\n",
    "#title\n",
    "title_plot = (\"zConfidence\")\n",
    "\n",
    "ModelConfidenceL_2 <- glm(zConf ~  zAbsDVal + zTotVal +  zAbsDVal:zTotVal , data=data_exp1_Like)\n",
    "ModelConfidenceD_2 <- glm(zConf ~  zAbsDVal + zTotVal + zAbsDVal:zTotVal , data=data_exp1_DisLike)\n",
    "\n",
    "BIC1 = BIC(ModelConfidenceL_2)\n",
    "BIC2 = BIC(ModelConfidenceD_2)\n",
    "print(\"Like BIC:\")\n",
    "print(BIC1)\n",
    "print(\"DisLike BIC:\")\n",
    "print(BIC2)\n",
    "\n",
    "coefplot(ModelConfidenceD_2,intercept=FALSE,vertical = FALSE,  col.pts=\"red\", cex.var=1.5, cex.pts=2, ylim=c(-0.5, 0.5), mar = c(8,4,5,1) ,main=title_plot)\n",
    "coefplot(ModelConfidenceL_2, intercept=FALSE, vertical = FALSE, add=TRUE, col.pts=\"blue\", cex.var=1.5, cex.pts=2,mar = c(8,4,5,1))\n",
    "legend(\"topright\",  legend=c(\"Dislike\", \"Like\"),col=c(\"red\", \"blue\"), lty=1:1, cex=1)"
   ]
  },
  {
   "cell_type": "code",
   "execution_count": 100,
   "metadata": {},
   "outputs": [
    {
     "data": {
      "text/plain": [
       "[1] \"Like High BIC:\"\n",
       "[1] 4675.957\n",
       "[1] \"Like Low BIC:\"\n",
       "[1] 5079.896\n"
      ]
     },
     "metadata": {},
     "output_type": "display_data"
    },
    {
     "data": {
      "image/png": "[encoded data removed]"
     },
     "metadata": {},
     "output_type": "display_data"
    }
   ],
   "source": [
    "%%R\n",
    "#title\n",
    "title_plot = (\"zConfidence\")\n",
    "\n",
    "ModelConfidenceD_2 <- glm(zConf ~  zAbsDVal + zRT + zTotVal + zGSF   , data=data_exp1_Like_Low) \n",
    "\n",
    "ModelConfidenceL_2 <- glm(zConf ~ zAbsDVal + zRT + zTotVal + zGSF  , data=data_exp1_Like_High)\n",
    "BIC1 = BIC(ModelConfidenceL_2)\n",
    "BIC2 = BIC(ModelConfidenceD_2)\n",
    "print(\"Like High BIC:\")\n",
    "print(BIC1)\n",
    "print(\"Like Low BIC:\")\n",
    "print(BIC2)\n",
    "\n",
    "coefplot(ModelConfidenceL_2,intercept=FALSE,vertical = FALSE,  col.pts=\"blue\", cex.var=1.5, cex.pts=2,ylim=c(-0.5, 0.5), mar = c(8,4,5,1) ,main=title_plot)\n",
    "coefplot(ModelConfidenceD_2, intercept=FALSE, vertical = FALSE, add=TRUE, col.pts=\"cyan\", cex.var=1.5, cex.pts=2,mar = c(8,4,5,1))\n",
    "legend(\"topright\",  legend=c(\"Like High\", \"Like Low\"),col=c(\"blue\", \"cyan\"), lty=1:1, cex=1)"
   ]
  },
  {
   "cell_type": "code",
   "execution_count": 98,
   "metadata": {},
   "outputs": [
    {
     "data": {
      "text/plain": [
       "[1] \"Like High BIC:\"\n",
       "[1] 5273.875\n",
       "[1] \"Like Low BIC:\"\n",
       "[1] 4943.159\n"
      ]
     },
     "metadata": {},
     "output_type": "display_data"
    },
    {
     "data": {
      "image/png": "[encoded data removed]"
     },
     "metadata": {},
     "output_type": "display_data"
    }
   ],
   "source": [
    "%%R\n",
    "#title\n",
    "title_plot = (\"zConfidence\")\n",
    "\n",
    "ModelConfidenceD_2 <- glm(zConf ~  zAbsDVal + zRT + zTotVal + zGSF   , data=data_exp1_Dislike_Low) \n",
    "\n",
    "ModelConfidenceL_2 <- glm(zConf ~ zAbsDVal + zRT + zTotVal + zGSF  , data=data_exp1_Dislike_High)\n",
    "BIC1 = BIC(ModelConfidenceL_2)\n",
    "BIC2 = BIC(ModelConfidenceD_2)\n",
    "print(\"Like High BIC:\")\n",
    "print(BIC1)\n",
    "print(\"Like Low BIC:\")\n",
    "print(BIC2)\n",
    "\n",
    "coefplot(ModelConfidenceL_2,intercept=FALSE,vertical = FALSE,  col.pts=\"red\", cex.var=1.5, cex.pts=2,ylim=c(-0.5, .5), mar = c(8,4,5,1) ,main=title_plot)\n",
    "coefplot(ModelConfidenceD_2, intercept=FALSE, vertical = FALSE, add=TRUE, col.pts=\"magenta\", cex.var=1.5, cex.pts=2,mar = c(8,4,5,1))\n",
    "legend(\"topright\",  legend=c(\"Dislike High\", \"Dislike Low\"),col=c(\"red\", \"magenta\"), lty=1:1, cex=1)"
   ]
  },
  {
   "cell_type": "markdown",
   "metadata": {},
   "source": [
    " # Extras"
   ]
  },
  {
   "cell_type": "code",
   "execution_count": 92,
   "metadata": {},
   "outputs": [
    {
     "data": {
      "text/plain": [
       "[1] \"Like BIC:\"\n",
       "[1] 9954.698\n",
       "[1] \"DisLike BIC:\"\n",
       "[1] 10556.7\n"
      ]
     },
     "metadata": {},
     "output_type": "display_data"
    },
    {
     "data": {
      "image/png": "[encoded data removed]"
     },
     "metadata": {},
     "output_type": "display_data"
    }
   ],
   "source": [
    "%%R\n",
    "#title\n",
    "title_plot = (\"zConfidence\")\n",
    "\n",
    "ModelConfidenceL_2 <- glm(zConf ~ AbsDVal + ChosenVal + UnchosenVal  , data=data_exp1_Like)\n",
    "ModelConfidenceD_2 <- glm(zConf ~ AbsDVal +  ChosenVal + UnchosenVal , data=data_exp1_DisLike)\n",
    "\n",
    "BIC1 = BIC(ModelConfidenceL_2)\n",
    "BIC2 = BIC(ModelConfidenceD_2)\n",
    "print(\"Like BIC:\")\n",
    "print(BIC1)\n",
    "print(\"DisLike BIC:\")\n",
    "print(BIC2)\n",
    "\n",
    "coefplot(ModelConfidenceD_2,intercept=FALSE,vertical = FALSE,  col.pts=\"red\", cex.var=1.5, cex.pts=2, mar = c(8,4,5,1) ,ylim=c(-2, 2) ,main=title_plot)\n",
    "coefplot(ModelConfidenceL_2, intercept=FALSE, vertical = FALSE, add=TRUE, col.pts=\"blue\", cex.var=1.5, cex.pts=2,mar = c(8,4,5,1))\n",
    "legend(\"topright\",  legend=c(\"Dislike\", \"Like\"),col=c(\"red\", \"blue\"), lty=1:1, cex=1)"
   ]
  },
  {
   "cell_type": "code",
   "execution_count": 44,
   "metadata": {},
   "outputs": [
    {
     "data": {
      "text/plain": [
       "[1] \"Like BIC:\"\n",
       "[1] 9913.291\n",
       "[1] \"DisLike BIC:\"\n",
       "[1] 10570.46\n"
      ]
     },
     "metadata": {},
     "output_type": "display_data"
    },
    {
     "data": {
      "image/png": "[encoded data removed]"
     },
     "metadata": {},
     "output_type": "display_data"
    }
   ],
   "source": [
    "%%R\n",
    "#title\n",
    "title_plot = (\"zConfidence\")\n",
    "\n",
    "ModelConfidenceL_2 <- glm(zConf ~  zChosenVal + zUnchosenVal , data=data_exp1_Like)\n",
    "ModelConfidenceD_2 <- glm(zConf ~  zChosenVal + zUnchosenVal , data=data_exp1_DisLike)\n",
    "\n",
    "BIC1 = BIC(ModelConfidenceL_2)\n",
    "BIC2 = BIC(ModelConfidenceD_2)\n",
    "print(\"Like BIC:\")\n",
    "print(BIC1)\n",
    "print(\"DisLike BIC:\")\n",
    "print(BIC2)\n",
    "\n",
    "coefplot(ModelConfidenceD_2,intercept=FALSE,vertical = FALSE,  col.pts=\"red\", cex.var=1.5, cex.pts=2, mar = c(8,4,5,1) ,ylim=c(-.5, .5) ,main=title_plot)\n",
    "coefplot(ModelConfidenceL_2, intercept=FALSE, vertical = FALSE, add=TRUE, col.pts=\"blue\", cex.var=1.5, cex.pts=2,mar = c(8,4,5,1))\n",
    "legend(\"topright\",  legend=c(\"Dislike\", \"Like\"),col=c(\"red\", \"blue\"), lty=1:1, cex=1)"
   ]
  },
  {
   "cell_type": "markdown",
   "metadata": {},
   "source": [
    "# Appendix\n",
    "_____________________________________________________________________________________________________________________"
   ]
  },
  {
   "cell_type": "markdown",
   "metadata": {},
   "source": [
    "<a id='ImpPkg'></a>\n",
    "# 1. Import Packages"
   ]
  },
  {
   "cell_type": "code",
   "execution_count": 49,
   "metadata": {
    "scrolled": true
   },
   "outputs": [
    {
     "name": "stdout",
     "output_type": "stream",
     "text": [
      "Populating the interactive namespace from numpy and matplotlib\n"
     ]
    },
    {
     "name": "stderr",
     "output_type": "stream",
     "text": [
      "/Users/pradyumna/anaconda3/lib/python3.7/site-packages/IPython/core/magics/pylab.py:160: UserWarning: pylab import has clobbered these variables: ['pylab', 'copy']\n",
      "`%matplotlib` prevents importing * from pylab and numpy\n",
      "  \"\\n`%matplotlib` prevents importing * from pylab and numpy\"\n"
     ]
    }
   ],
   "source": [
    "import numpy as np\n",
    "import pandas as pd\n",
    "from pandas.core.frame import DataFrame as DF\n",
    "\n",
    "import seaborn as sns\n",
    "sns.set(color_codes=True)\n",
    "#np.random.seed(sum(map(ord, \"distributions\")))\n",
    "from sklearn import linear_model  # packages for the logistic regression function to plot the logistic regression \n",
    "from sklearn.linear_model import LogisticRegression # packages for the logistic regression function to plot the logistic regression \n",
    "import scipy\n",
    "from scipy import stats, integrate\n",
    "from scipy.stats import mode\n",
    "from scipy.stats.stats import pearsonr # Pearson's correlation\n",
    "from copy import copy as copy\n",
    "import operator as operator\n",
    "import pylab\n",
    "\n",
    "# Plotting tools\n",
    "%matplotlib inline\n",
    "import matplotlib.pyplot as plt\n",
    "import matplotlib.gridspec as gridspec\n",
    "import matplotlib.patches as mpatches\n",
    "from mpl_toolkits.mplot3d import Axes3D\n",
    "from matplotlib import cm\n",
    "%pylab inline\n",
    "figsize(5, 5)\n",
    "\n",
    "import glob\n",
    "\n",
    "import os\n",
    "# Added to avoid OMP:error#15\n",
    "os.environ['KMP_DUPLICATE_LIB_OK']='True'"
   ]
  },
  {
   "cell_type": "code",
   "execution_count": 50,
   "metadata": {},
   "outputs": [
    {
     "name": "stdout",
     "output_type": "stream",
     "text": [
      "The rpy2.ipython extension is already loaded. To reload it, use:\n",
      "  %reload_ext rpy2.ipython\n"
     ]
    }
   ],
   "source": [
    "import rpy2\n",
    "\n",
    "%load_ext rpy2.ipython\n",
    "# Set up interface with R\n",
    "# Make it easy to set and find values in a multi-index DF\n",
    "idx = pd.IndexSlice\n",
    "# Set up interface with R\n",
    "%config InlineBackend.figure_format = 'retina'\n",
    "import warnings\n",
    "from rpy2.rinterface import RRuntimeWarning\n",
    "warnings.filterwarnings(\"ignore\", category=RRuntimeWarning)\n"
   ]
  },
  {
   "cell_type": "code",
   "execution_count": 51,
   "metadata": {},
   "outputs": [
    {
     "data": {
      "text/plain": [
       "NULL\n"
      ]
     },
     "metadata": {},
     "output_type": "display_data"
    }
   ],
   "source": [
    "%%R\n",
    "# Use in case the libraries are not available in the system\n",
    "#install.packages('lme4')\n",
    "#install.packages(\"car\")\n",
    "#install.packages(\"ggplot2\")\n",
    "#install.packages(\"broom\")\n",
    "#install.packages(\"arm\") # arm is required for coefplot\n",
    "#install.packages(\"ggplot2\")\n",
    "#install.packages(\"optimx\")\n",
    "#install.packages(\"multcomp\")\n"
   ]
  },
  {
   "cell_type": "markdown",
   "metadata": {},
   "source": [
    "<a id='LoadFunc'></a>\n",
    "# 2. Defining Functions"
   ]
  },
  {
   "cell_type": "markdown",
   "metadata": {},
   "source": [
    "#### Taken from Folke et al. (2016)"
   ]
  },
  {
   "cell_type": "markdown",
   "metadata": {},
   "source": [
    "### Plot distributions"
   ]
  },
  {
   "cell_type": "code",
   "execution_count": 52,
   "metadata": {},
   "outputs": [],
   "source": [
    "def participant_densities(data, var, xlim=(0,100), rug=True):\n",
    "    # a counter that tells us where a given participant's data should be plotted\n",
    "    order = 1\n",
    "\n",
    "    # a list of all the participants in the dataset\n",
    "    participants = data.loc[:, 'Part'].unique()\n",
    "\n",
    "    # defining the figure size\n",
    "    sns.set_style('white')\n",
    "    fig = figure(figsize=(15,70))\n",
    "\n",
    "    for x in participants:\n",
    "        # defining the sub figures\n",
    "            sub={}\n",
    "            sub['%s' % x] = plt.subplot(len(participants)/2, 3, order)\n",
    "            sns.kdeplot(data.loc[data['Part'] == x, var].values, ax = sub['%s' % x], shade=True)\n",
    "            #if rug==True:\n",
    "            #    sns.rugplot(data.loc[data['Part'] == x, var].values, ax = sub['%s' % x])\n",
    "            sub['%s' % x].set_title('participant %s' % x)\n",
    "            #sub['%s' % x].set_xlim(xlim)\n",
    "            order += 1"
   ]
  },
  {
   "cell_type": "markdown",
   "metadata": {},
   "source": [
    "### Split variable into participantwise quantiles"
   ]
  },
  {
   "cell_type": "code",
   "execution_count": 53,
   "metadata": {},
   "outputs": [],
   "source": [
    "def parsplit(DF, input, quantiles):\n",
    "    qvalues = pd.qcut(DF[input], quantiles, labels = range(1, quantiles+1))\n",
    "    return qvalues"
   ]
  },
  {
   "cell_type": "markdown",
   "metadata": {},
   "source": [
    "### Full simple logistic graph"
   ]
  },
  {
   "cell_type": "code",
   "execution_count": 54,
   "metadata": {},
   "outputs": [],
   "source": [
    "def logisticplot_all (moderator, modhigh, modlow, data, xaxis='zDV', yaxis='G_choice', ylab='P(Chose Reference Item)', xlab='DV (Z-score)',\n",
    "                 modhighcol='#000000', modlowcol='#AAAAAA', title='empty', parvar='SubNo'):\n",
    "    \n",
    "    sns.set(font_scale=1.5, style='white')\n",
    "    fig = figure(figsize=(6,5))\n",
    "    fig.set_facecolor('white')\n",
    "    \n",
    "    # defining the sigmoid function\n",
    "    def model(x):\n",
    "        y = 1 / (1 + np.exp(-x))\n",
    "        return y\n",
    "    \n",
    "    sub = plt.subplot()\n",
    "\n",
    "\n",
    "    #run the classifier\n",
    "    clf = linear_model.LogisticRegression(C=1e5)\n",
    "\n",
    "    # Paula used these dictionaries to store the values of the predictive lines for all the participants.\n",
    "    logit_low = {}\n",
    "    logit_high = {}\n",
    "\n",
    "    # I think this defines the problem space\n",
    "    X_test = np.linspace(-5,10,300)\n",
    "\n",
    "    # fitting the predictive logistic model for the low_confidence trials, for a participant specified by x\n",
    "    # first I specify the value difference right - left, then I specify the choices, left or right\n",
    "    clf.fit(data.loc[data[(data[moderator]==0)].index, xaxis][:, np.newaxis],\n",
    "            data.loc[data[(data[moderator]==0)].index, yaxis])\n",
    "    logit_low = model(X_test*clf.coef_ + clf.intercept_).ravel()\n",
    "\n",
    "    print ('Low measure:logit coef =',clf.coef_, '; Intercept: ', clf.intercept_)\n",
    "\n",
    "\n",
    "    # fitting the predictive logistic model for the high_confidence trials, for a participant specified by x\n",
    "    # first I specify the value difference right - left, then I specify the choices, left or right\n",
    "    clf.fit(data.loc[data[(data[moderator]==1)].index, xaxis][:, np.newaxis],\n",
    "            data.loc[data[(data[moderator]==1)].index, yaxis])\n",
    "    logit_high = model(X_test * clf.coef_ + clf.intercept_).ravel()\n",
    "    \n",
    "    print ('high measure:logit coef =',clf.coef_, '; Intercept: ', clf.intercept_)\n",
    "\n",
    "    \n",
    "    \n",
    "    #Plotting the predictive lines\n",
    "    line_high = sub.plot(X_test, logit_high, color=modhighcol, linewidth=5, label=modhigh, zorder=6)\n",
    "    line_low = sub.plot(X_test, logit_low, color=modlowcol, linewidth=5, label=modlow, zorder=5)\n",
    "\n",
    "\n",
    "    #Plotting the binned data\n",
    "    data['DVBin2'] = data.groupby(parvar).apply(parsplit, input=xaxis, quantiles=4).values\n",
    "    \n",
    "    # determine the x coordinates\n",
    "    x_cords= data.groupby('DVBin2')[xaxis].mean()\n",
    "    \n",
    "    # determine low y coordinates\n",
    "    y_cords_low = data.loc[(data[moderator]==0), :].groupby('DVBin2')[yaxis].mean().values\n",
    "    \n",
    "    # determine low y standard errors\n",
    "    test = pd.DataFrame(data.loc[(data[moderator]==0), :].groupby(['DVBin2', parvar])[yaxis].mean()).reset_index()\n",
    "    y_low_error = test.groupby('DVBin2')[yaxis].std()/np.sqrt(len(test[parvar].unique()))\n",
    "    \n",
    "    \n",
    "    # determine high y coordinates\n",
    "    y_cords_high = data.loc[(data[moderator]==1), :].groupby('DVBin2')[yaxis].mean().values\n",
    "    \n",
    "    # determine high y standard errors\n",
    "    test2 = pd.DataFrame(data.loc[data[moderator]==1, :].groupby(['DVBin2', parvar])[yaxis].mean()).reset_index()\n",
    "    y_high_error = test2.groupby('DVBin2')[yaxis].std()/np.sqrt(len(test[parvar].unique()))\n",
    "    \n",
    "    # plot the low points\n",
    "    plt.scatter(x_cords, y_cords_low, c=modlowcol, marker='D', s=60, zorder=1)\n",
    "    # plot low error bars\n",
    "    plt.errorbar(x_cords, y_cords_low, yerr=y_low_error, fmt='o', zorder=3, c=modlowcol)\n",
    "    \n",
    "    # plot the high points\n",
    "    plt.scatter(x_cords, y_cords_high, c=modhighcol, marker='o', s=60, zorder=2)\n",
    "    # plot high error bars\n",
    "    plt.errorbar(x_cords, y_cords_high, yerr=y_high_error, fmt='o', zorder=4, c=modhighcol)\n",
    "    \n",
    "    \n",
    "    # Set Labels\n",
    "    sub.set_ylabel(ylab, fontsize=28)\n",
    "    sub.set_xlabel(xlab, fontsize=28)\n",
    "\n",
    "    # Set Ticks\n",
    "    sub.set_xticks((-5,-3,-1,1,3,5))\n",
    "    sub.set_yticks((0,0.25,0.5,0.75,1))\n",
    "    sub.tick_params(axis='both', which='major', labelsize=20)\n",
    "\n",
    "    # Set Limits\n",
    "    sub.set_ylim(-0.01, 1.01)\n",
    "    sub.set_xlim(-5, 5)\n",
    "\n",
    "    # Set Title\n",
    "    if title == 'empty':\n",
    "        sub.set_title('')\n",
    "    else:\n",
    "        sub.set_title(title)\n",
    "    \n",
    "    leg = sub.legend(loc=0, prop={'size':20})\n",
    "    leg.get_frame().set_linewidth(0.0)\n",
    "\n",
    "    sns.despine()"
   ]
  },
  {
   "cell_type": "markdown",
   "metadata": {},
   "source": [
    "### Full simple logistic graph (no bins)"
   ]
  },
  {
   "cell_type": "code",
   "execution_count": 55,
   "metadata": {},
   "outputs": [],
   "source": [
    "def logisticplot_simpl (moderator, modhigh, modlow, data, xaxis='zDV', yaxis='G_choice', ylab='P(Chose Reference Item)', xlab='DV (Z-score)',\n",
    "                 modhighcol='#000000', modlowcol='#AAAAAA', title='empty', parvar='SubNo'):\n",
    "    \n",
    "    sns.set(font_scale=1.5, style='white')\n",
    "    fig = figure(figsize=(8,7))\n",
    "    fig.set_facecolor('white')\n",
    "    \n",
    "    # defining the sigmoid function\n",
    "    def model(x):\n",
    "        y = 1 / (1 + np.exp(-x))\n",
    "        return y\n",
    "    \n",
    "    sub = plt.subplot()\n",
    "\n",
    "\n",
    "    #run the classifier\n",
    "    clf = linear_model.LogisticRegression(C=1e5)\n",
    "\n",
    "    # Paula used these dictionaries to store the values of the predictive lines for all the participants.\n",
    "    logit_low = {}\n",
    "    logit_high = {}\n",
    "\n",
    "    # I think this defines the problem space\n",
    "    X_test = np.linspace(-5,10,300)\n",
    "\n",
    "    # fitting the predictive logistic model for the low_confidence trials, for a participant specified by x\n",
    "    # first I specify the value difference right - left, then I specify the choices, left or right\n",
    "    clf.fit(data.loc[data[(data[moderator]==0)].index, xaxis][:, np.newaxis],\n",
    "            data.loc[data[(data[moderator]==0)].index, yaxis])\n",
    "    logit_low = model(X_test*clf.coef_ + clf.intercept_).ravel()\n",
    "    print ('Low measure coef',clf.coef_)\n",
    "    \n",
    "    # fitting the predictive logistic model for the high_confidence trials, for a participant specified by x\n",
    "    # first I specify the value difference right - left, then I specify the choices, left or right\n",
    "    clf.fit(data.loc[data[(data[moderator]==1)].index, xaxis][:, np.newaxis],\n",
    "            data.loc[data[(data[moderator]==1)].index, yaxis])\n",
    "    logit_high = model(X_test * clf.coef_ + clf.intercept_).ravel()\n",
    "    print ('High measure coef',clf.coef_)\n",
    "\n",
    "\n",
    "\n",
    "    #Plotting the predictive lines\n",
    "    line_high = sub.plot(X_test, logit_high, color=modhighcol, linewidth=5, label=modhigh, zorder=6)\n",
    "    line_low = sub.plot(X_test, logit_low, color=modlowcol, linewidth=5, label=modlow, zorder=5) \n",
    "    \n",
    "    # Set Labels\n",
    "    sub.set_ylabel(ylab, fontsize=30)\n",
    "    sub.set_xlabel(xlab, fontsize=30)\n",
    "\n",
    "    # Set Ticks\n",
    "    sub.set_xticks((-5,-3,-1,1,3,5))\n",
    "    sub.set_yticks((0,0.25,0.5,0.75,1))\n",
    "    sub.tick_params(axis='both', which='major', labelsize=20)\n",
    "\n",
    "    # Set Limits\n",
    "    sub.set_ylim(-0.01, 1.01)\n",
    "    sub.set_xlim(-5, 5)\n",
    "\n",
    "    # Set Title\n",
    "    if title == 'empty':\n",
    "        sub.set_title('')\n",
    "    else:\n",
    "        sub.set_title(title)\n",
    "    \n",
    "    leg = sub.legend(loc=0, prop={'size':20})\n",
    "    leg.get_frame().set_linewidth(0.0)\n",
    "\n",
    "    \n",
    "    sns.despine()"
   ]
  },
  {
   "cell_type": "markdown",
   "metadata": {},
   "source": [
    "### Regression Coefficients Plot"
   ]
  },
  {
   "cell_type": "code",
   "execution_count": 56,
   "metadata": {},
   "outputs": [],
   "source": [
    "def Coefpresplot(regtable, intercept=False, title='Regression Coefficients', size='big', ylimits=(), ymultiple=0.5, ticklabsize=25, n_ET_predictors = 0):\n",
    "\n",
    "    # Import itertools so that we can iterate through the colours\n",
    "    import itertools\n",
    "    \n",
    "    # Import locators so that we can tidy up the yaxis\n",
    "    from matplotlib.ticker import MultipleLocator, FormatStrFormatter\n",
    "    \n",
    "    # rounding function to get edges to even 0.5 values\n",
    "    def round_to(n, precision):\n",
    "        correction = 0.5 if n >= 0 else -0.5\n",
    "        return int( n/precision+correction ) * precision\n",
    "\n",
    "    def round_to_5(n):\n",
    "        return round_to(n, 0.5)\n",
    "\n",
    "    # Set seaborn style for the plot\n",
    "    sns.set(style='white')\n",
    "    \n",
    "    # Generate the figure\n",
    "    if size=='big':\n",
    "        fig = plt.figure(figsize=[20,8])\n",
    "    elif size=='long':\n",
    "        fig = plt.figure(figsize=[20,4])\n",
    "    elif size=='narrow':\n",
    "        fig = plt.figure(figsize=[10,4])\n",
    "        \n",
    "    fig.suptitle(title, fontsize=20)\n",
    "    gs = GridSpec(1,1,bottom=0.18,left=0.18,right=0.82)\n",
    "    ax = fig.add_subplot(gs[0,0])\n",
    "    \n",
    "    # Set axis limits based on whether to include the intercept or not    \n",
    "    if intercept == True:\n",
    "        XLim = (0.75, len(regtable.columns) + 0.25)\n",
    "        YLim = (round_to_5(regtable.loc['CImin', :].min()-0.1), round_to_5(regtable.loc['CImax', :].max()+0.2))\n",
    "    else:\n",
    "        XLim = (0.75, len(regtable.columns) - 0.75)\n",
    "        YLim = (round_to_5(regtable.loc['CImin', regtable.columns[1]:].min()-0.2), round_to_5(regtable.loc['CImax', regtable.columns[1]:].max()+0.2))\n",
    "    if ylimits != ():\n",
    "        YLim = ylimits\n",
    "    ax.set_xlim(XLim)\n",
    "    ax.set_ylim(YLim)\n",
    "    \n",
    "    # Draw a line through the 0-value on the y-axis\n",
    "    line = ax.plot(XLim, [0, 0], color='black', ls='--', alpha = 0.5, lw=3)\n",
    "    \n",
    "    \n",
    "    # If intercept is true, plot the coefficient for the intercept\n",
    "    if intercept == True:\n",
    "        Coefficients = regtable.columns\n",
    "    else:\n",
    "        Coefficients = regtable.columns[1:]\n",
    "        \n",
    "    # Determine the colours for the coefficients based on the n_ET_variable\n",
    "    n_predictors = len(Coefficients)\n",
    "    n_non_ET_predictors = n_predictors - n_ET_predictors\n",
    "    \n",
    "    colourlist = ['#000000'] * n_non_ET_predictors + ['#03719c'] * n_ET_predictors\n",
    "    \n",
    "        \n",
    "    # Plot all the coefficients with 95% CI\n",
    "    position = 0\n",
    "    for Coefficient in Coefficients:\n",
    "        position += 1\n",
    "        ax.plot(position, regtable.loc['coefficient', Coefficient], marker='o', ms=8, color=colourlist[position-1],)\n",
    "        ax.errorbar(position, regtable.loc['coefficient', Coefficient],\n",
    "                    yerr=regtable.loc['se', Coefficient]*1.96, lw=2, color=colourlist[position-1])\n",
    "\n",
    "    # Setting the x-axis major tick's location\n",
    "    ax.set_xticks(range(1, position+1))\n",
    "    \n",
    "    # set the y-axis major tick position\n",
    "    ax.yaxis.set_major_locator(MultipleLocator(ymultiple))\n",
    "\n",
    "\n",
    "    # Setting the x-axis major tick's label\n",
    "    if intercept == True:\n",
    "        ax.set_xticklabels(regtable.columns, rotation=40)\n",
    "    else: \n",
    "        ax.set_xticklabels(regtable.columns[1:], rotation=40)\n",
    "    \n",
    "    ax.tick_params(axis='both', which='major', labelsize=ticklabsize)\n",
    "    ax.set_ylabel('Fixed Effects Coefficients', fontsize=18)\n",
    "    \n",
    "    # Autoformats the ticklabels for the xaxis\n",
    "    fig.autofmt_xdate()\n",
    "    \n",
    "    sns.despine()"
   ]
  },
  {
   "cell_type": "code",
   "execution_count": 57,
   "metadata": {},
   "outputs": [],
   "source": [
    "def Coefpresplot2(regtable,regtable2, intercept=False, title='Regression Coefficients', size='big', ylimits=(), ymultiple=0.5, ticklabsize=25, n_ET_predictors = 0):\n",
    "\n",
    "    # Import itertools so that we can iterate through the colours\n",
    "    import itertools\n",
    "    \n",
    "    # Import locators so that we can tidy up the yaxis\n",
    "    from matplotlib.ticker import MultipleLocator, FormatStrFormatter\n",
    "    \n",
    "    # rounding function to get edges to even 0.5 values\n",
    "    def round_to(n, precision):\n",
    "        correction = 0.5 if n >= 0 else -0.5\n",
    "        return int( n/precision+correction ) * precision\n",
    "\n",
    "    def round_to_5(n):\n",
    "        return round_to(n, 0.5)\n",
    "\n",
    "    # Set seaborn style for the plot\n",
    "    sns.set(style='white')\n",
    "    \n",
    "    # Generate the figure\n",
    "    if size=='big':\n",
    "        fig = plt.figure(figsize=[20,8])\n",
    "    elif size=='long':\n",
    "        fig = plt.figure(figsize=[20,4])\n",
    "    elif size=='narrow':\n",
    "        fig = plt.figure(figsize=[10,4])\n",
    "        \n",
    "    fig.suptitle(title, fontsize=20)\n",
    "    gs = GridSpec(1,1,bottom=0.18,left=0.18,right=0.82)\n",
    "    ax = fig.add_subplot(gs[0,0])\n",
    "    \n",
    "\n",
    "    # Set axis limits based on whether to include the intercept or not    \n",
    "    \n",
    "       \n",
    "    \n",
    "    if intercept == True:\n",
    "        \n",
    "        XLim = (0.75, len(regtable.columns) + 0.25)\n",
    "        \n",
    "        #Determine the Ymax and Ymin for both regresions results\n",
    "        if round_to_5(regtable.loc['CImin', :].min()) < round_to_5(regtable2.loc['CImin', :].min()):\n",
    "            Ymin = round_to_5(regtable.loc['CImin', :].min()-0.5)\n",
    "        else :\n",
    "            Ymin = round_to_5(regtable2.loc['CImin',:].min()-0.5)\n",
    "        if round_to_5(regtable.loc['CImax', :].max()) > round_to_5(regtable2.loc['CImax', :].max()):\n",
    "            Ymax = round_to_5(regtable.loc['CImax', :].max()+0.5)\n",
    "        else :\n",
    "            Ymax = round_to_5(regtable2.loc['CImax', :].max()+0.5)      \n",
    "\n",
    "        YLim = (Ymin, Ymax)    \n",
    "    else:\n",
    "        XLim = (0.75, len(regtable.columns) - 0.75)\n",
    "        \n",
    "        #Determine the Ymax and Ymin for both regresions results\n",
    "        if round_to_5(regtable.loc['CImin', regtable.columns[1]:].min()) < round_to_5(regtable2.loc['CImin', regtable.columns[1]:].min()):\n",
    "            Ymin = round_to_5(regtable.loc['CImin', regtable.columns[1]:].min()-0.5)\n",
    "        else :\n",
    "            Ymin = round_to_5(regtable2.loc['CImin',regtable.columns[1]:].min()-0.5)\n",
    "        if round_to_5(regtable.loc['CImax', regtable.columns[1]:].max()) > round_to_5(regtable2.loc['CImax', regtable.columns[1]:].max()):\n",
    "            Ymax = round_to_5(regtable.loc['CImax', regtable.columns[1]:].max()+0.5)\n",
    "        else :\n",
    "            Ymax = round_to_5(regtable2.loc['CImax', regtable.columns[1]:].max()+0.5)      \n",
    "        \n",
    "        YLim = (Ymin, Ymax)\n",
    "    \n",
    "    if ylimits != ():\n",
    "        YLim = ylimits\n",
    "    ax.set_xlim(XLim)\n",
    "    ax.set_ylim(YLim)\n",
    "    \n",
    "    # Draw a line through the 0-value on the y-axis\n",
    "    line = ax.plot(XLim, [0, 0], color='black', ls='--', alpha = 0.5, lw=3)\n",
    "    \n",
    "    \n",
    "    # If intercept is true, plot the coefficient for the intercept\n",
    "    # both regtable should have the same regressors (and in the same order)\n",
    "\n",
    "    if intercept == True:\n",
    "        Coefficients = regtable.columns\n",
    " #       Coefficients2 = regtable2.columns\n",
    "    else:\n",
    "        Coefficients = regtable.columns[1:]\n",
    "#        Coefficients2 = regtable2.columns[1:]\n",
    "        \n",
    "    # Determine the colours for the coefficients based on the n_ET_variable\n",
    "    n_predictors = len(Coefficients)\n",
    "    n_non_ET_predictors = n_predictors - n_ET_predictors\n",
    "    \n",
    "    colourlist = ['#000000'] * n_non_ET_predictors + ['#03719c'] * n_ET_predictors\n",
    "    \n",
    "        \n",
    "    # Plot all the coefficients with 95% CI\n",
    "    position = 0\n",
    "    for Coefficient in Coefficients:\n",
    "        position += 1\n",
    "        ax.plot(position-0.1, regtable.loc['coefficient', Coefficient], marker='o', ms=8, color='blue',label = 'Like')\n",
    "        ax.plot(position+0.1, regtable2.loc['coefficient', Coefficient], marker='X', ms=8, color='red', label = 'Dislike')\n",
    "\n",
    "\n",
    "        ax.errorbar(position-0.1, regtable.loc['coefficient', Coefficient],\n",
    "                    yerr=regtable.loc['se', Coefficient]*1.96, lw=2, color='blue')\n",
    "        ax.errorbar(position+0.1, regtable2.loc['coefficient', Coefficient],\n",
    "                    yerr=regtable2.loc['se', Coefficient]*1.96, lw=2, color='red')\n",
    "        \n",
    "        if position == 1:\n",
    "            ax.legend( prop={'size': 20})\n",
    "\n",
    " \n",
    "    # Setting the x-axis major tick's location\n",
    "    ax.set_xticks(range(1, position+1))\n",
    "    \n",
    "    # set the y-axis major tick position\n",
    "    ax.yaxis.set_major_locator(MultipleLocator(ymultiple))\n",
    "\n",
    "    # Setting the x-axis major tick's label\n",
    "    if intercept == True:\n",
    "        ax.set_xticklabels(regtable.columns, rotation=40)\n",
    "    else: \n",
    "        ax.set_xticklabels(regtable.columns[1:], rotation=40)\n",
    "    \n",
    "    ax.tick_params(axis='both', which='major', labelsize=ticklabsize)\n",
    "    ax.set_ylabel('Fixed Effects Coefficients', fontsize=18)\n",
    "    \n",
    "    # Autoformats the ticklabels for the xaxis\n",
    "    fig.autofmt_xdate()\n",
    "\n",
    "    sns.despine()\n",
    "    fig.savefig(str('SavedFigures/'+title +'.png'), dpi = 200 )"
   ]
  },
  {
   "cell_type": "code",
   "execution_count": 58,
   "metadata": {},
   "outputs": [],
   "source": [
    "def Coefpresplot_bar(regtable, mixtable, intercept=False, barcol='#000000', title='Regression Coefficients', size='big', ylimits=(), ymultiple=0.5, ticklabsize=25, n_ET_predictors = 0 ):\n",
    "\n",
    "    # Import itertools so that we can iterate through the colours\n",
    "    import itertools\n",
    "    \n",
    "    # Import locators so that we can tidy up the yaxis\n",
    "    from matplotlib.ticker import MultipleLocator, FormatStrFormatter\n",
    "    \n",
    "    # rounding function to get edges to even 0.5 values\n",
    "    def round_to(n, precision):\n",
    "        correction = 0.5 if n >= 0 else -0.5\n",
    "        return int( n/precision+correction ) * precision\n",
    "\n",
    "    def round_to_5(n):\n",
    "        return round_to(n, 0.5)\n",
    "            \n",
    "    # Set seaborn style for the plot\n",
    "    sns.set(style='white')\n",
    "    \n",
    "    # Generate the figure\n",
    "    if size=='big':\n",
    "        fig = plt.figure(figsize=[20,8])\n",
    "    elif size=='long':\n",
    "        fig = plt.figure(figsize=[20,4])\n",
    "    elif size=='narrow':\n",
    "        fig = plt.figure(figsize=[10,4])\n",
    "        \n",
    "    fig.suptitle(title, fontsize=20)\n",
    "    gs = GridSpec(1,1,bottom=0.18,left=0.18,right=0.82)\n",
    "    ax = fig.add_subplot(gs[0,0])\n",
    "    \n",
    "    # Set axis limits based on whether to include the intercept or not    \n",
    "    if intercept == True:\n",
    "        XLim = (0, len(regtable.columns) + 1)\n",
    "        YLim = (round_to_5(np.min(mixtable)-0.2), round_to_5(np.max(mixtable)+0.2))\n",
    "    else:\n",
    "        XLim = (0, len(regtable.columns) )\n",
    "        YLim = (round_to_5(np.min(mixtable)-0.2), round_to_5(np.max(mixtable)+0.2))\n",
    "    if ylimits != ():\n",
    "        YLim = ylimits\n",
    "    ax.set_xlim(XLim)\n",
    "    ax.set_ylim(YLim)\n",
    "    \n",
    "    # Draw a line through the 0-value on the y-axis\n",
    "    line = ax.plot(XLim, [0, 0], color='black', ls='--', alpha = 0.5, lw=3)\n",
    "    \n",
    "    \n",
    "    # If intercept is true, plot the coefficient for the intercept\n",
    "    if intercept == True:\n",
    "        Coefficients = regtable.columns\n",
    "    else:\n",
    "        Coefficients = regtable.columns[1:]\n",
    "        \n",
    "    # Determine the colours for the coefficients based on the n_ET_variable\n",
    "    n_predictors = len(Coefficients)\n",
    "    n_non_ET_predictors = n_predictors - n_ET_predictors\n",
    "    \n",
    "    colourlist = [barcol] * n_non_ET_predictors + ['#03719c'] * n_ET_predictors\n",
    "    \n",
    "        \n",
    "    # Plot all the coefficients with 95% CI\n",
    "    position = 0\n",
    "    for Coefficient in Coefficients:\n",
    "        position += 1\n",
    "        ax.bar(position, regtable.loc['coefficient', Coefficient], width=0.8,color=colourlist[position-1],)\n",
    "        ax.errorbar(position, regtable.loc['coefficient', Coefficient],\n",
    "                    yerr=regtable.loc['se', Coefficient]*1.96, lw=2, color='#000000')\n",
    "        \n",
    "   # Plot dots for the individual coefficients\n",
    "    coef_num = len(mixtable)\n",
    "    for i in range(1,coef_num):\n",
    "        part_coefs = mixtable[i]\n",
    "        position_parts= np.full(len(part_coefs), i, dtype=int)\n",
    "        jittr = np.random.uniform(low=-0.5,high=0.5,size=len(part_coefs))/2\n",
    "        ax.plot(position_parts+jittr, part_coefs, marker='o', ms=8, color='#000000',alpha=0.3,linestyle=\"None\")\n",
    "\n",
    "        \n",
    "\n",
    "    # Setting the x-axis major tick's location\n",
    "    ax.set_xticks(range(1, position+1))\n",
    "    \n",
    "    # set the y-axis major tick position\n",
    "    ax.yaxis.set_major_locator(MultipleLocator(ymultiple))\n",
    "\n",
    "\n",
    "    # Setting the x-axis major tick's label\n",
    "    if intercept == True:\n",
    "        ax.set_xticklabels(regtable.columns, rotation=40)\n",
    "    else: \n",
    "        ax.set_xticklabels(regtable.columns[1:], rotation=40)\n",
    "    \n",
    "    ax.tick_params(axis='both', which='major', labelsize=ticklabsize)\n",
    "    ax.set_ylabel('Regression Coefficients', fontsize=18)\n",
    "    \n",
    "    # Autoformats the ticklabels for the xaxis\n",
    "    fig.autofmt_xdate()\n",
    "    \n",
    "    sns.despine()"
   ]
  },
  {
   "cell_type": "code",
   "execution_count": 59,
   "metadata": {},
   "outputs": [],
   "source": [
    "def Coefpresplot_bar2(regtable1, mixtable1,regtable2, mixtable2, intercept=False, barcol1='#000000',barcol2='#000000', title='Regression Coefficients', size='big', ylimits=(), ymultiple=0.5, ticklabsize=25, n_ET_predictors = 0 ):\n",
    "\n",
    "    # Import itertools so that we can iterate through the colours\n",
    "    import itertools\n",
    "    \n",
    "    # Import locators so that we can tidy up the yaxis\n",
    "    from matplotlib.ticker import MultipleLocator, FormatStrFormatter\n",
    "    \n",
    "    # rounding function to get edges to even 0.5 values\n",
    "    def round_to(n, precision):\n",
    "        correction = 0.5 if n >= 0 else -0.5\n",
    "        return int( n/precision+correction ) * precision\n",
    "\n",
    "    def round_to_5(n):\n",
    "        return round_to(n, 0.5)\n",
    "            \n",
    "    # Set seaborn style for the plot\n",
    "    sns.set(style='white')\n",
    "    \n",
    "    # Generate the figure\n",
    "    if size=='big':\n",
    "        fig = plt.figure(figsize=[20,8])\n",
    "    elif size=='long':\n",
    "        fig = plt.figure(figsize=[20,4])\n",
    "    elif size=='narrow':\n",
    "        fig = plt.figure(figsize=[10,4])\n",
    "        \n",
    "    fig.suptitle(title, fontsize=20)\n",
    "    gs = GridSpec(1,1,bottom=0.18,left=0.18,right=0.82)\n",
    "    ax = fig.add_subplot(gs[0,0])\n",
    "    \n",
    "    # Set axis limits based on whether to include the intercept or not   \n",
    "    # Assumuing that regtable1 and regtable2 have exactly the same number of coefficients\n",
    "    if intercept == True:\n",
    "        XLim = (0, len(regtable1.columns) + 2)\n",
    "        YLim = (round_to_5(np.min([mixtable1,mixtable2]))-0.2, round_to_5(np.max([mixtable1,mixtable2]))+0.2)\n",
    "    else:\n",
    "        XLim = (0, len(regtable1.columns) +1)\n",
    "        YLim = (round_to_5(np.min([mixtable1,mixtable2]))-0.2, round_to_5(np.max([mixtable1,mixtable2]))+0.2)\n",
    "    if ylimits != ():\n",
    "        YLim = ylimits\n",
    "    ax.set_xlim(XLim)\n",
    "    ax.set_ylim(YLim)\n",
    "    \n",
    "    # Draw a line through the 0-value on the y-axis\n",
    "    line = ax.plot(XLim, [0, 0], color='black', ls='--', alpha = 0.5, lw=3)\n",
    "    \n",
    "    \n",
    "    # If intercept is true, plot the coefficient for the intercept\n",
    "    # Assumuing that regtable1 and regtable2 have exactly the same number of coefficients\n",
    "\n",
    "    if intercept == True:\n",
    "        Coefficients = regtable1.columns\n",
    "    else:\n",
    "        if len(regtable1.columns)<len(mixtable1):\n",
    "            Coefficients = regtable1.columns\n",
    "        else:\n",
    "            Coefficients = regtable1.columns[1:]\n",
    "        \n",
    "    # Determine the colours for the coefficients based on the n_ET_variable\n",
    "    n_predictors = len(Coefficients)\n",
    "    n_non_ET_predictors = n_predictors - n_ET_predictors\n",
    "    \n",
    "    # Color for conditions 1 and 2\n",
    "    colourlist1 = [barcol1] * n_non_ET_predictors + ['#03719c'] * n_ET_predictors\n",
    "    colourlist2 = [barcol2] * n_non_ET_predictors + ['#03719c'] * n_ET_predictors\n",
    "    \n",
    "        \n",
    "    # Plot all the coefficients with 95% CI\n",
    "    position = 0\n",
    "    for Coefficient in Coefficients:\n",
    "        position += 1\n",
    "        # Plot condition 1\n",
    "        ax.bar(position-0.2, regtable1.loc['coefficient', Coefficient], width=0.4,color=colourlist1[position-1],)\n",
    "        ax.errorbar(position-0.2, regtable1.loc['coefficient', Coefficient],\n",
    "                    yerr=regtable1.loc['se', Coefficient]*1.96, lw=2, color='#000000')\n",
    "\n",
    "        # Plot condition 2\n",
    "        ax.bar(position+0.2, regtable2.loc['coefficient', Coefficient], width=0.4,color=colourlist2[position-1],)\n",
    "        ax.errorbar(position+0.2, regtable2.loc['coefficient', Coefficient],\n",
    "                    yerr=regtable2.loc['se', Coefficient]*1.96, lw=2, color='#000000')\n",
    "\n",
    "        \n",
    "   # Plot dots for the individual coefficients\n",
    "    # Assumuing that mixtable1 and mixtable2 have exactly the same number of elements \n",
    "    \n",
    "    if intercept == True:\n",
    "        coef_num = range(0,len(mixtable1)) \n",
    "    else:\n",
    "        coef_num = range(1,len(mixtable1))\n",
    "        \n",
    "    for i in coef_num:\n",
    "        # Plot dots condition 1\n",
    "        part_coefs = mixtable1[i]\n",
    "        position_parts= np.full(len(part_coefs), i, dtype=int)\n",
    "        jittr = np.random.uniform(low=-0.2,high=0.2,size=len(part_coefs))/2\n",
    "        ax.plot(position_parts-0.2+jittr, part_coefs, marker='o', ms=8, color='#000000',alpha=0.3,linestyle=\"None\")\n",
    "\n",
    "        # Plot dots condition 1\n",
    "        part_coefs = mixtable2[i]\n",
    "        position_parts= np.full(len(part_coefs), i, dtype=int)\n",
    "        jittr = np.random.uniform(low=-0.2,high=0.2,size=len(part_coefs))/2\n",
    "        ax.plot(position_parts+0.2+jittr, part_coefs, marker='o', ms=8, color='#000000',alpha=0.3,linestyle=\"None\")\n",
    "        \n",
    "\n",
    "    # Setting the x-axis major tick's location\n",
    "    ax.set_xticks(range(1, position+1))\n",
    "    \n",
    "    # set the y-axis major tick position\n",
    "    ax.yaxis.set_major_locator(MultipleLocator(ymultiple))\n",
    "\n",
    "\n",
    "    # Setting the x-axis major tick's label\n",
    "    if intercept == True:\n",
    "        ax.set_xticklabels(regtable1.columns, rotation=0)        \n",
    "    else:\n",
    "        if len(regtable1.columns)<len(mixtable1):\n",
    "            ax.set_xticklabels(regtable1.columns, rotation=0)\n",
    "        else:    \n",
    "            ax.set_xticklabels(regtable1.columns[1:], rotation=0)\n",
    "    \n",
    "    ax.tick_params(axis='both', which='major', labelsize=ticklabsize)\n",
    "    ax.set_ylabel('Regression Coefficients', fontsize=18)\n",
    "    \n",
    "    # Autoformats the ticklabels for the xaxis\n",
    "    fig.autofmt_xdate()\n",
    "    \n",
    "    sns.despine()"
   ]
  },
  {
   "cell_type": "code",
   "execution_count": 60,
   "metadata": {},
   "outputs": [],
   "source": [
    "def regtable(fix, fix_se, names):\n",
    "    fixed_betas = DF(np.array(fix)); fixed_betas = fixed_betas.transpose(); fixed_betas.columns = names\n",
    "    fixed_betas.loc[1] = np.array(fix_se)\n",
    "    fixed_betas.loc[2] = fixed_betas.loc[0] - (fixed_betas.loc[1]*1.96)\n",
    "    fixed_betas.loc[3] = fixed_betas.loc[0] + (fixed_betas.loc[1]*1.96)\n",
    "    fixed_betas.index = ['coefficient', 'se', 'CImin', 'CImax']\n",
    "    return fixed_betas"
   ]
  },
  {
   "cell_type": "code",
   "execution_count": 61,
   "metadata": {},
   "outputs": [],
   "source": [
    "def correl_plot2 (data_all,data_all2,x_variable,y_variable,color1 = '#000000',color2 = '#000000',x_varlabel = \"x_variable\" ,y_varlabel = \"y_variable\", data_label =('Correct', 'Error'), ylims=(0,0),xlims=(0,0), title = \"Pretty PLot\"):\n",
    "\n",
    "    f = plt.figure(figsize=(8, 8))\n",
    "    sns.set(style='white', font_scale=1.8)\n",
    "    ax = sns.regplot(data=data_all, x= x_variable, y=y_variable, fit_reg=False, ci=0, color= color1, scatter_kws={'s':20,'alpha':0.1},)\n",
    "    ax = sns.regplot(data=data_all2, x= x_variable, y=y_variable, fit_reg=False, ci=0, color= color2, scatter_kws={'s':20,'alpha':0.1})\n",
    "    ax.set(ylabel=y_varlabel, xlabel=x_varlabel)\n",
    "\n",
    "    # For data 1\n",
    "    x=data_all[x_variable]\n",
    "    y=data_all[y_variable]\n",
    "    fit = np.polyfit(x, y, deg=1)\n",
    "    future = np.arange(min(x)-0.2, max(x)+0.2, 0.01)\n",
    "    fit_fn = np.poly1d(fit)\n",
    "    future_fit = np.polyval(fit_fn, future)\n",
    "    p1 = ax.plot(future, future_fit, color=color1, lw=3, label = data_label[0])\n",
    "    \n",
    "    results = pearsonr(data_all[x_variable], data_all[y_variable])\n",
    "    print (\"Data 1: Pearson's r = {0}\".format(np.round(results[0], 3)), \", p = \", np.round(results[1], 3), \", slope = \", np.round(results[1], 3) )\n",
    "    \n",
    "    # For data 2\n",
    "    x=data_all2[x_variable]\n",
    "    y=data_all2[y_variable]\n",
    "    fit = np.polyfit(x, y, deg=1)\n",
    "    future = np.arange(min(x)-0.2, max(x)+0.2, 0.01)\n",
    "    fit_fn = np.poly1d(fit)\n",
    "    future_fit = np.polyval(fit_fn, future)\n",
    "    p2 = ax.plot(future, future_fit, color=color2, lw=3,label = data_label[1] )\n",
    "    sns.despine()\n",
    "    #ax.set_title(title)    \n",
    "    results = pearsonr(data_all2[x_variable], data_all2[y_variable])\n",
    "    print (\"Data 2: Pearson's r = {0}\".format(np.round(results[0], 3)), \", p = \", np.round(results[1], 3))\n",
    "    \n",
    "    ax.legend()\n",
    "    ax.set_title(title)\n",
    "    \n",
    "    if ylims[0] !=0 and ylims[0] != 0: \n",
    "                ax.set_ylim(ylims[0],ylims[1])\n",
    "            \n",
    "    if xlims[0] !=0 and xlims[0] != 0: \n",
    "                ax.set_xlim(xlims[0],xlims[1])\n",
    "\n",
    "    \n",
    "    plt.show()"
   ]
  },
  {
   "cell_type": "code",
   "execution_count": 62,
   "metadata": {},
   "outputs": [],
   "source": [
    "def logisticplot_all_sbj_slope(moderator, modhigh, modlow, data, xaxis='zDV', yaxis='G_choice', ylab='P(Chose Reference Item)', xlab='DV (Z-score)',\n",
    "                 modhighcol='#000000', modlowcol='#AAAAAA', title='empty', parvar='SubNo'):\n",
    "    \n",
    "#inputs example   \n",
    "#logisticplot_all('DDTSplit', 'High DDT', 'Low DDT', data=data_expL, xaxis='zDVal', yaxis='Choice', ylab='P(Right Item)', xlab='Difference in Value (DVal)',\n",
    "#                 modhighcol='#4F6A9A', modlowcol='#B5C8E9', title='empty', parvar='Part')\n",
    "\n",
    "\n",
    "    # Counter to know where to plot the particpant\n",
    "    order = 1\n",
    "    # Initialize the array to store coefs\n",
    "    coefs_all = []\n",
    "\n",
    "   # a list of all the participants in the dataset\n",
    "    participants = data.loc[:, 'Part'].unique()\n",
    "\n",
    "    # defining the figure size\n",
    "    sns.set_style('white')\n",
    "    fig = figure(figsize=(50,70))\n",
    "\n",
    "    for x in participants:\n",
    "        # defining the sub figures\n",
    "            sub={}\n",
    "            sub['%s' % x] = plt.subplot(int(len(participants)/5+1), 5, order)\n",
    "            \n",
    "            \n",
    "            # Extract dataframe for that particualt participant\n",
    "            data_in = data.loc[data['Part'] == x]\n",
    "           \n",
    "            sns.set(font_scale=1.5, style='white')\n",
    "           \n",
    "            # defining the sigmoid function\n",
    "            def model(x):\n",
    "                y = 1 / (1 + np.exp(-x))\n",
    "                return y\n",
    "\n",
    "            #sub = plt.subplot()\n",
    "            sub['%s' % x].set_title('Part. %s' % x, fontsize = 50 )\n",
    "\n",
    "\n",
    "            #run the classifier\n",
    "            clf = linear_model.LogisticRegression(C=1e5)\n",
    "\n",
    "            # Paula used these dictionaries to store the values of the predictive lines for all the participants.\n",
    "            logit_low = {}\n",
    "            logit_high = {}\n",
    "            logit_all = {}\n",
    "\n",
    "            \n",
    "            # I think this defines the problem space\n",
    "            X_test = np.linspace(-5,10,300)\n",
    "\n",
    "            # fitting the predictive logistic model for the low_confidence trials, for a participant specified by x\n",
    "            # first I specify the value difference right - left, then I specify the choices, left or right\n",
    "            clf.fit(data_in.loc[data_in[(data[moderator]==0)].index, xaxis][:, np.newaxis],\n",
    "                    data_in.loc[data_in[(data[moderator]==0)].index, yaxis])\n",
    "            logit_low = model(X_test*clf.coef_ + clf.intercept_).ravel()\n",
    "\n",
    "            #print ('Part: ',x , ' Low measure:logit coef =',clf.coef_, '; Intercept: ', clf.intercept_)\n",
    "\n",
    "            low_coef = clf.coef_\n",
    "            low_intercept = clf.intercept_\n",
    "            \n",
    "            # fitting the predictive logistic model for the high_confidence trials, for a participant specified by x\n",
    "            # first I specify the value difference right - left, then I specify the choices, left or right\n",
    "            clf.fit(data_in.loc[data_in[(data_in[moderator]==1)].index, xaxis][:, np.newaxis],\n",
    "                    data_in.loc[data_in[(data_in[moderator]==1)].index, yaxis])\n",
    "            logit_high = model(X_test * clf.coef_ + clf.intercept_).ravel()\n",
    "\n",
    "            #print ('Part: ',x ,' High measure:logit coef =',clf.coef_, '; Intercept: ', clf.intercept_)\n",
    "            \n",
    "            high_coef = clf.coef_\n",
    "            high_intercept = clf.intercept_\n",
    "            \n",
    "            \n",
    "            # fitting the predictive logistic model for all the trials, for a participant specified by x\n",
    "            # first I specify the value difference right - left, then I specify the choices, left or right\n",
    "            clf.fit(data_in[xaxis][:, np.newaxis],\n",
    "                    data_in[yaxis])\n",
    "            logit_all = model(X_test * clf.coef_ + clf.intercept_).ravel()\n",
    "\n",
    "            #print ('Part: ',x ,' High measure:logit coef =',clf.coef_, '; Intercept: ', clf.intercept_)\n",
    "            \n",
    "            all_coef = clf.coef_\n",
    "            all_intercept = clf.intercept_\n",
    "    \n",
    "            #Plotting the predictive lines\n",
    "            line_high = sub['%s' % x].plot(X_test, logit_high, color=modhighcol, linewidth=5, label=modhigh, zorder=6)\n",
    "            line_low = sub['%s' % x].plot(X_test, logit_low, color=modlowcol, linewidth=5, label=modlow, zorder=5)\n",
    "            line_all = sub['%s' % x].plot(X_test, logit_all, color=\"#000000\", linewidth=3, label=modlow, zorder=5,linestyle='--')\n",
    "            \n",
    "            coefs_part= np.column_stack((x,low_coef,low_intercept,high_coef,high_intercept,all_coef,all_intercept))\n",
    "            coefs_all.append(coefs_part[0])\n",
    "\n",
    "            \n",
    "            #Plotting the binned data\n",
    "            data_in['DVBin2'] = data_in.groupby(parvar).apply(parsplit, input=xaxis, quantiles=4).values[0]\n",
    "\n",
    "            # determine the x coordinates\n",
    "            x_cords= data.groupby('DVBin2')[xaxis].mean()\n",
    "\n",
    "            # determine low y coordinates\n",
    "            y_cords_low = data_in.loc[(data_in[moderator]==0), :].groupby('DVBin2')[yaxis].mean().values\n",
    "\n",
    "            # determine low y standard errors\n",
    "            test = pd.DataFrame(data_in.loc[(data_in[moderator]==0), :].groupby(['DVBin2', parvar])[yaxis].mean()).reset_index()\n",
    "            y_low_error = test.groupby('DVBin2')[yaxis].std()/np.sqrt(len(test[parvar].unique()))\n",
    "\n",
    "    \n",
    "            # determine high y coordinates\n",
    "            y_cords_high = data_in.loc[(data_in[moderator]==1), :].groupby('DVBin2')[yaxis].mean().values\n",
    "\n",
    "            # determine high y standard errors\n",
    "            test2 = pd.DataFrame(data_in.loc[data_in[moderator]==1, :].groupby(['DVBin2', parvar])[yaxis].mean()).reset_index()\n",
    "            y_high_error = test2.groupby('DVBin2')[yaxis].std()/np.sqrt(len(test[parvar].unique()))\n",
    "\n",
    "            # plot the low points\n",
    "            plt.scatter(x_cords, y_cords_low, c=modlowcol, marker='D', s=60, zorder=1)\n",
    "            # plot low error bars\n",
    "            plt.errorbar(x_cords, y_cords_low, yerr=y_low_error, fmt='o', zorder=3, c=modlowcol)\n",
    "\n",
    "            # plot the high points\n",
    "            plt.scatter(x_cords, y_cords_high, c=modhighcol, marker='o', s=60, zorder=2)\n",
    "            # plot high error bars\n",
    "            plt.errorbar(x_cords, y_cords_high, yerr=y_high_error, fmt='o', zorder=4, c=modhighcol)\n",
    "\n",
    "    \n",
    "            # Set Labels\n",
    "           # sub['%s' % x].set_ylabel(ylab, fontsize=30)\n",
    "           # sub['%s' % x].set_xlabel(xlab, fontsize=30)\n",
    "\n",
    "            # Set Ticks\n",
    "            sub['%s' % x].set_xticks((-5,-3,-1,1,3,5))\n",
    "            sub['%s' % x].set_yticks((0,0.25,0.5,0.75,1))\n",
    "            sub['%s' % x].tick_params(axis='both', which='major', labelsize=30)\n",
    "\n",
    "            # Set Limits\n",
    "            sub['%s' % x].set_ylim(-0.01, 1.01)\n",
    "            sub['%s' % x].set_xlim(-5, 5)\n",
    "        \n",
    "\n",
    "            sns.despine()\n",
    "            \n",
    "            order += 1\n",
    "    \n",
    "    custom_lines = [Line2D([0], [0], color=modhighcol, lw=4),\n",
    "                Line2D([0], [0], color=modlowcol, lw=4)]\n",
    "    fig.legend(custom_lines, [modhigh, modlow],loc = 4 , fontsize=50)       \n",
    "\n",
    "    fig.text(0.5, -0.01, xlab, ha='center',fontsize = 70 )\n",
    "    fig.text(-0.01, 0.5, ylab, va='center',fontsize = 70, rotation='vertical')\n",
    "    \n",
    "    coefs_all = pd.DataFrame(coefs_all,columns=['Participant','Low Coef','Low Intercept','High Coef','High Intercept','All Coef','All Intercept'])\n",
    "    return coefs_all"
   ]
  },
  {
   "cell_type": "code",
   "execution_count": 63,
   "metadata": {},
   "outputs": [],
   "source": [
    "def linealplot_like_dislike (data1,data2,modlow,modhigh, xaxis='zDV', yaxis='G_choice', ylab='P(Chose Reference Item)', xlab='DV (Z-score)',modlowcol='#AAAAAA',modhighcol='#000000', title='empty', parvar='SubNo'):\n",
    "    \n",
    "    sns.set(font_scale=1.5, style='white')\n",
    "    fig = figure(figsize=(8,7))\n",
    "    fig.set_facecolor('white')\n",
    "    \n",
    "    # defining the sigmoid function\n",
    "    def model(x):\n",
    "        y = 1 / (1 + np.exp(-x))\n",
    "        return y\n",
    "    \n",
    "    sub = plt.subplot()\n",
    "\n",
    "\n",
    "\n",
    "    #Plotting the binned data\n",
    "    data1['DVBin2'] = data1.groupby(parvar).apply(parsplit, input=xaxis, quantiles=5).values\n",
    "    data2['DVBin2'] = data2.groupby(parvar).apply(parsplit, input=xaxis, quantiles=5).values\n",
    "    \n",
    "    # determine the x coordinates\n",
    "    x_cords1= data1.groupby('DVBin2')[xaxis].mean()\n",
    "    x_cords2= data2.groupby('DVBin2')[xaxis].mean()\n",
    "    \n",
    "    # determine low y coordinates\n",
    "    y_cords_low = data1.groupby('DVBin2')[yaxis].mean().values\n",
    "    \n",
    "    # determine low y standard errors\n",
    "    test = pd.DataFrame(data1.groupby(['DVBin2', parvar])[yaxis].mean()).reset_index()\n",
    "    y_low_error = test.groupby('DVBin2')[yaxis].std()/np.sqrt(len(test[parvar].unique()))\n",
    "    \n",
    "    \n",
    "    # determine high y coordinates\n",
    "    y_cords_high = data2.groupby('DVBin2')[yaxis].mean().values\n",
    "    \n",
    "    # determine high y standard errors\n",
    "    test2 = pd.DataFrame(data1.groupby(['DVBin2', parvar])[yaxis].mean()).reset_index()\n",
    "    y_high_error = test2.groupby('DVBin2')[yaxis].std()/np.sqrt(len(test[parvar].unique()))\n",
    "    \n",
    "    # plot the low points\n",
    "    plt.scatter(x_cords1, y_cords_low, c=modlowcol, marker='D', s=60, zorder=1,label=modlow)\n",
    "    # plot low error bars\n",
    "    plt.errorbar(x_cords1, y_cords_low, yerr=y_low_error, fmt='o', zorder=3, c=modlowcol)\n",
    "    \n",
    "    # plot the high points\n",
    "    plt.scatter(x_cords2, y_cords_high, c=modhighcol, marker='o', s=60, zorder=2,label=modhigh)\n",
    "    # plot high error bars\n",
    "    plt.errorbar(x_cords2, y_cords_high, yerr=y_high_error, fmt='o', zorder=4, c=modhighcol)\n",
    "    \n",
    "    \n",
    "    # Set Labels\n",
    "    sub.set_ylabel(ylab, fontsize=30)\n",
    "    sub.set_xlabel(xlab, fontsize=30)\n",
    "\n",
    "    # Set Ticks\n",
    "  #  sub.set_xticks((-5,-3,-1,1,3,5))\n",
    "  #  sub.set_yticks((0,0.25,0.5,0.75,1))\n",
    "  #  sub.tick_params(axis='both', which='major', labelsize=20)\n",
    "\n",
    "    # Set Limits\n",
    "  #  sub.set_ylim(-0.01, 1.01)\n",
    "  #  sub.set_xlim(-5, 5)\n",
    "\n",
    "    # Set Title\n",
    "    if title == 'empty':\n",
    "        sub.set_title('')\n",
    "    else:\n",
    "        sub.set_title(title)\n",
    "    \n",
    "    sub.legend(loc=8, prop={'size':20})\n",
    "    sns.despine()"
   ]
  },
  {
   "cell_type": "code",
   "execution_count": 64,
   "metadata": {},
   "outputs": [],
   "source": [
    "def z_score1(data_all, part_def,z_score_var):\n",
    "    z_matrix=[]\n",
    "    z_matrix_aux=[]\n",
    "\n",
    "    for i in (data_all[part_def].unique()):\n",
    "        Choicedata = data_all.loc[data_all[part_def] == i]    \n",
    "    \n",
    "        pX_A= pd.to_numeric(Choicedata[z_score_var]) \n",
    "        pX_zA= (pX_A - np.mean(pX_A))/np.std(pX_A)\n",
    "\n",
    "        z_matrix_aux= pX_zA.values\n",
    "    \n",
    "        for  j in range(len(z_matrix_aux)):    \n",
    "            z_matrix.append(z_matrix_aux[j])\n",
    "    return z_matrix"
   ]
  },
  {
   "cell_type": "code",
   "execution_count": 65,
   "metadata": {},
   "outputs": [],
   "source": [
    "def splitByVar(new_data, Splits_variables,Splits_headers):\n",
    "\n",
    "    median_matrix=[]\n",
    "    median_matrix_aux=[]\n",
    "    median_matrix_aux_cond=[]\n",
    "    Split_cols = []\n",
    "    \n",
    "    for h in range(len(Splits_variables)):\n",
    "        median_matrix=[]\n",
    "        for i in unique(new_data[\"Part\"]):\n",
    "            median_matrix_aux=[]\n",
    "    \n",
    "            for j in unique(new_data[\"BlockCond\"]):\n",
    "                #median_matrix_aux_cond=[]\n",
    "    \n",
    "                #Extract data by participant and BlockCond (1: Like, 2: Dislike)\n",
    "                Splitdata = new_data.loc[new_data['Part'] == i]\n",
    "                Splitdata = Splitdata.loc[Splitdata['BlockCond'] == j]\n",
    "                \n",
    "                # Select the column to split\n",
    "                Splitdata = Splitdata.loc[:,['TrialN',Splits_variables[h]]]\n",
    "                SplitSort = Splitdata.values\n",
    "                # Sort for confidence column\n",
    "                SplitSort = SplitSort[np.argsort(SplitSort[:, 1])]\n",
    "                #print(SplitSort)\n",
    "                lenPart = len(Splitdata)\n",
    "                #print(lenPart)\n",
    "                # Generate column with median order\n",
    "                median_low = [0] * int (lenPart/2)\n",
    "                #print (median_low)\n",
    "                median_high = [1] * int (lenPart/2)\n",
    "                #print (median_high)\n",
    "                median_split_order = median_low + median_high\n",
    "                #Attach split median order column (1 and 0)\n",
    "                median_aux= np.column_stack((SplitSort,median_split_order))\n",
    "                #Sort back to trial number\n",
    "                SplitSorted = median_aux[np.argsort(median_aux[:, 0])]\n",
    "                #print(len(SplitSorted))\n",
    "                \n",
    "                for kk in range(len(SplitSorted)): \n",
    "                    if len(median_matrix_aux) == 0 :\n",
    "                        median_matrix_aux = SplitSorted[0]\n",
    "                    else:\n",
    "                        median_matrix_aux = np.vstack([median_matrix_aux, SplitSorted[kk]])\n",
    "            \n",
    "            #print(len(median_matrix_aux))\n",
    "            # sort after adding both conditions    \n",
    "            median_matrix_aux = median_matrix_aux[np.argsort(median_matrix_aux[:, 0])]\n",
    "            \n",
    "            #Extract only the column with the median split information\n",
    "            median_matrix_aux = median_matrix_aux[:,2]\n",
    "            \n",
    "            #append to median matrix for the participants\n",
    "            for k in range(len(median_matrix_aux)):    \n",
    "                median_matrix.append(median_matrix_aux [k])\n",
    "        \n",
    "        #median_matrix = pd.DataFrame(median_matrix,columns=[Splits_headers[h]])\n",
    "        #print(len (median_matrix))\n",
    "        #add new column (new split variable columns) to the split matrix\n",
    "        if  h == 0:\n",
    "            Split_cols = median_matrix\n",
    "        else:\n",
    "            Split_cols = pd.concat([Split_cols,median_matrix ],axis =1)\n",
    "    return Split_cols\n",
    "\n",
    "        "
   ]
  },
  {
   "cell_type": "raw",
   "metadata": {},
   "source": [
    "<script>\n",
    "  $(document).ready(function(){\n",
    "    $('div.prompt').hide();\n",
    "    $('div.back-to-top').hide();\n",
    "    $('nav#menubar').hide();\n",
    "    $('.breadcrumb').hide();\n",
    "    $('.hidden-print').hide();\n",
    "  });\n",
    "</script>\n",
    "\n",
    "<footer id=\"attribution\" style=\"float:right; color:#999; background:#fff;\">\n",
    "Created with Jupyter, delivered by Fastly, rendered by Rackspace.\n",
    "</footer>"
   ]
  },
  {
   "cell_type": "code",
   "execution_count": null,
   "metadata": {},
   "outputs": [],
   "source": []
  },
  {
   "cell_type": "code",
   "execution_count": null,
   "metadata": {},
   "outputs": [],
   "source": []
  },
  {
   "cell_type": "code",
   "execution_count": null,
   "metadata": {},
   "outputs": [],
   "source": []
  }
 ],
 "metadata": {
  "kernelspec": {
   "display_name": "Python 3",
   "language": "python",
   "name": "python3"
  },
  "language_info": {
   "codemirror_mode": {
    "name": "ipython",
    "version": 3
   },
   "file_extension": ".py",
   "mimetype": "text/x-python",
   "name": "python",
   "nbconvert_exporter": "python",
   "pygments_lexer": "ipython3",
   "version": "3.7.3"
  }
 },
 "nbformat": 4,
 "nbformat_minor": 2
}
