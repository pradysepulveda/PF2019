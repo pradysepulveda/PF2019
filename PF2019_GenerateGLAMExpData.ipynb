{
 "cells": [
  {
   "cell_type": "code",
   "execution_count": 11,
   "metadata": {},
   "outputs": [],
   "source": [
    "import numpy as np\n",
    "import pandas as pd\n",
    "from pandas.core.frame import DataFrame as DF\n",
    "import seaborn as sns\n",
    "sns.set(color_codes=True)\n",
    "#np.random.seed(sum(map(ord, \"distributions\")))\n",
    "from sklearn import linear_model  # packages for the logistic regression function to plot the logistic regression \n",
    "from sklearn.linear_model import LogisticRegression # packages for the logistic regression function to plot the logistic regression \n",
    "import scipy\n",
    "from scipy import stats, integrate\n",
    "from scipy.stats import mode\n",
    "from scipy.stats.stats import pearsonr # Pearson's correlation\n",
    "from copy import copy as copy\n",
    "import operator as operator\n",
    "import pylab"
   ]
  },
  {
   "cell_type": "markdown",
   "metadata": {},
   "source": [
    "## Load data"
   ]
  },
  {
   "cell_type": "code",
   "execution_count": 12,
   "metadata": {},
   "outputs": [],
   "source": [
    "data_exp1 = pd.read_csv('/Users/pradyumna/Documents/GiTs/PF2019/Data/DataPerceptualFramingNotebook_v1.csv') \n"
   ]
  },
  {
   "cell_type": "code",
   "execution_count": 13,
   "metadata": {},
   "outputs": [],
   "source": [
    "data_exp1 = data_exp1.apply(pd.to_numeric, errors='ignore')\n",
    "expdata_frame = data_exp1.loc[:,['Part', 'TrialN','ChoiceRT', 'ChosenITM','LValue','RValue','BlockCond'] ]\n",
    "\n",
    "expdata_frame['ChosenITM'] = expdata_frame['ChosenITM'].apply(lambda x:1 if x else -1)\n",
    "expdata_frame['TrialN'] = expdata_frame['TrialN'].apply(lambda x: x-1)\n",
    "\n",
    "part_names_exclud = expdata_frame[\"Part\"].unique()\n",
    "part_names_exclude_num = range(len(part_names_exclud))"
   ]
  },
  {
   "cell_type": "code",
   "execution_count": 14,
   "metadata": {},
   "outputs": [
    {
     "name": "stdout",
     "output_type": "stream",
     "text": [
      "[ 1  2  3  4  5  6  7  8  9 10 11 12 13 14 15 16 17 18 19 20 21 22 23 24\n",
      " 25 26 27 28 29 30 31 32 33]\n",
      "range(0, 33)\n"
     ]
    }
   ],
   "source": [
    "print(part_names_exclud)\n",
    "part_names_exclud\n",
    "part_names_exclud[0]\n",
    "\n",
    "print(part_names_exclude_num)"
   ]
  },
  {
   "cell_type": "code",
   "execution_count": 15,
   "metadata": {},
   "outputs": [
    {
     "name": "stdout",
     "output_type": "stream",
     "text": [
      "[1, 0]\n",
      "[2, 1]\n",
      "[3, 2]\n",
      "[4, 3]\n",
      "[5, 4]\n",
      "[6, 5]\n",
      "[7, 6]\n",
      "[8, 7]\n",
      "[9, 8]\n",
      "[10, 9]\n",
      "[11, 10]\n",
      "[12, 11]\n",
      "[13, 12]\n",
      "[14, 13]\n",
      "[15, 14]\n",
      "[16, 15]\n",
      "[17, 16]\n",
      "[18, 17]\n",
      "[19, 18]\n",
      "[20, 19]\n",
      "[21, 20]\n",
      "[22, 21]\n",
      "[23, 22]\n",
      "[24, 23]\n",
      "[25, 24]\n",
      "[26, 25]\n",
      "[27, 26]\n",
      "[28, 27]\n",
      "[29, 28]\n",
      "[30, 29]\n",
      "[31, 30]\n",
      "[32, 31]\n",
      "[33, 32]\n"
     ]
    },
    {
     "data": {
      "text/plain": [
       "array(['LESS', 'MORE'], dtype=object)"
      ]
     },
     "execution_count": 15,
     "metadata": {},
     "output_type": "execute_result"
    }
   ],
   "source": [
    "# Print correspondence of participant number post and pre elimination  participants\n",
    "for i in part_names_exclude_num:\n",
    "    a_var = part_names_exclud[i]\n",
    "    c_var = i\n",
    "    print ([a_var,c_var])\n",
    "    #expdata_frame['Part'] = expdata_frame['Part'].apply(lambda x:c_var if x==a_var else x)\n",
    "\n",
    "expdata_frame.columns = ['parcode', 'trial', 'rt', 'choice', 'item_left','item_right','BlockCond']\n",
    "expdata_frame.BlockCond.unique()"
   ]
  },
  {
   "cell_type": "code",
   "execution_count": 16,
   "metadata": {},
   "outputs": [],
   "source": [
    "expdata_frame_more = expdata_frame.loc[expdata_frame['BlockCond'] == 'MORE'] # 1 = MORE, 2 = LESS\n",
    "expdata_frame_less = expdata_frame.loc[expdata_frame['BlockCond'] == 'LESS'] \n",
    "\n",
    "expdata_frame_more = expdata_frame_more.drop(['BlockCond'], 1)\n",
    "expdata_frame_less = expdata_frame_less.drop(['BlockCond'], 1)"
   ]
  },
  {
   "cell_type": "code",
   "execution_count": 17,
   "metadata": {},
   "outputs": [],
   "source": [
    "expdata_frame_more.to_csv(\"Output/expdata_PF2019_More_33.csv\",index = False)\n",
    "expdata_frame_less.to_csv(\"Output/expdata_PF2019_Less_33.csv\",index = False)"
   ]
  },
  {
   "cell_type": "code",
   "execution_count": null,
   "metadata": {},
   "outputs": [],
   "source": []
  },
  {
   "cell_type": "code",
   "execution_count": null,
   "metadata": {},
   "outputs": [],
   "source": []
  }
 ],
 "metadata": {
  "kernelspec": {
   "display_name": "Python 3",
   "language": "python",
   "name": "python3"
  },
  "language_info": {
   "codemirror_mode": {
    "name": "ipython",
    "version": 3
   },
   "file_extension": ".py",
   "mimetype": "text/x-python",
   "name": "python",
   "nbconvert_exporter": "python",
   "pygments_lexer": "ipython3",
   "version": "3.7.0"
  }
 },
 "nbformat": 4,
 "nbformat_minor": 2
}
