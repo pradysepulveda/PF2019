{
 "cells": [
  {
   "cell_type": "markdown",
   "metadata": {},
   "source": [
    "# Calculate z-score for the value data to use in aDDM"
   ]
  },
  {
   "cell_type": "code",
   "execution_count": 1,
   "metadata": {},
   "outputs": [],
   "source": [
    "import numpy as np\n",
    "import pandas as pd\n",
    "from pandas.core.frame import DataFrame as DF\n",
    "import seaborn as sns\n",
    "sns.set(color_codes=True)\n",
    "#np.random.seed(sum(map(ord, \"distributions\")))\n",
    "from sklearn import linear_model  # packages for the logistic regression function to plot the logistic regression \n",
    "from sklearn.linear_model import LogisticRegression # packages for the logistic regression function to plot the logistic regression \n",
    "import scipy\n",
    "from scipy import stats, integrate\n",
    "from scipy.stats import mode\n",
    "from scipy.stats.stats import pearsonr # Pearson's correlation\n",
    "from copy import copy as copy\n",
    "import operator as operator\n",
    "import pylab"
   ]
  },
  {
   "cell_type": "code",
   "execution_count": 2,
   "metadata": {},
   "outputs": [],
   "source": [
    "def z_score1(data_all, part_def,z_score_var):\n",
    "    z_matrix=[]\n",
    "    z_matrix_aux=[]\n",
    "\n",
    "    for i in (data_all[part_def].unique()):\n",
    "        Choicedata = data_all.loc[data_all[part_def] == i]    \n",
    "    \n",
    "        pX_A= pd.to_numeric(Choicedata[z_score_var]) \n",
    "        pX_zA= (pX_A - np.mean(pX_A))/np.std(pX_A)\n",
    "\n",
    "        z_matrix_aux= pX_zA.values\n",
    "    \n",
    "        for  j in range(len(z_matrix_aux)):    \n",
    "            z_matrix.append(z_matrix_aux[j])\n",
    "    return z_matrix"
   ]
  },
  {
   "cell_type": "markdown",
   "metadata": {},
   "source": [
    "## load dataframes"
   ]
  },
  {
   "cell_type": "code",
   "execution_count": 3,
   "metadata": {},
   "outputs": [],
   "source": [
    "data_exp1 = pd.read_csv('/Users/pradyumna/Documents/GiTs/PF2019/Output/expdata_PF2019_More_33.csv') \n",
    "data_exp2 = pd.read_csv('/Users/pradyumna/Documents/GiTs/PF2019/Output/expdata_PF2019_Less_33.csv') \n",
    "data_exp3 = pd.read_csv('/Users/pradyumna/Documents/GiTs/PF2019/Output/expdata_PF2019_Less_33.csv') "
   ]
  },
  {
   "cell_type": "markdown",
   "metadata": {},
   "source": [
    "## remove participants to exclude from analysis \n",
    "### participant 31"
   ]
  },
  {
   "cell_type": "code",
   "execution_count": 4,
   "metadata": {},
   "outputs": [],
   "source": [
    "data_exp1 = data_exp1[data_exp1.parcode != 31]\n",
    "data_exp2 = data_exp2[data_exp2.parcode != 31]\n",
    "data_exp3 = data_exp3[data_exp3.parcode != 31]"
   ]
  },
  {
   "cell_type": "markdown",
   "metadata": {},
   "source": [
    "## calculate inverse values for Less"
   ]
  },
  {
   "cell_type": "code",
   "execution_count": 5,
   "metadata": {},
   "outputs": [],
   "source": [
    "data_exp3['item_left_inv'] = 133 - data_exp3[\"item_left\"] +40 \n",
    "data_exp3['item_right_inv'] = 133 - data_exp3[\"item_right\"]+ 40 \n",
    "\n",
    "## remove old columns for this case\n",
    "\n",
    "data_exp3=data_exp3.drop( columns= [\"item_left\", \"item_right\"])\n",
    "data_exp3=data_exp3.rename(index=str, columns={\"item_left_inv\":\"item_left\", \n",
    "                              \"item_right_inv\":\"item_right\"})"
   ]
  },
  {
   "cell_type": "markdown",
   "metadata": {},
   "source": [
    "## fix numeration for trials"
   ]
  },
  {
   "cell_type": "code",
   "execution_count": 6,
   "metadata": {},
   "outputs": [],
   "source": [
    "new_trial_nums2 = []\n",
    "new_trial_nums1 = []\n",
    "for i in data_exp1.parcode.unique():\n",
    "    new_trial_nums2 = list(range(len(data_exp1.loc[data_exp1['parcode'] == i].trial.unique())))\n",
    "    new_trial_nums1.append(new_trial_nums2)\n",
    "#make flat list    \n",
    "new_trial_nums = [item for sublist in new_trial_nums1 for item in sublist]"
   ]
  },
  {
   "cell_type": "markdown",
   "metadata": {},
   "source": [
    "## drop old trial numeration and replace it"
   ]
  },
  {
   "cell_type": "code",
   "execution_count": 7,
   "metadata": {},
   "outputs": [],
   "source": [
    "data_exp1 = data_exp1.drop(columns= [\"trial\"])\n",
    "data_exp2 = data_exp2.drop(columns= [\"trial\"])\n",
    "data_exp3 = data_exp3.drop(columns= [\"trial\"])\n",
    "\n",
    "data_exp1[\"trial\"] = new_trial_nums\n",
    "data_exp2[\"trial\"] = new_trial_nums\n",
    "data_exp3[\"trial\"] = new_trial_nums"
   ]
  },
  {
   "cell_type": "markdown",
   "metadata": {},
   "source": [
    "## z-score columns"
   ]
  },
  {
   "cell_type": "code",
   "execution_count": 8,
   "metadata": {},
   "outputs": [],
   "source": [
    "data_exp1[\"z_item_left\"] = z_score1(data_exp1,'parcode',\"item_left\")\n",
    "data_exp1[\"z_item_right\"] = z_score1(data_exp1,'parcode',\"item_right\")\n",
    "\n",
    "data_exp2[\"z_item_left\"] = z_score1(data_exp2,'parcode',\"item_left\")\n",
    "data_exp2[\"z_item_right\"] = z_score1(data_exp2,'parcode',\"item_right\")\n",
    "\n",
    "data_exp3[\"z_item_left\"] = z_score1(data_exp3,'parcode',\"item_left\")\n",
    "data_exp3[\"z_item_right\"] = z_score1(data_exp3,'parcode',\"item_right\")"
   ]
  },
  {
   "cell_type": "markdown",
   "metadata": {},
   "source": [
    "## remove old value column and change name of the colummn"
   ]
  },
  {
   "cell_type": "code",
   "execution_count": 9,
   "metadata": {},
   "outputs": [],
   "source": [
    "data_exp1=data_exp1.drop( columns= [\"item_left\", \"item_right\"])\n",
    "data_exp2=data_exp2.drop( columns= [\"item_left\", \"item_right\"])\n",
    "data_exp3=data_exp3.drop( columns= [\"item_left\", \"item_right\"])\n",
    "\n",
    "\n",
    "data_exp1=data_exp1.rename(index=str, columns={\"z_item_left\":\"item_left\", \n",
    "                              \"z_item_right\":\"item_right\"})\n",
    "data_exp2=data_exp2.rename(index=str, columns={\"z_item_left\":\"item_left\", \n",
    "                              \"z_item_right\":\"item_right\"})\n",
    "data_exp3=data_exp3.rename(index=str, columns={\"z_item_left\":\"item_left\", \n",
    "                              \"z_item_right\":\"item_right\"})"
   ]
  },
  {
   "cell_type": "markdown",
   "metadata": {},
   "source": [
    "## take out negative values from value list (displace each participant individually the min)"
   ]
  },
  {
   "cell_type": "code",
   "execution_count": 10,
   "metadata": {},
   "outputs": [],
   "source": [
    "## data_exp1_R = []\n",
    "## data_exp1_L = []\n",
    "## \n",
    "## for i in data_exp1[\"parcode\"].unique():\n",
    "##     data_exp1_L_min = data_exp1.loc[data_exp1['parcode'] == i].item_left.values + np.abs(data_exp1.loc[data_exp1['parcode'] == i].item_left.min())\n",
    "##     data_exp1_R_min = data_exp1.loc[data_exp1['parcode'] == i].item_right.values +  np.abs(data_exp1.loc[data_exp1['parcode'] == i].item_right.min()) \n",
    "## \n",
    "##     data_exp1.loc[data_exp1['parcode'] == i, 'item_left'] = data_exp1_L_min\n",
    "##     data_exp1.loc[data_exp1['parcode'] == i, 'item_right'] = data_exp1_R_min"
   ]
  },
  {
   "cell_type": "markdown",
   "metadata": {},
   "source": [
    "## save files"
   ]
  },
  {
   "cell_type": "code",
   "execution_count": 11,
   "metadata": {},
   "outputs": [],
   "source": [
    "data_exp1.to_csv(\"InputData_aDDM/aDDM_expdata_PF2019_More_zScore_32.csv\",index = True)\n",
    "data_exp2.to_csv(\"InputData_aDDM/aDDM_expdata_PF2019_Less_zScore_32.csv\",index = True)\n",
    "data_exp3.to_csv(\"InputData_aDDM/aDDM_expdata_PF2019_Less_zScore_32_Inv.csv\",index = True)"
   ]
  },
  {
   "cell_type": "code",
   "execution_count": null,
   "metadata": {},
   "outputs": [],
   "source": []
  }
 ],
 "metadata": {
  "kernelspec": {
   "display_name": "Python 3",
   "language": "python",
   "name": "python3"
  },
  "language_info": {
   "codemirror_mode": {
    "name": "ipython",
    "version": 3
   },
   "file_extension": ".py",
   "mimetype": "text/x-python",
   "name": "python",
   "nbconvert_exporter": "python",
   "pygments_lexer": "ipython3",
   "version": "3.7.3"
  }
 },
 "nbformat": 4,
 "nbformat_minor": 2
}
